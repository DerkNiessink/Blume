{
 "cells": [
  {
   "cell_type": "code",
   "execution_count": 2,
   "metadata": {},
   "outputs": [],
   "source": [
    "import scienceplots\n",
    "import matplotlib.pyplot as plt\n",
    "import numpy as np\n",
    "from lmfit import Model\n",
    "import os\n",
    "import sys\n",
    "\n",
    "sys.path.append(\"../..\")\n",
    "\n",
    "from blume.process import read, compute, plot_file\n",
    "from blume.run import Results, ModelParameters\n",
    "from blume.model.post_props import Prop\n",
    "\n",
    "\n",
    "\n",
    "plt.style.use(\"science\")\n",
    "plt.rcParams[\"text.usetex\"] = True"
   ]
  },
  {
   "cell_type": "code",
   "execution_count": 17,
   "metadata": {},
   "outputs": [
    {
     "name": "stderr",
     "output_type": "stream",
     "text": [
      "coupling=0.0: 100%|██████████| 750/750 [01:30<00:00,  8.29it/s]\n"
     ]
    },
    {
     "name": "stdout",
     "output_type": "stream",
     "text": [
      "Saving data in folder: '16-05 13:30'\n",
      "Done \n",
      "\n"
     ]
    },
    {
     "name": "stderr",
     "output_type": "stream",
     "text": [
      "coupling=0.1: 100%|██████████| 750/750 [01:30<00:00,  8.30it/s]\n"
     ]
    },
    {
     "name": "stdout",
     "output_type": "stream",
     "text": [
      "Saving data in folder: '16-05 13:30'\n",
      "Done \n",
      "\n"
     ]
    },
    {
     "name": "stderr",
     "output_type": "stream",
     "text": [
      "coupling=0.2: 100%|██████████| 750/750 [01:32<00:00,  8.07it/s]\n"
     ]
    },
    {
     "name": "stdout",
     "output_type": "stream",
     "text": [
      "Saving data in folder: '16-05 13:30'\n",
      "Done \n",
      "\n"
     ]
    },
    {
     "name": "stderr",
     "output_type": "stream",
     "text": [
      "coupling=0.30000000000000004: 100%|██████████| 750/750 [01:51<00:00,  6.72it/s]\n"
     ]
    },
    {
     "name": "stdout",
     "output_type": "stream",
     "text": [
      "Saving data in folder: '16-05 13:30'\n",
      "Done \n",
      "\n"
     ]
    },
    {
     "name": "stderr",
     "output_type": "stream",
     "text": [
      "coupling=0.4: 100%|██████████| 750/750 [01:46<00:00,  7.01it/s]\n"
     ]
    },
    {
     "name": "stdout",
     "output_type": "stream",
     "text": [
      "Saving data in folder: '16-05 13:30'\n",
      "Done \n",
      "\n"
     ]
    },
    {
     "name": "stderr",
     "output_type": "stream",
     "text": [
      "coupling=0.5: 100%|██████████| 750/750 [01:37<00:00,  7.66it/s]\n"
     ]
    },
    {
     "name": "stdout",
     "output_type": "stream",
     "text": [
      "Saving data in folder: '16-05 13:30'\n",
      "Done \n",
      "\n"
     ]
    },
    {
     "name": "stderr",
     "output_type": "stream",
     "text": [
      "coupling=0.6000000000000001: 100%|██████████| 750/750 [01:34<00:00,  7.91it/s]\n"
     ]
    },
    {
     "name": "stdout",
     "output_type": "stream",
     "text": [
      "Saving data in folder: '16-05 13:30'\n",
      "Done \n",
      "\n"
     ]
    },
    {
     "name": "stderr",
     "output_type": "stream",
     "text": [
      "coupling=0.7000000000000001: 100%|██████████| 750/750 [03:37<00:00,  3.44it/s]  \n"
     ]
    },
    {
     "name": "stdout",
     "output_type": "stream",
     "text": [
      "Saving data in folder: '16-05 13:30'\n",
      "Done \n",
      "\n"
     ]
    },
    {
     "name": "stderr",
     "output_type": "stream",
     "text": [
      "coupling=0.8: 100%|██████████| 750/750 [01:54<00:00,  6.53it/s]\n"
     ]
    },
    {
     "name": "stdout",
     "output_type": "stream",
     "text": [
      "Saving data in folder: '16-05 13:30'\n",
      "Done \n",
      "\n"
     ]
    },
    {
     "name": "stderr",
     "output_type": "stream",
     "text": [
      "coupling=0.9: 100%|██████████| 750/750 [01:35<00:00,  7.83it/s]\n"
     ]
    },
    {
     "name": "stdout",
     "output_type": "stream",
     "text": [
      "Saving data in folder: '16-05 13:30'\n",
      "Done \n",
      "\n"
     ]
    },
    {
     "name": "stderr",
     "output_type": "stream",
     "text": [
      "coupling=1.0: 100%|██████████| 750/750 [01:57<00:00,  6.40it/s]  \n"
     ]
    },
    {
     "name": "stdout",
     "output_type": "stream",
     "text": [
      "Saving data in folder: '16-05 13:30'\n",
      "Done \n",
      "\n"
     ]
    },
    {
     "name": "stderr",
     "output_type": "stream",
     "text": [
      "coupling=1.1: 100%|██████████| 750/750 [02:26<00:00,  5.12it/s]  \n"
     ]
    },
    {
     "name": "stdout",
     "output_type": "stream",
     "text": [
      "Saving data in folder: '16-05 13:30'\n",
      "Done \n",
      "\n"
     ]
    },
    {
     "name": "stderr",
     "output_type": "stream",
     "text": [
      "coupling=1.2000000000000002: 100%|██████████| 750/750 [01:46<00:00,  7.04it/s]\n"
     ]
    },
    {
     "name": "stdout",
     "output_type": "stream",
     "text": [
      "Saving data in folder: '16-05 13:30'\n",
      "Done \n",
      "\n"
     ]
    },
    {
     "name": "stderr",
     "output_type": "stream",
     "text": [
      "coupling=1.3: 100%|██████████| 750/750 [01:40<00:00,  7.43it/s]\n"
     ]
    },
    {
     "name": "stdout",
     "output_type": "stream",
     "text": [
      "Saving data in folder: '16-05 13:30'\n",
      "Done \n",
      "\n"
     ]
    },
    {
     "name": "stderr",
     "output_type": "stream",
     "text": [
      "coupling=1.4000000000000001: 100%|██████████| 750/750 [02:31<00:00,  4.95it/s]  \n"
     ]
    },
    {
     "name": "stdout",
     "output_type": "stream",
     "text": [
      "Saving data in folder: '16-05 13:30'\n",
      "Done \n",
      "\n"
     ]
    },
    {
     "name": "stderr",
     "output_type": "stream",
     "text": [
      "coupling=1.5: 100%|██████████| 750/750 [01:40<00:00,  7.49it/s]\n"
     ]
    },
    {
     "name": "stdout",
     "output_type": "stream",
     "text": [
      "Saving data in folder: '16-05 13:30'\n",
      "Done \n",
      "\n"
     ]
    },
    {
     "name": "stderr",
     "output_type": "stream",
     "text": [
      "coupling=1.6: 100%|██████████| 750/750 [02:10<00:00,  5.77it/s]  \n"
     ]
    },
    {
     "name": "stdout",
     "output_type": "stream",
     "text": [
      "Saving data in folder: '16-05 13:30'\n",
      "Done \n",
      "\n"
     ]
    },
    {
     "name": "stderr",
     "output_type": "stream",
     "text": [
      "coupling=1.7000000000000002: 100%|██████████| 750/750 [02:20<00:00,  5.32it/s]  \n"
     ]
    },
    {
     "name": "stdout",
     "output_type": "stream",
     "text": [
      "Saving data in folder: '16-05 13:30'\n",
      "Done \n",
      "\n"
     ]
    },
    {
     "name": "stderr",
     "output_type": "stream",
     "text": [
      "coupling=1.8: 100%|██████████| 750/750 [01:46<00:00,  7.05it/s]  \n"
     ]
    },
    {
     "name": "stdout",
     "output_type": "stream",
     "text": [
      "Saving data in folder: '16-05 13:30'\n",
      "Done \n",
      "\n"
     ]
    },
    {
     "name": "stderr",
     "output_type": "stream",
     "text": [
      "coupling=1.9000000000000001: 100%|██████████| 750/750 [02:38<00:00,  4.73it/s] \n"
     ]
    },
    {
     "name": "stdout",
     "output_type": "stream",
     "text": [
      "Saving data in folder: '16-05 13:30'\n",
      "Done \n",
      "\n"
     ]
    }
   ],
   "source": [
    "deltas = [delta for delta in np.arange(0, 2, 0.1)]\n",
    "result = Results(varying_param=\"coupling\", range=deltas)\n",
    "params = ModelParameters(model = \"blume\", T_range=(1, 1.75), step=0.001, tol=1e-9, max_steps=int(10e9), use_prev=True, chi=12)\n",
    "result.get(params)"
   ]
  },
  {
   "cell_type": "code",
   "execution_count": 18,
   "metadata": {},
   "outputs": [],
   "source": [
    "deltas = [delta for delta in np.arange(0, 2, 0.1)]"
   ]
  },
  {
   "cell_type": "code",
   "execution_count": 19,
   "metadata": {},
   "outputs": [],
   "source": [
    "# Make dir for saving the plots\n",
    "dir = \"16-05 13:30\"\n",
    "path_dir = f\"data/{dir}/plots\"\n",
    "if not os.path.isdir(path_dir):\n",
    "    os.mkdir(path_dir)"
   ]
  },
  {
   "cell_type": "code",
   "execution_count": 20,
   "metadata": {},
   "outputs": [
    {
     "data": {
      "image/png": "[encoded data removed]",
      "text/plain": [
       "<Figure size 700x500 with 1 Axes>"
      ]
     },
     "metadata": {},
     "output_type": "display_data"
    }
   ],
   "source": [
    "plt.figure(figsize=(7, 5))\n",
    "T_range = (0.1, 3)\n",
    "for delta in deltas:\n",
    "    line = plot_file(fn=f\"coupling{delta}\", range=T_range, prop=Prop.m, folder=dir)\n",
    "    line.set_label(rf\"$\\Delta = {delta}$\")\n",
    "plt.xlabel(r\"$T$\", fontsize=15)\n",
    "plt.ylabel(r\"m\", fontsize=15)\n",
    "#plt.ylim(0)\n",
    "plt.title(\"$\\Delta$ in $[0.. 2)$, stepsize $= 0.1$\", fontsize = 15)\n",
    "plt.show()"
   ]
  },
  {
   "cell_type": "code",
   "execution_count": 22,
   "metadata": {},
   "outputs": [
    {
     "data": {
      "text/plain": [
       "[(0.0, 1.6949999999999235),\n",
       " (0.1, 1.6779999999999253),\n",
       " (0.2, 1.6599999999999273),\n",
       " (0.30000000000000004, 1.6399999999999295),\n",
       " (0.4, 1.6199999999999317),\n",
       " (0.5, 1.598999999999934),\n",
       " (0.6000000000000001, 1.5759999999999366),\n",
       " (0.7000000000000001, 1.5509999999999393),\n",
       " (0.8, 1.5249999999999422),\n",
       " (0.9, 1.4979999999999452),\n",
       " (1.0, 1.4679999999999485),\n",
       " (1.1, 1.435999999999952),\n",
       " (1.2000000000000002, 1.4019999999999557),\n",
       " (1.3, 1.3649999999999598),\n",
       " (1.4000000000000001, 1.3239999999999643),\n",
       " (1.5, 1.2799999999999692),\n",
       " (1.6, 1.2299999999999747),\n",
       " (1.7000000000000002, 1.1739999999999808),\n",
       " (1.8, 1.1099999999999879),\n",
       " (1.9000000000000001, 1.0319999999999965)]"
      ]
     },
     "execution_count": 22,
     "metadata": {},
     "output_type": "execute_result"
    }
   ],
   "source": [
    "T_stars = []\n",
    "deltas = [delta for delta in np.arange(0, 2, 0.1)]\n",
    "for delta in deltas:\n",
    "    data = read(\"16-05 13:30\", f\"coupling{delta}\")\n",
    "    xis = compute(Prop.xi, data)\n",
    "    T_star = data[\"temperatures\"][xis.index(max(xis))]\n",
    "    T_stars.append(T_star)\n",
    "\n",
    "T_stars_delta = list(zip(deltas, T_stars))\n",
    "T_stars_delta"
   ]
  },
  {
   "cell_type": "code",
   "execution_count": 23,
   "metadata": {},
   "outputs": [],
   "source": [
    "deltas, T_stars = zip(*T_stars_delta)"
   ]
  },
  {
   "cell_type": "code",
   "execution_count": 29,
   "metadata": {},
   "outputs": [
    {
     "data": {
      "image/png": "[encoded data removed]",
      "text/plain": [
       "<Figure size 700x500 with 1 Axes>"
      ]
     },
     "metadata": {},
     "output_type": "display_data"
    }
   ],
   "source": [
    "plt.figure(figsize=(7,5))\n",
    "plt.plot(deltas, T_stars, \"o-\", markersize=3)\n",
    "plt.ylabel(\"$T^*_c(\\Delta)$\", fontsize=15)\n",
    "plt.xlabel(\"$\\Delta$\", fontsize=15)\n",
    "plt.xlim(-0.1, 2)\n",
    "plt.ylim(0, 1.75)\n",
    "plt.show()"
   ]
  },
  {
   "cell_type": "code",
   "execution_count": 31,
   "metadata": {},
   "outputs": [
    {
     "data": {
      "image/png": "[encoded data removed]",
      "text/plain": [
       "<Figure size 700x500 with 1 Axes>"
      ]
     },
     "metadata": {},
     "output_type": "display_data"
    }
   ],
   "source": [
    "plt.figure(figsize=(7, 5))\n",
    "spec_heats = []\n",
    "for delta in deltas:\n",
    "    data = read(\"16-05 13:30\", f\"coupling{delta}\")\n",
    "    energies = compute(Prop.Es, data)\n",
    "    temps = data[\"temperatures\"]\n",
    "    heats = np.diff(energies) / np.diff(temps)\n",
    "    spec_heats.append(heats[399])\n",
    "    plt.plot(temps[:-1], heats, label=f\"$\\Delta = {delta}$\")\n",
    "\n",
    "plt.title(\"$\\Delta$ in $[0.. 2)$, stepsize $= 0.05$\", fontsize = 15)\n",
    "plt.xlabel(\"$T$\", fontsize=15)\n",
    "plt.ylabel(\"$C(T)$\", fontsize=15)\n",
    "plt.show()\n"
   ]
  },
  {
   "cell_type": "code",
   "execution_count": 33,
   "metadata": {},
   "outputs": [
    {
     "data": {
      "image/png": "[encoded data removed]",
      "text/plain": [
       "<Figure size 700x500 with 1 Axes>"
      ]
     },
     "metadata": {},
     "output_type": "display_data"
    }
   ],
   "source": [
    "plt.figure(figsize=(7,5))\n",
    "plt.plot(deltas, spec_heats, \"x-\")\n",
    "plt.xlabel(\"$\\Delta$\", fontsize=15)\n",
    "plt.ylabel(\"$C(\\Delta)$\", fontsize=15)\n",
    "plt.title(\"$T = 1.4$\")\n",
    "plt.xlim(-0.1, 2)\n",
    "plt.show()\n"
   ]
  },
  {
   "cell_type": "code",
   "execution_count": 34,
   "metadata": {},
   "outputs": [
    {
     "name": "stderr",
     "output_type": "stream",
     "text": [
      "max_steps=16: 100%|██████████| 1250/1250 [00:49<00:00, 25.16it/s]\n"
     ]
    },
    {
     "name": "stdout",
     "output_type": "stream",
     "text": [
      "Saving data in folder: '16-05 15:29'\n",
      "Done \n",
      "\n"
     ]
    },
    {
     "name": "stderr",
     "output_type": "stream",
     "text": [
      "max_steps=36: 100%|██████████| 1250/1250 [01:34<00:00, 13.29it/s]\n"
     ]
    },
    {
     "name": "stdout",
     "output_type": "stream",
     "text": [
      "Saving data in folder: '16-05 15:29'\n",
      "Done \n",
      "\n"
     ]
    },
    {
     "name": "stderr",
     "output_type": "stream",
     "text": [
      "max_steps=56: 100%|██████████| 1250/1250 [01:52<00:00, 11.15it/s]\n"
     ]
    },
    {
     "name": "stdout",
     "output_type": "stream",
     "text": [
      "Saving data in folder: '16-05 15:29'\n",
      "Done \n",
      "\n"
     ]
    },
    {
     "name": "stderr",
     "output_type": "stream",
     "text": [
      "max_steps=76: 100%|██████████| 1250/1250 [02:03<00:00, 10.15it/s]\n"
     ]
    },
    {
     "name": "stdout",
     "output_type": "stream",
     "text": [
      "Saving data in folder: '16-05 15:29'\n",
      "Done \n",
      "\n"
     ]
    }
   ],
   "source": [
    "sizes = [16, 36, 56, 76]\n",
    "result = Results(varying_param=\"max_steps\", range=sizes)\n",
    "params = ModelParameters(model = \"blume\", T_range=(0.5, 1.75), step=0.001, tol=1e-9, chi=16, b_c = True, fixed=True)\n",
    "result.get(params)"
   ]
  },
  {
   "cell_type": "code",
   "execution_count": 36,
   "metadata": {},
   "outputs": [],
   "source": [
    "# Make dir for saving the plots\n",
    "dir = \"16-05 15:29\"\n",
    "path_dir = f\"data/{dir}/plots\"\n",
    "if not os.path.isdir(path_dir):\n",
    "    os.mkdir(path_dir)"
   ]
  },
  {
   "cell_type": "code",
   "execution_count": 38,
   "metadata": {},
   "outputs": [
    {
     "data": {
      "image/png": "[encoded data removed]",
      "text/plain": [
       "<Figure size 700x500 with 1 Axes>"
      ]
     },
     "metadata": {},
     "output_type": "display_data"
    }
   ],
   "source": [
    "plt.figure(figsize=(7, 5))\n",
    "T_range = (0.1, 3)\n",
    "for size in [16, 36, 56, 76]:\n",
    "    line = plot_file(fn=f\"max_steps{size}\", range=T_range, prop=Prop.m_fixed, folder=dir)\n",
    "    line.set_label(rf\"$L = {size+4}$\")\n",
    "plt.xlabel(r\"$T$\", fontsize=15)\n",
    "plt.ylabel(r\"m\", fontsize=15)\n",
    "#plt.ylim(0)\n",
    "plt.title(\"$\\chi = 16$\")\n",
    "plt.xlim(1.3, 1.75)\n",
    "plt.legend()\n",
    "plt.savefig(f\"{path_dir}/magnetizations\")"
   ]
  },
  {
   "cell_type": "code",
   "execution_count": 42,
   "metadata": {},
   "outputs": [
    {
     "data": {
      "image/png": "[encoded data removed]",
      "text/plain": [
       "<Figure size 700x500 with 1 Axes>"
      ]
     },
     "metadata": {},
     "output_type": "display_data"
    }
   ],
   "source": [
    "plt.figure(figsize=(7, 5))\n",
    "for size in [16, 36, 56, 76]:\n",
    "    data = read(\"16-05 15:29\", f\"max_steps{size}\")\n",
    "    energies = compute(Prop.Es, data)\n",
    "    temps = data[\"temperatures\"]\n",
    "    heats = np.diff(energies) / np.diff(temps)\n",
    "    plt.plot(temps[:-1], heats, label=f\"$L = {size+4}$\")\n",
    "\n",
    "plt.title(\"$\\chi = 16,\\; \\Delta = 1$\")\n",
    "plt.xlim(1, 1.75)\n",
    "plt.xlabel(\"$T$\", fontsize=15)\n",
    "plt.ylabel(\"$C(T)$\", fontsize=15)\n",
    "plt.legend()\n",
    "plt.show()"
   ]
  },
  {
   "cell_type": "code",
   "execution_count": 43,
   "metadata": {},
   "outputs": [
    {
     "name": "stderr",
     "output_type": "stream",
     "text": [
      "coupling=0.0: 100%|██████████| 950/950 [00:30<00:00, 30.92it/s]\n"
     ]
    },
    {
     "name": "stdout",
     "output_type": "stream",
     "text": [
      "Saving data in folder: '16-05 15:51'\n",
      "Done \n",
      "\n"
     ]
    },
    {
     "name": "stderr",
     "output_type": "stream",
     "text": [
      "coupling=0.2: 100%|██████████| 950/950 [00:31<00:00, 30.34it/s]\n"
     ]
    },
    {
     "name": "stdout",
     "output_type": "stream",
     "text": [
      "Saving data in folder: '16-05 15:51'\n",
      "Done \n",
      "\n"
     ]
    },
    {
     "name": "stderr",
     "output_type": "stream",
     "text": [
      "coupling=0.4: 100%|██████████| 950/950 [00:32<00:00, 29.67it/s]\n"
     ]
    },
    {
     "name": "stdout",
     "output_type": "stream",
     "text": [
      "Saving data in folder: '16-05 15:51'\n",
      "Done \n",
      "\n"
     ]
    },
    {
     "name": "stderr",
     "output_type": "stream",
     "text": [
      "coupling=0.6000000000000001: 100%|██████████| 950/950 [00:32<00:00, 29.53it/s]\n"
     ]
    },
    {
     "name": "stdout",
     "output_type": "stream",
     "text": [
      "Saving data in folder: '16-05 15:51'\n",
      "Done \n",
      "\n"
     ]
    },
    {
     "name": "stderr",
     "output_type": "stream",
     "text": [
      "coupling=0.8: 100%|██████████| 950/950 [00:33<00:00, 28.78it/s]\n"
     ]
    },
    {
     "name": "stdout",
     "output_type": "stream",
     "text": [
      "Saving data in folder: '16-05 15:51'\n",
      "Done \n",
      "\n"
     ]
    }
   ],
   "source": [
    "deltas = [delta for delta in np.arange(0, 1, 0.2)]\n",
    "result = Results(varying_param=\"coupling\", range=deltas)\n",
    "params = ModelParameters(model = \"blume\", T_range=(0.8, 1.75), step=0.001, tol=1e-9, chi=8, b_c = True, fixed=True, max_steps=32)\n",
    "result.get(params)"
   ]
  },
  {
   "cell_type": "code",
   "execution_count": 45,
   "metadata": {},
   "outputs": [
    {
     "data": {
      "image/png": "[encoded data removed]",
      "text/plain": [
       "<Figure size 700x500 with 1 Axes>"
      ]
     },
     "metadata": {},
     "output_type": "display_data"
    }
   ],
   "source": [
    "plt.figure(figsize=(7, 5))\n",
    "spec_heats = []\n",
    "deltas = [delta for delta in np.arange(0, 1, 0.2)]\n",
    "for delta in deltas:\n",
    "    data = read(\"16-05 15:51\", f\"coupling{delta}\")\n",
    "    energies = compute(Prop.Es, data)\n",
    "    temps = data[\"temperatures\"]\n",
    "    heats = np.diff(energies) / np.diff(temps)\n",
    "    spec_heats.append(heats[899])\n",
    "    plt.plot(temps[:-1], heats, label=f\"$\\Delta = {round(delta,1)}$\")\n",
    "\n",
    "plt.title(\"$\\chi = 16, \\; L = 32$\")\n",
    "plt.xlim(1.2, 1.75)\n",
    "plt.xlabel(\"$T$\", fontsize=15)\n",
    "plt.ylabel(\"$C(T)$\", fontsize=15)\n",
    "plt.legend()\n",
    "plt.show()"
   ]
  },
  {
   "cell_type": "code",
   "execution_count": 5,
   "metadata": {},
   "outputs": [
    {
     "name": "stderr",
     "output_type": "stream",
     "text": [
      "coupling=0.7:   0%|          | 0/21 [00:00<?, ?it/s]"
     ]
    },
    {
     "name": "stderr",
     "output_type": "stream",
     "text": [
      "coupling=0.7: 100%|██████████| 21/21 [00:04<00:00,  4.50it/s]\n"
     ]
    },
    {
     "name": "stdout",
     "output_type": "stream",
     "text": [
      "Saving data in folder: '26-06 13:10'\n",
      "Done \n",
      "\n"
     ]
    },
    {
     "name": "stderr",
     "output_type": "stream",
     "text": [
      "coupling=0.702: 100%|██████████| 21/21 [00:04<00:00,  4.57it/s]\n"
     ]
    },
    {
     "name": "stdout",
     "output_type": "stream",
     "text": [
      "Saving data in folder: '26-06 13:10'\n",
      "Done \n",
      "\n"
     ]
    },
    {
     "name": "stderr",
     "output_type": "stream",
     "text": [
      "coupling=0.704: 100%|██████████| 21/21 [00:04<00:00,  4.55it/s]\n"
     ]
    },
    {
     "name": "stdout",
     "output_type": "stream",
     "text": [
      "Saving data in folder: '26-06 13:10'\n",
      "Done \n",
      "\n"
     ]
    },
    {
     "name": "stderr",
     "output_type": "stream",
     "text": [
      "coupling=0.706: 100%|██████████| 21/21 [00:04<00:00,  4.53it/s]\n"
     ]
    },
    {
     "name": "stdout",
     "output_type": "stream",
     "text": [
      "Saving data in folder: '26-06 13:10'\n",
      "Done \n",
      "\n"
     ]
    },
    {
     "name": "stderr",
     "output_type": "stream",
     "text": [
      "coupling=0.708: 100%|██████████| 21/21 [00:04<00:00,  4.57it/s]\n"
     ]
    },
    {
     "name": "stdout",
     "output_type": "stream",
     "text": [
      "Saving data in folder: '26-06 13:10'\n",
      "Done \n",
      "\n"
     ]
    },
    {
     "name": "stderr",
     "output_type": "stream",
     "text": [
      "coupling=0.71: 100%|██████████| 21/21 [00:04<00:00,  4.56it/s]\n"
     ]
    },
    {
     "name": "stdout",
     "output_type": "stream",
     "text": [
      "Saving data in folder: '26-06 13:10'\n",
      "Done \n",
      "\n"
     ]
    },
    {
     "name": "stderr",
     "output_type": "stream",
     "text": [
      "coupling=0.712: 100%|██████████| 21/21 [00:04<00:00,  4.60it/s]\n"
     ]
    },
    {
     "name": "stdout",
     "output_type": "stream",
     "text": [
      "Saving data in folder: '26-06 13:10'\n",
      "Done \n",
      "\n"
     ]
    },
    {
     "name": "stderr",
     "output_type": "stream",
     "text": [
      "coupling=0.714: 100%|██████████| 21/21 [00:04<00:00,  4.60it/s]\n"
     ]
    },
    {
     "name": "stdout",
     "output_type": "stream",
     "text": [
      "Saving data in folder: '26-06 13:10'\n",
      "Done \n",
      "\n"
     ]
    },
    {
     "name": "stderr",
     "output_type": "stream",
     "text": [
      "coupling=0.716: 100%|██████████| 21/21 [00:04<00:00,  4.60it/s]\n"
     ]
    },
    {
     "name": "stdout",
     "output_type": "stream",
     "text": [
      "Saving data in folder: '26-06 13:10'\n",
      "Done \n",
      "\n"
     ]
    },
    {
     "name": "stderr",
     "output_type": "stream",
     "text": [
      "coupling=0.718: 100%|██████████| 21/21 [00:04<00:00,  4.54it/s]\n"
     ]
    },
    {
     "name": "stdout",
     "output_type": "stream",
     "text": [
      "Saving data in folder: '26-06 13:10'\n",
      "Done \n",
      "\n"
     ]
    },
    {
     "name": "stderr",
     "output_type": "stream",
     "text": [
      "coupling=0.72: 100%|██████████| 21/21 [00:04<00:00,  4.53it/s]\n"
     ]
    },
    {
     "name": "stdout",
     "output_type": "stream",
     "text": [
      "Saving data in folder: '26-06 13:10'\n",
      "Done \n",
      "\n"
     ]
    },
    {
     "name": "stderr",
     "output_type": "stream",
     "text": [
      "coupling=0.722: 100%|██████████| 21/21 [00:04<00:00,  4.58it/s]\n"
     ]
    },
    {
     "name": "stdout",
     "output_type": "stream",
     "text": [
      "Saving data in folder: '26-06 13:10'\n",
      "Done \n",
      "\n"
     ]
    },
    {
     "name": "stderr",
     "output_type": "stream",
     "text": [
      "coupling=0.724: 100%|██████████| 21/21 [00:04<00:00,  4.56it/s]\n"
     ]
    },
    {
     "name": "stdout",
     "output_type": "stream",
     "text": [
      "Saving data in folder: '26-06 13:10'\n",
      "Done \n",
      "\n"
     ]
    },
    {
     "name": "stderr",
     "output_type": "stream",
     "text": [
      "coupling=0.726: 100%|██████████| 21/21 [00:04<00:00,  4.54it/s]\n"
     ]
    },
    {
     "name": "stdout",
     "output_type": "stream",
     "text": [
      "Saving data in folder: '26-06 13:10'\n",
      "Done \n",
      "\n"
     ]
    },
    {
     "name": "stderr",
     "output_type": "stream",
     "text": [
      "coupling=0.728: 100%|██████████| 21/21 [00:04<00:00,  4.60it/s]\n"
     ]
    },
    {
     "name": "stdout",
     "output_type": "stream",
     "text": [
      "Saving data in folder: '26-06 13:10'\n",
      "Done \n",
      "\n"
     ]
    },
    {
     "name": "stderr",
     "output_type": "stream",
     "text": [
      "coupling=0.73: 100%|██████████| 21/21 [00:04<00:00,  4.61it/s]\n"
     ]
    },
    {
     "name": "stdout",
     "output_type": "stream",
     "text": [
      "Saving data in folder: '26-06 13:10'\n",
      "Done \n",
      "\n"
     ]
    },
    {
     "name": "stderr",
     "output_type": "stream",
     "text": [
      "coupling=0.732: 100%|██████████| 21/21 [00:04<00:00,  4.61it/s]\n"
     ]
    },
    {
     "name": "stdout",
     "output_type": "stream",
     "text": [
      "Saving data in folder: '26-06 13:10'\n",
      "Done \n",
      "\n"
     ]
    },
    {
     "name": "stderr",
     "output_type": "stream",
     "text": [
      "coupling=0.734: 100%|██████████| 21/21 [00:04<00:00,  4.55it/s]\n"
     ]
    },
    {
     "name": "stdout",
     "output_type": "stream",
     "text": [
      "Saving data in folder: '26-06 13:10'\n",
      "Done \n",
      "\n"
     ]
    },
    {
     "name": "stderr",
     "output_type": "stream",
     "text": [
      "coupling=0.736: 100%|██████████| 21/21 [00:04<00:00,  4.54it/s]\n"
     ]
    },
    {
     "name": "stdout",
     "output_type": "stream",
     "text": [
      "Saving data in folder: '26-06 13:10'\n",
      "Done \n",
      "\n"
     ]
    },
    {
     "name": "stderr",
     "output_type": "stream",
     "text": [
      "coupling=0.738: 100%|██████████| 21/21 [00:04<00:00,  4.57it/s]\n"
     ]
    },
    {
     "name": "stdout",
     "output_type": "stream",
     "text": [
      "Saving data in folder: '26-06 13:10'\n",
      "Done \n",
      "\n"
     ]
    },
    {
     "name": "stderr",
     "output_type": "stream",
     "text": [
      "coupling=0.74: 100%|██████████| 21/21 [00:04<00:00,  4.58it/s]\n"
     ]
    },
    {
     "name": "stdout",
     "output_type": "stream",
     "text": [
      "Saving data in folder: '26-06 13:10'\n",
      "Done \n",
      "\n"
     ]
    },
    {
     "name": "stderr",
     "output_type": "stream",
     "text": [
      "coupling=0.742: 100%|██████████| 21/21 [00:04<00:00,  4.62it/s]\n"
     ]
    },
    {
     "name": "stdout",
     "output_type": "stream",
     "text": [
      "Saving data in folder: '26-06 13:10'\n",
      "Done \n",
      "\n"
     ]
    },
    {
     "name": "stderr",
     "output_type": "stream",
     "text": [
      "coupling=0.744: 100%|██████████| 21/21 [00:04<00:00,  4.61it/s]\n"
     ]
    },
    {
     "name": "stdout",
     "output_type": "stream",
     "text": [
      "Saving data in folder: '26-06 13:10'\n",
      "Done \n",
      "\n"
     ]
    },
    {
     "name": "stderr",
     "output_type": "stream",
     "text": [
      "coupling=0.746: 100%|██████████| 21/21 [00:04<00:00,  4.58it/s]\n"
     ]
    },
    {
     "name": "stdout",
     "output_type": "stream",
     "text": [
      "Saving data in folder: '26-06 13:10'\n",
      "Done \n",
      "\n"
     ]
    },
    {
     "name": "stderr",
     "output_type": "stream",
     "text": [
      "coupling=0.748: 100%|██████████| 21/21 [00:04<00:00,  4.57it/s]\n"
     ]
    },
    {
     "name": "stdout",
     "output_type": "stream",
     "text": [
      "Saving data in folder: '26-06 13:10'\n",
      "Done \n",
      "\n"
     ]
    },
    {
     "name": "stderr",
     "output_type": "stream",
     "text": [
      "coupling=0.75: 100%|██████████| 21/21 [00:04<00:00,  4.58it/s]\n"
     ]
    },
    {
     "name": "stdout",
     "output_type": "stream",
     "text": [
      "Saving data in folder: '26-06 13:10'\n",
      "Done \n",
      "\n"
     ]
    },
    {
     "name": "stderr",
     "output_type": "stream",
     "text": [
      "coupling=0.752: 100%|██████████| 21/21 [00:04<00:00,  4.58it/s]\n"
     ]
    },
    {
     "name": "stdout",
     "output_type": "stream",
     "text": [
      "Saving data in folder: '26-06 13:10'\n",
      "Done \n",
      "\n"
     ]
    },
    {
     "name": "stderr",
     "output_type": "stream",
     "text": [
      "coupling=0.754: 100%|██████████| 21/21 [00:04<00:00,  4.58it/s]\n"
     ]
    },
    {
     "name": "stdout",
     "output_type": "stream",
     "text": [
      "Saving data in folder: '26-06 13:10'\n",
      "Done \n",
      "\n"
     ]
    },
    {
     "name": "stderr",
     "output_type": "stream",
     "text": [
      "coupling=0.756: 100%|██████████| 21/21 [00:04<00:00,  4.61it/s]\n"
     ]
    },
    {
     "name": "stdout",
     "output_type": "stream",
     "text": [
      "Saving data in folder: '26-06 13:10'\n",
      "Done \n",
      "\n"
     ]
    },
    {
     "name": "stderr",
     "output_type": "stream",
     "text": [
      "coupling=0.758: 100%|██████████| 21/21 [00:04<00:00,  4.60it/s]\n"
     ]
    },
    {
     "name": "stdout",
     "output_type": "stream",
     "text": [
      "Saving data in folder: '26-06 13:10'\n",
      "Done \n",
      "\n"
     ]
    },
    {
     "name": "stderr",
     "output_type": "stream",
     "text": [
      "coupling=0.76: 100%|██████████| 21/21 [00:04<00:00,  4.59it/s]\n"
     ]
    },
    {
     "name": "stdout",
     "output_type": "stream",
     "text": [
      "Saving data in folder: '26-06 13:10'\n",
      "Done \n",
      "\n"
     ]
    },
    {
     "name": "stderr",
     "output_type": "stream",
     "text": [
      "coupling=0.762: 100%|██████████| 21/21 [00:04<00:00,  4.59it/s]\n"
     ]
    },
    {
     "name": "stdout",
     "output_type": "stream",
     "text": [
      "Saving data in folder: '26-06 13:10'\n",
      "Done \n",
      "\n"
     ]
    },
    {
     "name": "stderr",
     "output_type": "stream",
     "text": [
      "coupling=0.764: 100%|██████████| 21/21 [00:04<00:00,  4.59it/s]\n"
     ]
    },
    {
     "name": "stdout",
     "output_type": "stream",
     "text": [
      "Saving data in folder: '26-06 13:10'\n",
      "Done \n",
      "\n"
     ]
    },
    {
     "name": "stderr",
     "output_type": "stream",
     "text": [
      "coupling=0.766: 100%|██████████| 21/21 [00:04<00:00,  4.55it/s]\n"
     ]
    },
    {
     "name": "stdout",
     "output_type": "stream",
     "text": [
      "Saving data in folder: '26-06 13:10'\n",
      "Done \n",
      "\n"
     ]
    },
    {
     "name": "stderr",
     "output_type": "stream",
     "text": [
      "coupling=0.768: 100%|██████████| 21/21 [00:04<00:00,  4.54it/s]\n"
     ]
    },
    {
     "name": "stdout",
     "output_type": "stream",
     "text": [
      "Saving data in folder: '26-06 13:10'\n",
      "Done \n",
      "\n"
     ]
    },
    {
     "name": "stderr",
     "output_type": "stream",
     "text": [
      "coupling=0.77: 100%|██████████| 21/21 [00:04<00:00,  4.49it/s]\n"
     ]
    },
    {
     "name": "stdout",
     "output_type": "stream",
     "text": [
      "Saving data in folder: '26-06 13:10'\n",
      "Done \n",
      "\n"
     ]
    },
    {
     "name": "stderr",
     "output_type": "stream",
     "text": [
      "coupling=0.772: 100%|██████████| 21/21 [00:04<00:00,  4.50it/s]\n"
     ]
    },
    {
     "name": "stdout",
     "output_type": "stream",
     "text": [
      "Saving data in folder: '26-06 13:10'\n",
      "Done \n",
      "\n"
     ]
    },
    {
     "name": "stderr",
     "output_type": "stream",
     "text": [
      "coupling=0.774: 100%|██████████| 21/21 [00:04<00:00,  4.55it/s]\n"
     ]
    },
    {
     "name": "stdout",
     "output_type": "stream",
     "text": [
      "Saving data in folder: '26-06 13:10'\n",
      "Done \n",
      "\n"
     ]
    },
    {
     "name": "stderr",
     "output_type": "stream",
     "text": [
      "coupling=0.776: 100%|██████████| 21/21 [00:04<00:00,  4.56it/s]\n"
     ]
    },
    {
     "name": "stdout",
     "output_type": "stream",
     "text": [
      "Saving data in folder: '26-06 13:10'\n",
      "Done \n",
      "\n"
     ]
    },
    {
     "name": "stderr",
     "output_type": "stream",
     "text": [
      "coupling=0.778: 100%|██████████| 21/21 [00:04<00:00,  4.57it/s]\n"
     ]
    },
    {
     "name": "stdout",
     "output_type": "stream",
     "text": [
      "Saving data in folder: '26-06 13:10'\n",
      "Done \n",
      "\n"
     ]
    },
    {
     "name": "stderr",
     "output_type": "stream",
     "text": [
      "coupling=0.78: 100%|██████████| 21/21 [00:04<00:00,  4.57it/s]\n"
     ]
    },
    {
     "name": "stdout",
     "output_type": "stream",
     "text": [
      "Saving data in folder: '26-06 13:10'\n",
      "Done \n",
      "\n"
     ]
    },
    {
     "name": "stderr",
     "output_type": "stream",
     "text": [
      "coupling=0.782: 100%|██████████| 21/21 [00:04<00:00,  4.51it/s]\n"
     ]
    },
    {
     "name": "stdout",
     "output_type": "stream",
     "text": [
      "Saving data in folder: '26-06 13:10'\n",
      "Done \n",
      "\n"
     ]
    },
    {
     "name": "stderr",
     "output_type": "stream",
     "text": [
      "coupling=0.784: 100%|██████████| 21/21 [00:04<00:00,  4.53it/s]\n"
     ]
    },
    {
     "name": "stdout",
     "output_type": "stream",
     "text": [
      "Saving data in folder: '26-06 13:10'\n",
      "Done \n",
      "\n"
     ]
    },
    {
     "name": "stderr",
     "output_type": "stream",
     "text": [
      "coupling=0.786: 100%|██████████| 21/21 [00:04<00:00,  4.45it/s]\n"
     ]
    },
    {
     "name": "stdout",
     "output_type": "stream",
     "text": [
      "Saving data in folder: '26-06 13:10'\n",
      "Done \n",
      "\n"
     ]
    },
    {
     "name": "stderr",
     "output_type": "stream",
     "text": [
      "coupling=0.788: 100%|██████████| 21/21 [00:04<00:00,  4.48it/s]\n"
     ]
    },
    {
     "name": "stdout",
     "output_type": "stream",
     "text": [
      "Saving data in folder: '26-06 13:10'\n",
      "Done \n",
      "\n"
     ]
    },
    {
     "name": "stderr",
     "output_type": "stream",
     "text": [
      "coupling=0.79: 100%|██████████| 21/21 [00:04<00:00,  4.47it/s]\n"
     ]
    },
    {
     "name": "stdout",
     "output_type": "stream",
     "text": [
      "Saving data in folder: '26-06 13:10'\n",
      "Done \n",
      "\n"
     ]
    },
    {
     "name": "stderr",
     "output_type": "stream",
     "text": [
      "coupling=0.792: 100%|██████████| 21/21 [00:04<00:00,  4.51it/s]\n"
     ]
    },
    {
     "name": "stdout",
     "output_type": "stream",
     "text": [
      "Saving data in folder: '26-06 13:10'\n",
      "Done \n",
      "\n"
     ]
    },
    {
     "name": "stderr",
     "output_type": "stream",
     "text": [
      "coupling=0.794: 100%|██████████| 21/21 [00:04<00:00,  4.52it/s]\n"
     ]
    },
    {
     "name": "stdout",
     "output_type": "stream",
     "text": [
      "Saving data in folder: '26-06 13:10'\n",
      "Done \n",
      "\n"
     ]
    },
    {
     "name": "stderr",
     "output_type": "stream",
     "text": [
      "coupling=0.796: 100%|██████████| 21/21 [00:04<00:00,  4.51it/s]\n"
     ]
    },
    {
     "name": "stdout",
     "output_type": "stream",
     "text": [
      "Saving data in folder: '26-06 13:10'\n",
      "Done \n",
      "\n"
     ]
    },
    {
     "name": "stderr",
     "output_type": "stream",
     "text": [
      "coupling=0.798: 100%|██████████| 21/21 [00:04<00:00,  4.56it/s]\n"
     ]
    },
    {
     "name": "stdout",
     "output_type": "stream",
     "text": [
      "Saving data in folder: '26-06 13:10'\n",
      "Done \n",
      "\n"
     ]
    },
    {
     "name": "stderr",
     "output_type": "stream",
     "text": [
      "coupling=0.8: 100%|██████████| 21/21 [00:04<00:00,  4.59it/s]\n"
     ]
    },
    {
     "name": "stdout",
     "output_type": "stream",
     "text": [
      "Saving data in folder: '26-06 13:10'\n",
      "Done \n",
      "\n"
     ]
    },
    {
     "name": "stderr",
     "output_type": "stream",
     "text": [
      "coupling=0.802: 100%|██████████| 21/21 [00:04<00:00,  4.58it/s]\n"
     ]
    },
    {
     "name": "stdout",
     "output_type": "stream",
     "text": [
      "Saving data in folder: '26-06 13:10'\n",
      "Done \n",
      "\n"
     ]
    },
    {
     "name": "stderr",
     "output_type": "stream",
     "text": [
      "coupling=0.804: 100%|██████████| 21/21 [00:04<00:00,  4.55it/s]\n"
     ]
    },
    {
     "name": "stdout",
     "output_type": "stream",
     "text": [
      "Saving data in folder: '26-06 13:10'\n",
      "Done \n",
      "\n"
     ]
    },
    {
     "name": "stderr",
     "output_type": "stream",
     "text": [
      "coupling=0.806: 100%|██████████| 21/21 [00:04<00:00,  4.59it/s]\n"
     ]
    },
    {
     "name": "stdout",
     "output_type": "stream",
     "text": [
      "Saving data in folder: '26-06 13:10'\n",
      "Done \n",
      "\n"
     ]
    },
    {
     "name": "stderr",
     "output_type": "stream",
     "text": [
      "coupling=0.808: 100%|██████████| 21/21 [00:04<00:00,  4.58it/s]\n"
     ]
    },
    {
     "name": "stdout",
     "output_type": "stream",
     "text": [
      "Saving data in folder: '26-06 13:10'\n",
      "Done \n",
      "\n"
     ]
    },
    {
     "name": "stderr",
     "output_type": "stream",
     "text": [
      "coupling=0.81: 100%|██████████| 21/21 [00:04<00:00,  4.57it/s]\n"
     ]
    },
    {
     "name": "stdout",
     "output_type": "stream",
     "text": [
      "Saving data in folder: '26-06 13:10'\n",
      "Done \n",
      "\n"
     ]
    },
    {
     "name": "stderr",
     "output_type": "stream",
     "text": [
      "coupling=0.812: 100%|██████████| 21/21 [00:04<00:00,  4.57it/s]\n"
     ]
    },
    {
     "name": "stdout",
     "output_type": "stream",
     "text": [
      "Saving data in folder: '26-06 13:10'\n",
      "Done \n",
      "\n"
     ]
    },
    {
     "name": "stderr",
     "output_type": "stream",
     "text": [
      "coupling=0.8140000000000001: 100%|██████████| 21/21 [00:04<00:00,  4.59it/s]\n"
     ]
    },
    {
     "name": "stdout",
     "output_type": "stream",
     "text": [
      "Saving data in folder: '26-06 13:10'\n",
      "Done \n",
      "\n"
     ]
    },
    {
     "name": "stderr",
     "output_type": "stream",
     "text": [
      "coupling=0.8160000000000001: 100%|██████████| 21/21 [00:04<00:00,  4.58it/s]\n"
     ]
    },
    {
     "name": "stdout",
     "output_type": "stream",
     "text": [
      "Saving data in folder: '26-06 13:10'\n",
      "Done \n",
      "\n"
     ]
    },
    {
     "name": "stderr",
     "output_type": "stream",
     "text": [
      "coupling=0.8180000000000001: 100%|██████████| 21/21 [00:04<00:00,  4.58it/s]\n"
     ]
    },
    {
     "name": "stdout",
     "output_type": "stream",
     "text": [
      "Saving data in folder: '26-06 13:10'\n",
      "Done \n",
      "\n"
     ]
    },
    {
     "name": "stderr",
     "output_type": "stream",
     "text": [
      "coupling=0.8200000000000001: 100%|██████████| 21/21 [00:04<00:00,  4.57it/s]\n"
     ]
    },
    {
     "name": "stdout",
     "output_type": "stream",
     "text": [
      "Saving data in folder: '26-06 13:10'\n",
      "Done \n",
      "\n"
     ]
    },
    {
     "name": "stderr",
     "output_type": "stream",
     "text": [
      "coupling=0.8220000000000001: 100%|██████████| 21/21 [00:04<00:00,  4.58it/s]\n"
     ]
    },
    {
     "name": "stdout",
     "output_type": "stream",
     "text": [
      "Saving data in folder: '26-06 13:10'\n",
      "Done \n",
      "\n"
     ]
    },
    {
     "name": "stderr",
     "output_type": "stream",
     "text": [
      "coupling=0.8240000000000001: 100%|██████████| 21/21 [00:04<00:00,  4.57it/s]\n"
     ]
    },
    {
     "name": "stdout",
     "output_type": "stream",
     "text": [
      "Saving data in folder: '26-06 13:10'\n",
      "Done \n",
      "\n"
     ]
    },
    {
     "name": "stderr",
     "output_type": "stream",
     "text": [
      "coupling=0.8260000000000001: 100%|██████████| 21/21 [00:04<00:00,  4.58it/s]\n"
     ]
    },
    {
     "name": "stdout",
     "output_type": "stream",
     "text": [
      "Saving data in folder: '26-06 13:10'\n",
      "Done \n",
      "\n"
     ]
    },
    {
     "name": "stderr",
     "output_type": "stream",
     "text": [
      "coupling=0.8280000000000001: 100%|██████████| 21/21 [00:04<00:00,  4.58it/s]\n"
     ]
    },
    {
     "name": "stdout",
     "output_type": "stream",
     "text": [
      "Saving data in folder: '26-06 13:10'\n",
      "Done \n",
      "\n"
     ]
    },
    {
     "name": "stderr",
     "output_type": "stream",
     "text": [
      "coupling=0.8300000000000001: 100%|██████████| 21/21 [00:04<00:00,  4.58it/s]\n"
     ]
    },
    {
     "name": "stdout",
     "output_type": "stream",
     "text": [
      "Saving data in folder: '26-06 13:10'\n",
      "Done \n",
      "\n"
     ]
    },
    {
     "name": "stderr",
     "output_type": "stream",
     "text": [
      "coupling=0.8320000000000001: 100%|██████████| 21/21 [00:04<00:00,  4.59it/s]\n"
     ]
    },
    {
     "name": "stdout",
     "output_type": "stream",
     "text": [
      "Saving data in folder: '26-06 13:10'\n",
      "Done \n",
      "\n"
     ]
    },
    {
     "name": "stderr",
     "output_type": "stream",
     "text": [
      "coupling=0.8340000000000001: 100%|██████████| 21/21 [00:04<00:00,  4.57it/s]\n"
     ]
    },
    {
     "name": "stdout",
     "output_type": "stream",
     "text": [
      "Saving data in folder: '26-06 13:10'\n",
      "Done \n",
      "\n"
     ]
    },
    {
     "name": "stderr",
     "output_type": "stream",
     "text": [
      "coupling=0.8360000000000001: 100%|██████████| 21/21 [00:04<00:00,  4.59it/s]\n"
     ]
    },
    {
     "name": "stdout",
     "output_type": "stream",
     "text": [
      "Saving data in folder: '26-06 13:10'\n",
      "Done \n",
      "\n"
     ]
    },
    {
     "name": "stderr",
     "output_type": "stream",
     "text": [
      "coupling=0.8380000000000001: 100%|██████████| 21/21 [00:04<00:00,  4.58it/s]\n"
     ]
    },
    {
     "name": "stdout",
     "output_type": "stream",
     "text": [
      "Saving data in folder: '26-06 13:10'\n",
      "Done \n",
      "\n"
     ]
    },
    {
     "name": "stderr",
     "output_type": "stream",
     "text": [
      "coupling=0.8400000000000001: 100%|██████████| 21/21 [00:04<00:00,  4.57it/s]\n"
     ]
    },
    {
     "name": "stdout",
     "output_type": "stream",
     "text": [
      "Saving data in folder: '26-06 13:10'\n",
      "Done \n",
      "\n"
     ]
    },
    {
     "name": "stderr",
     "output_type": "stream",
     "text": [
      "coupling=0.8420000000000001: 100%|██████████| 21/21 [00:04<00:00,  4.57it/s]\n"
     ]
    },
    {
     "name": "stdout",
     "output_type": "stream",
     "text": [
      "Saving data in folder: '26-06 13:10'\n",
      "Done \n",
      "\n"
     ]
    },
    {
     "name": "stderr",
     "output_type": "stream",
     "text": [
      "coupling=0.8440000000000001: 100%|██████████| 21/21 [00:04<00:00,  4.59it/s]\n"
     ]
    },
    {
     "name": "stdout",
     "output_type": "stream",
     "text": [
      "Saving data in folder: '26-06 13:10'\n",
      "Done \n",
      "\n"
     ]
    },
    {
     "name": "stderr",
     "output_type": "stream",
     "text": [
      "coupling=0.8460000000000001: 100%|██████████| 21/21 [00:04<00:00,  4.59it/s]\n"
     ]
    },
    {
     "name": "stdout",
     "output_type": "stream",
     "text": [
      "Saving data in folder: '26-06 13:10'\n",
      "Done \n",
      "\n"
     ]
    },
    {
     "name": "stderr",
     "output_type": "stream",
     "text": [
      "coupling=0.8480000000000001: 100%|██████████| 21/21 [00:04<00:00,  4.56it/s]\n"
     ]
    },
    {
     "name": "stdout",
     "output_type": "stream",
     "text": [
      "Saving data in folder: '26-06 13:10'\n",
      "Done \n",
      "\n"
     ]
    },
    {
     "name": "stderr",
     "output_type": "stream",
     "text": [
      "coupling=0.8500000000000001: 100%|██████████| 21/21 [00:04<00:00,  4.58it/s]\n"
     ]
    },
    {
     "name": "stdout",
     "output_type": "stream",
     "text": [
      "Saving data in folder: '26-06 13:10'\n",
      "Done \n",
      "\n"
     ]
    },
    {
     "name": "stderr",
     "output_type": "stream",
     "text": [
      "coupling=0.8520000000000001: 100%|██████████| 21/21 [00:04<00:00,  4.59it/s]\n"
     ]
    },
    {
     "name": "stdout",
     "output_type": "stream",
     "text": [
      "Saving data in folder: '26-06 13:10'\n",
      "Done \n",
      "\n"
     ]
    },
    {
     "name": "stderr",
     "output_type": "stream",
     "text": [
      "coupling=0.8540000000000001: 100%|██████████| 21/21 [00:04<00:00,  4.58it/s]\n"
     ]
    },
    {
     "name": "stdout",
     "output_type": "stream",
     "text": [
      "Saving data in folder: '26-06 13:10'\n",
      "Done \n",
      "\n"
     ]
    },
    {
     "name": "stderr",
     "output_type": "stream",
     "text": [
      "coupling=0.8560000000000001: 100%|██████████| 21/21 [00:04<00:00,  4.58it/s]\n"
     ]
    },
    {
     "name": "stdout",
     "output_type": "stream",
     "text": [
      "Saving data in folder: '26-06 13:10'\n",
      "Done \n",
      "\n"
     ]
    },
    {
     "name": "stderr",
     "output_type": "stream",
     "text": [
      "coupling=0.8580000000000001: 100%|██████████| 21/21 [00:04<00:00,  4.57it/s]\n"
     ]
    },
    {
     "name": "stdout",
     "output_type": "stream",
     "text": [
      "Saving data in folder: '26-06 13:10'\n",
      "Done \n",
      "\n"
     ]
    },
    {
     "name": "stderr",
     "output_type": "stream",
     "text": [
      "coupling=0.8600000000000001: 100%|██████████| 21/21 [00:04<00:00,  4.59it/s]\n"
     ]
    },
    {
     "name": "stdout",
     "output_type": "stream",
     "text": [
      "Saving data in folder: '26-06 13:10'\n",
      "Done \n",
      "\n"
     ]
    },
    {
     "name": "stderr",
     "output_type": "stream",
     "text": [
      "coupling=0.8620000000000001: 100%|██████████| 21/21 [00:04<00:00,  4.56it/s]\n"
     ]
    },
    {
     "name": "stdout",
     "output_type": "stream",
     "text": [
      "Saving data in folder: '26-06 13:10'\n",
      "Done \n",
      "\n"
     ]
    },
    {
     "name": "stderr",
     "output_type": "stream",
     "text": [
      "coupling=0.8640000000000001: 100%|██████████| 21/21 [00:04<00:00,  4.60it/s]\n"
     ]
    },
    {
     "name": "stdout",
     "output_type": "stream",
     "text": [
      "Saving data in folder: '26-06 13:10'\n",
      "Done \n",
      "\n"
     ]
    },
    {
     "name": "stderr",
     "output_type": "stream",
     "text": [
      "coupling=0.8660000000000001: 100%|██████████| 21/21 [00:04<00:00,  4.60it/s]\n"
     ]
    },
    {
     "name": "stdout",
     "output_type": "stream",
     "text": [
      "Saving data in folder: '26-06 13:10'\n",
      "Done \n",
      "\n"
     ]
    },
    {
     "name": "stderr",
     "output_type": "stream",
     "text": [
      "coupling=0.8680000000000001: 100%|██████████| 21/21 [00:04<00:00,  4.61it/s]\n"
     ]
    },
    {
     "name": "stdout",
     "output_type": "stream",
     "text": [
      "Saving data in folder: '26-06 13:10'\n",
      "Done \n",
      "\n"
     ]
    },
    {
     "name": "stderr",
     "output_type": "stream",
     "text": [
      "coupling=0.8700000000000001: 100%|██████████| 21/21 [00:04<00:00,  4.61it/s]\n"
     ]
    },
    {
     "name": "stdout",
     "output_type": "stream",
     "text": [
      "Saving data in folder: '26-06 13:10'\n",
      "Done \n",
      "\n"
     ]
    },
    {
     "name": "stderr",
     "output_type": "stream",
     "text": [
      "coupling=0.8720000000000001: 100%|██████████| 21/21 [00:04<00:00,  4.61it/s]\n"
     ]
    },
    {
     "name": "stdout",
     "output_type": "stream",
     "text": [
      "Saving data in folder: '26-06 13:10'\n",
      "Done \n",
      "\n"
     ]
    },
    {
     "name": "stderr",
     "output_type": "stream",
     "text": [
      "coupling=0.8740000000000001: 100%|██████████| 21/21 [00:04<00:00,  4.59it/s]\n"
     ]
    },
    {
     "name": "stdout",
     "output_type": "stream",
     "text": [
      "Saving data in folder: '26-06 13:10'\n",
      "Done \n",
      "\n"
     ]
    },
    {
     "name": "stderr",
     "output_type": "stream",
     "text": [
      "coupling=0.8760000000000001: 100%|██████████| 21/21 [00:04<00:00,  4.59it/s]\n"
     ]
    },
    {
     "name": "stdout",
     "output_type": "stream",
     "text": [
      "Saving data in folder: '26-06 13:10'\n",
      "Done \n",
      "\n"
     ]
    },
    {
     "name": "stderr",
     "output_type": "stream",
     "text": [
      "coupling=0.8780000000000001: 100%|██████████| 21/21 [00:04<00:00,  4.61it/s]\n"
     ]
    },
    {
     "name": "stdout",
     "output_type": "stream",
     "text": [
      "Saving data in folder: '26-06 13:10'\n",
      "Done \n",
      "\n"
     ]
    },
    {
     "name": "stderr",
     "output_type": "stream",
     "text": [
      "coupling=0.8800000000000001: 100%|██████████| 21/21 [00:04<00:00,  4.60it/s]\n"
     ]
    },
    {
     "name": "stdout",
     "output_type": "stream",
     "text": [
      "Saving data in folder: '26-06 13:10'\n",
      "Done \n",
      "\n"
     ]
    },
    {
     "name": "stderr",
     "output_type": "stream",
     "text": [
      "coupling=0.8820000000000001: 100%|██████████| 21/21 [00:04<00:00,  4.59it/s]\n"
     ]
    },
    {
     "name": "stdout",
     "output_type": "stream",
     "text": [
      "Saving data in folder: '26-06 13:10'\n",
      "Done \n",
      "\n"
     ]
    },
    {
     "name": "stderr",
     "output_type": "stream",
     "text": [
      "coupling=0.8840000000000001: 100%|██████████| 21/21 [00:04<00:00,  4.60it/s]\n"
     ]
    },
    {
     "name": "stdout",
     "output_type": "stream",
     "text": [
      "Saving data in folder: '26-06 13:10'\n",
      "Done \n",
      "\n"
     ]
    },
    {
     "name": "stderr",
     "output_type": "stream",
     "text": [
      "coupling=0.8860000000000001: 100%|██████████| 21/21 [00:04<00:00,  4.60it/s]\n"
     ]
    },
    {
     "name": "stdout",
     "output_type": "stream",
     "text": [
      "Saving data in folder: '26-06 13:10'\n",
      "Done \n",
      "\n"
     ]
    },
    {
     "name": "stderr",
     "output_type": "stream",
     "text": [
      "coupling=0.8880000000000001: 100%|██████████| 21/21 [00:04<00:00,  4.57it/s]\n"
     ]
    },
    {
     "name": "stdout",
     "output_type": "stream",
     "text": [
      "Saving data in folder: '26-06 13:10'\n",
      "Done \n",
      "\n"
     ]
    },
    {
     "name": "stderr",
     "output_type": "stream",
     "text": [
      "coupling=0.8900000000000001: 100%|██████████| 21/21 [00:04<00:00,  4.60it/s]\n"
     ]
    },
    {
     "name": "stdout",
     "output_type": "stream",
     "text": [
      "Saving data in folder: '26-06 13:10'\n",
      "Done \n",
      "\n"
     ]
    },
    {
     "name": "stderr",
     "output_type": "stream",
     "text": [
      "coupling=0.8920000000000001: 100%|██████████| 21/21 [00:04<00:00,  4.60it/s]\n"
     ]
    },
    {
     "name": "stdout",
     "output_type": "stream",
     "text": [
      "Saving data in folder: '26-06 13:10'\n",
      "Done \n",
      "\n"
     ]
    },
    {
     "name": "stderr",
     "output_type": "stream",
     "text": [
      "coupling=0.8940000000000001: 100%|██████████| 21/21 [00:04<00:00,  4.58it/s]\n"
     ]
    },
    {
     "name": "stdout",
     "output_type": "stream",
     "text": [
      "Saving data in folder: '26-06 13:10'\n",
      "Done \n",
      "\n"
     ]
    },
    {
     "name": "stderr",
     "output_type": "stream",
     "text": [
      "coupling=0.8960000000000001: 100%|██████████| 21/21 [00:04<00:00,  4.59it/s]\n"
     ]
    },
    {
     "name": "stdout",
     "output_type": "stream",
     "text": [
      "Saving data in folder: '26-06 13:10'\n",
      "Done \n",
      "\n"
     ]
    },
    {
     "name": "stderr",
     "output_type": "stream",
     "text": [
      "coupling=0.8980000000000001: 100%|██████████| 21/21 [00:04<00:00,  4.60it/s]\n"
     ]
    },
    {
     "name": "stdout",
     "output_type": "stream",
     "text": [
      "Saving data in folder: '26-06 13:10'\n",
      "Done \n",
      "\n"
     ]
    },
    {
     "name": "stderr",
     "output_type": "stream",
     "text": [
      "coupling=0.9000000000000001: 100%|██████████| 21/21 [00:04<00:00,  4.57it/s]\n"
     ]
    },
    {
     "name": "stdout",
     "output_type": "stream",
     "text": [
      "Saving data in folder: '26-06 13:10'\n",
      "Done \n",
      "\n"
     ]
    },
    {
     "name": "stderr",
     "output_type": "stream",
     "text": [
      "coupling=0.9020000000000001: 100%|██████████| 21/21 [00:04<00:00,  4.58it/s]\n"
     ]
    },
    {
     "name": "stdout",
     "output_type": "stream",
     "text": [
      "Saving data in folder: '26-06 13:10'\n",
      "Done \n",
      "\n"
     ]
    },
    {
     "name": "stderr",
     "output_type": "stream",
     "text": [
      "coupling=0.9040000000000001: 100%|██████████| 21/21 [00:04<00:00,  4.60it/s]\n"
     ]
    },
    {
     "name": "stdout",
     "output_type": "stream",
     "text": [
      "Saving data in folder: '26-06 13:10'\n",
      "Done \n",
      "\n"
     ]
    },
    {
     "name": "stderr",
     "output_type": "stream",
     "text": [
      "coupling=0.9060000000000001: 100%|██████████| 21/21 [00:04<00:00,  4.59it/s]\n"
     ]
    },
    {
     "name": "stdout",
     "output_type": "stream",
     "text": [
      "Saving data in folder: '26-06 13:10'\n",
      "Done \n",
      "\n"
     ]
    },
    {
     "name": "stderr",
     "output_type": "stream",
     "text": [
      "coupling=0.9080000000000001: 100%|██████████| 21/21 [00:04<00:00,  4.59it/s]\n"
     ]
    },
    {
     "name": "stdout",
     "output_type": "stream",
     "text": [
      "Saving data in folder: '26-06 13:10'\n",
      "Done \n",
      "\n"
     ]
    },
    {
     "name": "stderr",
     "output_type": "stream",
     "text": [
      "coupling=0.9100000000000001: 100%|██████████| 21/21 [00:04<00:00,  4.58it/s]\n"
     ]
    },
    {
     "name": "stdout",
     "output_type": "stream",
     "text": [
      "Saving data in folder: '26-06 13:10'\n",
      "Done \n",
      "\n"
     ]
    },
    {
     "name": "stderr",
     "output_type": "stream",
     "text": [
      "coupling=0.9120000000000001: 100%|██████████| 21/21 [00:04<00:00,  4.58it/s]\n"
     ]
    },
    {
     "name": "stdout",
     "output_type": "stream",
     "text": [
      "Saving data in folder: '26-06 13:10'\n",
      "Done \n",
      "\n"
     ]
    },
    {
     "name": "stderr",
     "output_type": "stream",
     "text": [
      "coupling=0.9140000000000001: 100%|██████████| 21/21 [00:04<00:00,  4.56it/s]\n"
     ]
    },
    {
     "name": "stdout",
     "output_type": "stream",
     "text": [
      "Saving data in folder: '26-06 13:10'\n",
      "Done \n",
      "\n"
     ]
    },
    {
     "name": "stderr",
     "output_type": "stream",
     "text": [
      "coupling=0.9160000000000001: 100%|██████████| 21/21 [00:04<00:00,  4.58it/s]\n"
     ]
    },
    {
     "name": "stdout",
     "output_type": "stream",
     "text": [
      "Saving data in folder: '26-06 13:10'\n",
      "Done \n",
      "\n"
     ]
    },
    {
     "name": "stderr",
     "output_type": "stream",
     "text": [
      "coupling=0.9180000000000001: 100%|██████████| 21/21 [00:04<00:00,  4.59it/s]\n"
     ]
    },
    {
     "name": "stdout",
     "output_type": "stream",
     "text": [
      "Saving data in folder: '26-06 13:10'\n",
      "Done \n",
      "\n"
     ]
    },
    {
     "name": "stderr",
     "output_type": "stream",
     "text": [
      "coupling=0.9200000000000002: 100%|██████████| 21/21 [00:04<00:00,  4.59it/s]\n"
     ]
    },
    {
     "name": "stdout",
     "output_type": "stream",
     "text": [
      "Saving data in folder: '26-06 13:10'\n",
      "Done \n",
      "\n"
     ]
    },
    {
     "name": "stderr",
     "output_type": "stream",
     "text": [
      "coupling=0.9220000000000002: 100%|██████████| 21/21 [00:04<00:00,  4.58it/s]\n"
     ]
    },
    {
     "name": "stdout",
     "output_type": "stream",
     "text": [
      "Saving data in folder: '26-06 13:10'\n",
      "Done \n",
      "\n"
     ]
    },
    {
     "name": "stderr",
     "output_type": "stream",
     "text": [
      "coupling=0.9240000000000002: 100%|██████████| 21/21 [00:04<00:00,  4.57it/s]\n"
     ]
    },
    {
     "name": "stdout",
     "output_type": "stream",
     "text": [
      "Saving data in folder: '26-06 13:10'\n",
      "Done \n",
      "\n"
     ]
    },
    {
     "name": "stderr",
     "output_type": "stream",
     "text": [
      "coupling=0.9260000000000002: 100%|██████████| 21/21 [00:04<00:00,  4.56it/s]\n"
     ]
    },
    {
     "name": "stdout",
     "output_type": "stream",
     "text": [
      "Saving data in folder: '26-06 13:10'\n",
      "Done \n",
      "\n"
     ]
    },
    {
     "name": "stderr",
     "output_type": "stream",
     "text": [
      "coupling=0.9280000000000002: 100%|██████████| 21/21 [00:04<00:00,  4.60it/s]\n"
     ]
    },
    {
     "name": "stdout",
     "output_type": "stream",
     "text": [
      "Saving data in folder: '26-06 13:10'\n",
      "Done \n",
      "\n"
     ]
    },
    {
     "name": "stderr",
     "output_type": "stream",
     "text": [
      "coupling=0.9300000000000002: 100%|██████████| 21/21 [00:04<00:00,  4.58it/s]\n"
     ]
    },
    {
     "name": "stdout",
     "output_type": "stream",
     "text": [
      "Saving data in folder: '26-06 13:10'\n",
      "Done \n",
      "\n"
     ]
    },
    {
     "name": "stderr",
     "output_type": "stream",
     "text": [
      "coupling=0.9320000000000002: 100%|██████████| 21/21 [00:04<00:00,  4.58it/s]\n"
     ]
    },
    {
     "name": "stdout",
     "output_type": "stream",
     "text": [
      "Saving data in folder: '26-06 13:10'\n",
      "Done \n",
      "\n"
     ]
    },
    {
     "name": "stderr",
     "output_type": "stream",
     "text": [
      "coupling=0.9340000000000002: 100%|██████████| 21/21 [00:04<00:00,  4.58it/s]\n"
     ]
    },
    {
     "name": "stdout",
     "output_type": "stream",
     "text": [
      "Saving data in folder: '26-06 13:10'\n",
      "Done \n",
      "\n"
     ]
    },
    {
     "name": "stderr",
     "output_type": "stream",
     "text": [
      "coupling=0.9360000000000002: 100%|██████████| 21/21 [00:04<00:00,  4.58it/s]\n"
     ]
    },
    {
     "name": "stdout",
     "output_type": "stream",
     "text": [
      "Saving data in folder: '26-06 13:10'\n",
      "Done \n",
      "\n"
     ]
    },
    {
     "name": "stderr",
     "output_type": "stream",
     "text": [
      "coupling=0.9380000000000002: 100%|██████████| 21/21 [00:04<00:00,  4.57it/s]\n"
     ]
    },
    {
     "name": "stdout",
     "output_type": "stream",
     "text": [
      "Saving data in folder: '26-06 13:10'\n",
      "Done \n",
      "\n"
     ]
    },
    {
     "name": "stderr",
     "output_type": "stream",
     "text": [
      "coupling=0.9400000000000002: 100%|██████████| 21/21 [00:04<00:00,  4.56it/s]\n"
     ]
    },
    {
     "name": "stdout",
     "output_type": "stream",
     "text": [
      "Saving data in folder: '26-06 13:10'\n",
      "Done \n",
      "\n"
     ]
    },
    {
     "name": "stderr",
     "output_type": "stream",
     "text": [
      "coupling=0.9420000000000002: 100%|██████████| 21/21 [00:04<00:00,  4.59it/s]\n"
     ]
    },
    {
     "name": "stdout",
     "output_type": "stream",
     "text": [
      "Saving data in folder: '26-06 13:10'\n",
      "Done \n",
      "\n"
     ]
    },
    {
     "name": "stderr",
     "output_type": "stream",
     "text": [
      "coupling=0.9440000000000002: 100%|██████████| 21/21 [00:04<00:00,  4.56it/s]\n"
     ]
    },
    {
     "name": "stdout",
     "output_type": "stream",
     "text": [
      "Saving data in folder: '26-06 13:10'\n",
      "Done \n",
      "\n"
     ]
    },
    {
     "name": "stderr",
     "output_type": "stream",
     "text": [
      "coupling=0.9460000000000002: 100%|██████████| 21/21 [00:04<00:00,  4.58it/s]\n"
     ]
    },
    {
     "name": "stdout",
     "output_type": "stream",
     "text": [
      "Saving data in folder: '26-06 13:10'\n",
      "Done \n",
      "\n"
     ]
    },
    {
     "name": "stderr",
     "output_type": "stream",
     "text": [
      "coupling=0.9480000000000002: 100%|██████████| 21/21 [00:04<00:00,  4.58it/s]\n"
     ]
    },
    {
     "name": "stdout",
     "output_type": "stream",
     "text": [
      "Saving data in folder: '26-06 13:10'\n",
      "Done \n",
      "\n"
     ]
    },
    {
     "name": "stderr",
     "output_type": "stream",
     "text": [
      "coupling=0.9500000000000002: 100%|██████████| 21/21 [00:04<00:00,  4.58it/s]\n"
     ]
    },
    {
     "name": "stdout",
     "output_type": "stream",
     "text": [
      "Saving data in folder: '26-06 13:10'\n",
      "Done \n",
      "\n"
     ]
    },
    {
     "name": "stderr",
     "output_type": "stream",
     "text": [
      "coupling=0.9520000000000002: 100%|██████████| 21/21 [00:04<00:00,  4.56it/s]\n"
     ]
    },
    {
     "name": "stdout",
     "output_type": "stream",
     "text": [
      "Saving data in folder: '26-06 13:10'\n",
      "Done \n",
      "\n"
     ]
    },
    {
     "name": "stderr",
     "output_type": "stream",
     "text": [
      "coupling=0.9540000000000002: 100%|██████████| 21/21 [00:04<00:00,  4.59it/s]\n"
     ]
    },
    {
     "name": "stdout",
     "output_type": "stream",
     "text": [
      "Saving data in folder: '26-06 13:10'\n",
      "Done \n",
      "\n"
     ]
    },
    {
     "name": "stderr",
     "output_type": "stream",
     "text": [
      "coupling=0.9560000000000002: 100%|██████████| 21/21 [00:04<00:00,  4.58it/s]\n"
     ]
    },
    {
     "name": "stdout",
     "output_type": "stream",
     "text": [
      "Saving data in folder: '26-06 13:10'\n",
      "Done \n",
      "\n"
     ]
    },
    {
     "name": "stderr",
     "output_type": "stream",
     "text": [
      "coupling=0.9580000000000002: 100%|██████████| 21/21 [00:04<00:00,  4.57it/s]\n"
     ]
    },
    {
     "name": "stdout",
     "output_type": "stream",
     "text": [
      "Saving data in folder: '26-06 13:10'\n",
      "Done \n",
      "\n"
     ]
    },
    {
     "name": "stderr",
     "output_type": "stream",
     "text": [
      "coupling=0.9600000000000002: 100%|██████████| 21/21 [00:04<00:00,  4.59it/s]\n"
     ]
    },
    {
     "name": "stdout",
     "output_type": "stream",
     "text": [
      "Saving data in folder: '26-06 13:10'\n",
      "Done \n",
      "\n"
     ]
    },
    {
     "name": "stderr",
     "output_type": "stream",
     "text": [
      "coupling=0.9620000000000002: 100%|██████████| 21/21 [00:04<00:00,  4.58it/s]\n"
     ]
    },
    {
     "name": "stdout",
     "output_type": "stream",
     "text": [
      "Saving data in folder: '26-06 13:10'\n",
      "Done \n",
      "\n"
     ]
    },
    {
     "name": "stderr",
     "output_type": "stream",
     "text": [
      "coupling=0.9640000000000002: 100%|██████████| 21/21 [00:04<00:00,  4.55it/s]\n"
     ]
    },
    {
     "name": "stdout",
     "output_type": "stream",
     "text": [
      "Saving data in folder: '26-06 13:10'\n",
      "Done \n",
      "\n"
     ]
    },
    {
     "name": "stderr",
     "output_type": "stream",
     "text": [
      "coupling=0.9660000000000002: 100%|██████████| 21/21 [00:04<00:00,  4.55it/s]\n"
     ]
    },
    {
     "name": "stdout",
     "output_type": "stream",
     "text": [
      "Saving data in folder: '26-06 13:10'\n",
      "Done \n",
      "\n"
     ]
    },
    {
     "name": "stderr",
     "output_type": "stream",
     "text": [
      "coupling=0.9680000000000002: 100%|██████████| 21/21 [00:04<00:00,  4.56it/s]\n"
     ]
    },
    {
     "name": "stdout",
     "output_type": "stream",
     "text": [
      "Saving data in folder: '26-06 13:10'\n",
      "Done \n",
      "\n"
     ]
    },
    {
     "name": "stderr",
     "output_type": "stream",
     "text": [
      "coupling=0.9700000000000002: 100%|██████████| 21/21 [00:04<00:00,  4.55it/s]\n"
     ]
    },
    {
     "name": "stdout",
     "output_type": "stream",
     "text": [
      "Saving data in folder: '26-06 13:10'\n",
      "Done \n",
      "\n"
     ]
    },
    {
     "name": "stderr",
     "output_type": "stream",
     "text": [
      "coupling=0.9720000000000002: 100%|██████████| 21/21 [00:04<00:00,  4.58it/s]\n"
     ]
    },
    {
     "name": "stdout",
     "output_type": "stream",
     "text": [
      "Saving data in folder: '26-06 13:10'\n",
      "Done \n",
      "\n"
     ]
    },
    {
     "name": "stderr",
     "output_type": "stream",
     "text": [
      "coupling=0.9740000000000002: 100%|██████████| 21/21 [00:04<00:00,  4.57it/s]\n"
     ]
    },
    {
     "name": "stdout",
     "output_type": "stream",
     "text": [
      "Saving data in folder: '26-06 13:10'\n",
      "Done \n",
      "\n"
     ]
    },
    {
     "name": "stderr",
     "output_type": "stream",
     "text": [
      "coupling=0.9760000000000002: 100%|██████████| 21/21 [00:04<00:00,  4.57it/s]\n"
     ]
    },
    {
     "name": "stdout",
     "output_type": "stream",
     "text": [
      "Saving data in folder: '26-06 13:10'\n",
      "Done \n",
      "\n"
     ]
    },
    {
     "name": "stderr",
     "output_type": "stream",
     "text": [
      "coupling=0.9780000000000002: 100%|██████████| 21/21 [00:04<00:00,  4.51it/s]\n"
     ]
    },
    {
     "name": "stdout",
     "output_type": "stream",
     "text": [
      "Saving data in folder: '26-06 13:10'\n",
      "Done \n",
      "\n"
     ]
    },
    {
     "name": "stderr",
     "output_type": "stream",
     "text": [
      "coupling=0.9800000000000002: 100%|██████████| 21/21 [00:04<00:00,  4.57it/s]\n"
     ]
    },
    {
     "name": "stdout",
     "output_type": "stream",
     "text": [
      "Saving data in folder: '26-06 13:10'\n",
      "Done \n",
      "\n"
     ]
    },
    {
     "name": "stderr",
     "output_type": "stream",
     "text": [
      "coupling=0.9820000000000002: 100%|██████████| 21/21 [00:04<00:00,  4.55it/s]\n"
     ]
    },
    {
     "name": "stdout",
     "output_type": "stream",
     "text": [
      "Saving data in folder: '26-06 13:10'\n",
      "Done \n",
      "\n"
     ]
    },
    {
     "name": "stderr",
     "output_type": "stream",
     "text": [
      "coupling=0.9840000000000002: 100%|██████████| 21/21 [00:04<00:00,  4.55it/s]\n"
     ]
    },
    {
     "name": "stdout",
     "output_type": "stream",
     "text": [
      "Saving data in folder: '26-06 13:10'\n",
      "Done \n",
      "\n"
     ]
    },
    {
     "name": "stderr",
     "output_type": "stream",
     "text": [
      "coupling=0.9860000000000002: 100%|██████████| 21/21 [00:04<00:00,  4.55it/s]\n"
     ]
    },
    {
     "name": "stdout",
     "output_type": "stream",
     "text": [
      "Saving data in folder: '26-06 13:10'\n",
      "Done \n",
      "\n"
     ]
    },
    {
     "name": "stderr",
     "output_type": "stream",
     "text": [
      "coupling=0.9880000000000002: 100%|██████████| 21/21 [00:04<00:00,  4.57it/s]\n"
     ]
    },
    {
     "name": "stdout",
     "output_type": "stream",
     "text": [
      "Saving data in folder: '26-06 13:10'\n",
      "Done \n",
      "\n"
     ]
    },
    {
     "name": "stderr",
     "output_type": "stream",
     "text": [
      "coupling=0.9900000000000002: 100%|██████████| 21/21 [00:04<00:00,  4.55it/s]\n"
     ]
    },
    {
     "name": "stdout",
     "output_type": "stream",
     "text": [
      "Saving data in folder: '26-06 13:10'\n",
      "Done \n",
      "\n"
     ]
    },
    {
     "name": "stderr",
     "output_type": "stream",
     "text": [
      "coupling=0.9920000000000002: 100%|██████████| 21/21 [00:04<00:00,  4.56it/s]\n"
     ]
    },
    {
     "name": "stdout",
     "output_type": "stream",
     "text": [
      "Saving data in folder: '26-06 13:10'\n",
      "Done \n",
      "\n"
     ]
    },
    {
     "name": "stderr",
     "output_type": "stream",
     "text": [
      "coupling=0.9940000000000002: 100%|██████████| 21/21 [00:04<00:00,  4.56it/s]\n"
     ]
    },
    {
     "name": "stdout",
     "output_type": "stream",
     "text": [
      "Saving data in folder: '26-06 13:10'\n",
      "Done \n",
      "\n"
     ]
    },
    {
     "name": "stderr",
     "output_type": "stream",
     "text": [
      "coupling=0.9960000000000002: 100%|██████████| 21/21 [00:04<00:00,  4.55it/s]\n"
     ]
    },
    {
     "name": "stdout",
     "output_type": "stream",
     "text": [
      "Saving data in folder: '26-06 13:10'\n",
      "Done \n",
      "\n"
     ]
    },
    {
     "name": "stderr",
     "output_type": "stream",
     "text": [
      "coupling=0.9980000000000002: 100%|██████████| 21/21 [00:04<00:00,  4.56it/s]\n"
     ]
    },
    {
     "name": "stdout",
     "output_type": "stream",
     "text": [
      "Saving data in folder: '26-06 13:10'\n",
      "Done \n",
      "\n"
     ]
    },
    {
     "name": "stderr",
     "output_type": "stream",
     "text": [
      "coupling=1.0000000000000002: 100%|██████████| 21/21 [00:04<00:00,  4.54it/s]\n"
     ]
    },
    {
     "name": "stdout",
     "output_type": "stream",
     "text": [
      "Saving data in folder: '26-06 13:10'\n",
      "Done \n",
      "\n"
     ]
    },
    {
     "name": "stderr",
     "output_type": "stream",
     "text": [
      "coupling=1.0020000000000002: 100%|██████████| 21/21 [00:04<00:00,  4.53it/s]\n"
     ]
    },
    {
     "name": "stdout",
     "output_type": "stream",
     "text": [
      "Saving data in folder: '26-06 13:10'\n",
      "Done \n",
      "\n"
     ]
    },
    {
     "name": "stderr",
     "output_type": "stream",
     "text": [
      "coupling=1.0040000000000002: 100%|██████████| 21/21 [00:04<00:00,  4.57it/s]\n"
     ]
    },
    {
     "name": "stdout",
     "output_type": "stream",
     "text": [
      "Saving data in folder: '26-06 13:10'\n",
      "Done \n",
      "\n"
     ]
    },
    {
     "name": "stderr",
     "output_type": "stream",
     "text": [
      "coupling=1.0060000000000002: 100%|██████████| 21/21 [00:04<00:00,  4.56it/s]\n"
     ]
    },
    {
     "name": "stdout",
     "output_type": "stream",
     "text": [
      "Saving data in folder: '26-06 13:10'\n",
      "Done \n",
      "\n"
     ]
    },
    {
     "name": "stderr",
     "output_type": "stream",
     "text": [
      "coupling=1.0080000000000002: 100%|██████████| 21/21 [00:04<00:00,  4.56it/s]\n"
     ]
    },
    {
     "name": "stdout",
     "output_type": "stream",
     "text": [
      "Saving data in folder: '26-06 13:10'\n",
      "Done \n",
      "\n"
     ]
    },
    {
     "name": "stderr",
     "output_type": "stream",
     "text": [
      "coupling=1.0100000000000002: 100%|██████████| 21/21 [00:04<00:00,  4.51it/s]\n"
     ]
    },
    {
     "name": "stdout",
     "output_type": "stream",
     "text": [
      "Saving data in folder: '26-06 13:10'\n",
      "Done \n",
      "\n"
     ]
    },
    {
     "name": "stderr",
     "output_type": "stream",
     "text": [
      "coupling=1.0120000000000002: 100%|██████████| 21/21 [00:04<00:00,  4.55it/s]\n"
     ]
    },
    {
     "name": "stdout",
     "output_type": "stream",
     "text": [
      "Saving data in folder: '26-06 13:10'\n",
      "Done \n",
      "\n"
     ]
    },
    {
     "name": "stderr",
     "output_type": "stream",
     "text": [
      "coupling=1.0140000000000002: 100%|██████████| 21/21 [00:04<00:00,  4.50it/s]\n"
     ]
    },
    {
     "name": "stdout",
     "output_type": "stream",
     "text": [
      "Saving data in folder: '26-06 13:10'\n",
      "Done \n",
      "\n"
     ]
    },
    {
     "name": "stderr",
     "output_type": "stream",
     "text": [
      "coupling=1.0160000000000002: 100%|██████████| 21/21 [00:04<00:00,  4.53it/s]\n"
     ]
    },
    {
     "name": "stdout",
     "output_type": "stream",
     "text": [
      "Saving data in folder: '26-06 13:10'\n",
      "Done \n",
      "\n"
     ]
    },
    {
     "name": "stderr",
     "output_type": "stream",
     "text": [
      "coupling=1.0180000000000002: 100%|██████████| 21/21 [00:04<00:00,  4.55it/s]\n"
     ]
    },
    {
     "name": "stdout",
     "output_type": "stream",
     "text": [
      "Saving data in folder: '26-06 13:10'\n",
      "Done \n",
      "\n"
     ]
    },
    {
     "name": "stderr",
     "output_type": "stream",
     "text": [
      "coupling=1.0200000000000002: 100%|██████████| 21/21 [00:04<00:00,  4.55it/s]\n"
     ]
    },
    {
     "name": "stdout",
     "output_type": "stream",
     "text": [
      "Saving data in folder: '26-06 13:10'\n",
      "Done \n",
      "\n"
     ]
    },
    {
     "name": "stderr",
     "output_type": "stream",
     "text": [
      "coupling=1.0220000000000002: 100%|██████████| 21/21 [00:04<00:00,  4.52it/s]\n"
     ]
    },
    {
     "name": "stdout",
     "output_type": "stream",
     "text": [
      "Saving data in folder: '26-06 13:10'\n",
      "Done \n",
      "\n"
     ]
    },
    {
     "name": "stderr",
     "output_type": "stream",
     "text": [
      "coupling=1.0240000000000002: 100%|██████████| 21/21 [00:04<00:00,  4.66it/s]\n"
     ]
    },
    {
     "name": "stdout",
     "output_type": "stream",
     "text": [
      "Saving data in folder: '26-06 13:10'\n",
      "Done \n",
      "\n"
     ]
    },
    {
     "name": "stderr",
     "output_type": "stream",
     "text": [
      "coupling=1.0260000000000002: 100%|██████████| 21/21 [00:04<00:00,  4.64it/s]\n"
     ]
    },
    {
     "name": "stdout",
     "output_type": "stream",
     "text": [
      "Saving data in folder: '26-06 13:10'\n",
      "Done \n",
      "\n"
     ]
    },
    {
     "name": "stderr",
     "output_type": "stream",
     "text": [
      "coupling=1.0280000000000002: 100%|██████████| 21/21 [00:04<00:00,  4.54it/s]\n"
     ]
    },
    {
     "name": "stdout",
     "output_type": "stream",
     "text": [
      "Saving data in folder: '26-06 13:10'\n",
      "Done \n",
      "\n"
     ]
    },
    {
     "name": "stderr",
     "output_type": "stream",
     "text": [
      "coupling=1.0300000000000002: 100%|██████████| 21/21 [00:04<00:00,  4.46it/s]\n"
     ]
    },
    {
     "name": "stdout",
     "output_type": "stream",
     "text": [
      "Saving data in folder: '26-06 13:10'\n",
      "Done \n",
      "\n"
     ]
    },
    {
     "name": "stderr",
     "output_type": "stream",
     "text": [
      "coupling=1.0320000000000003: 100%|██████████| 21/21 [00:04<00:00,  4.55it/s]\n"
     ]
    },
    {
     "name": "stdout",
     "output_type": "stream",
     "text": [
      "Saving data in folder: '26-06 13:10'\n",
      "Done \n",
      "\n"
     ]
    },
    {
     "name": "stderr",
     "output_type": "stream",
     "text": [
      "coupling=1.0340000000000003: 100%|██████████| 21/21 [00:04<00:00,  4.54it/s]\n"
     ]
    },
    {
     "name": "stdout",
     "output_type": "stream",
     "text": [
      "Saving data in folder: '26-06 13:10'\n",
      "Done \n",
      "\n"
     ]
    },
    {
     "name": "stderr",
     "output_type": "stream",
     "text": [
      "coupling=1.0360000000000003: 100%|██████████| 21/21 [00:04<00:00,  4.53it/s]\n"
     ]
    },
    {
     "name": "stdout",
     "output_type": "stream",
     "text": [
      "Saving data in folder: '26-06 13:10'\n",
      "Done \n",
      "\n"
     ]
    },
    {
     "name": "stderr",
     "output_type": "stream",
     "text": [
      "coupling=1.0380000000000003: 100%|██████████| 21/21 [00:04<00:00,  4.52it/s]\n"
     ]
    },
    {
     "name": "stdout",
     "output_type": "stream",
     "text": [
      "Saving data in folder: '26-06 13:10'\n",
      "Done \n",
      "\n"
     ]
    },
    {
     "name": "stderr",
     "output_type": "stream",
     "text": [
      "coupling=1.0400000000000003: 100%|██████████| 21/21 [00:04<00:00,  4.55it/s]\n"
     ]
    },
    {
     "name": "stdout",
     "output_type": "stream",
     "text": [
      "Saving data in folder: '26-06 13:10'\n",
      "Done \n",
      "\n"
     ]
    },
    {
     "name": "stderr",
     "output_type": "stream",
     "text": [
      "coupling=1.0420000000000003: 100%|██████████| 21/21 [00:04<00:00,  4.53it/s]\n"
     ]
    },
    {
     "name": "stdout",
     "output_type": "stream",
     "text": [
      "Saving data in folder: '26-06 13:10'\n",
      "Done \n",
      "\n"
     ]
    },
    {
     "name": "stderr",
     "output_type": "stream",
     "text": [
      "coupling=1.0440000000000003: 100%|██████████| 21/21 [00:04<00:00,  4.57it/s]\n"
     ]
    },
    {
     "name": "stdout",
     "output_type": "stream",
     "text": [
      "Saving data in folder: '26-06 13:10'\n",
      "Done \n",
      "\n"
     ]
    },
    {
     "name": "stderr",
     "output_type": "stream",
     "text": [
      "coupling=1.0460000000000003: 100%|██████████| 21/21 [00:04<00:00,  4.56it/s]\n"
     ]
    },
    {
     "name": "stdout",
     "output_type": "stream",
     "text": [
      "Saving data in folder: '26-06 13:10'\n",
      "Done \n",
      "\n"
     ]
    },
    {
     "name": "stderr",
     "output_type": "stream",
     "text": [
      "coupling=1.0480000000000003: 100%|██████████| 21/21 [00:04<00:00,  4.58it/s]\n"
     ]
    },
    {
     "name": "stdout",
     "output_type": "stream",
     "text": [
      "Saving data in folder: '26-06 13:10'\n",
      "Done \n",
      "\n"
     ]
    },
    {
     "name": "stderr",
     "output_type": "stream",
     "text": [
      "coupling=1.0500000000000003: 100%|██████████| 21/21 [00:04<00:00,  4.55it/s]\n"
     ]
    },
    {
     "name": "stdout",
     "output_type": "stream",
     "text": [
      "Saving data in folder: '26-06 13:10'\n",
      "Done \n",
      "\n"
     ]
    },
    {
     "name": "stderr",
     "output_type": "stream",
     "text": [
      "coupling=1.0520000000000003: 100%|██████████| 21/21 [00:04<00:00,  4.57it/s]\n"
     ]
    },
    {
     "name": "stdout",
     "output_type": "stream",
     "text": [
      "Saving data in folder: '26-06 13:10'\n",
      "Done \n",
      "\n"
     ]
    },
    {
     "name": "stderr",
     "output_type": "stream",
     "text": [
      "coupling=1.0540000000000003: 100%|██████████| 21/21 [00:04<00:00,  4.53it/s]\n"
     ]
    },
    {
     "name": "stdout",
     "output_type": "stream",
     "text": [
      "Saving data in folder: '26-06 13:10'\n",
      "Done \n",
      "\n"
     ]
    },
    {
     "name": "stderr",
     "output_type": "stream",
     "text": [
      "coupling=1.0560000000000003: 100%|██████████| 21/21 [00:04<00:00,  4.57it/s]\n"
     ]
    },
    {
     "name": "stdout",
     "output_type": "stream",
     "text": [
      "Saving data in folder: '26-06 13:10'\n",
      "Done \n",
      "\n"
     ]
    },
    {
     "name": "stderr",
     "output_type": "stream",
     "text": [
      "coupling=1.0580000000000003: 100%|██████████| 21/21 [00:04<00:00,  4.55it/s]\n"
     ]
    },
    {
     "name": "stdout",
     "output_type": "stream",
     "text": [
      "Saving data in folder: '26-06 13:10'\n",
      "Done \n",
      "\n"
     ]
    },
    {
     "name": "stderr",
     "output_type": "stream",
     "text": [
      "coupling=1.0600000000000003: 100%|██████████| 21/21 [00:04<00:00,  4.54it/s]\n"
     ]
    },
    {
     "name": "stdout",
     "output_type": "stream",
     "text": [
      "Saving data in folder: '26-06 13:10'\n",
      "Done \n",
      "\n"
     ]
    },
    {
     "name": "stderr",
     "output_type": "stream",
     "text": [
      "coupling=1.0620000000000003: 100%|██████████| 21/21 [00:04<00:00,  4.50it/s]\n"
     ]
    },
    {
     "name": "stdout",
     "output_type": "stream",
     "text": [
      "Saving data in folder: '26-06 13:10'\n",
      "Done \n",
      "\n"
     ]
    },
    {
     "name": "stderr",
     "output_type": "stream",
     "text": [
      "coupling=1.0640000000000003: 100%|██████████| 21/21 [00:04<00:00,  4.56it/s]\n"
     ]
    },
    {
     "name": "stdout",
     "output_type": "stream",
     "text": [
      "Saving data in folder: '26-06 13:10'\n",
      "Done \n",
      "\n"
     ]
    },
    {
     "name": "stderr",
     "output_type": "stream",
     "text": [
      "coupling=1.0660000000000003: 100%|██████████| 21/21 [00:04<00:00,  4.55it/s]\n"
     ]
    },
    {
     "name": "stdout",
     "output_type": "stream",
     "text": [
      "Saving data in folder: '26-06 13:10'\n",
      "Done \n",
      "\n"
     ]
    },
    {
     "name": "stderr",
     "output_type": "stream",
     "text": [
      "coupling=1.0680000000000003: 100%|██████████| 21/21 [00:04<00:00,  4.54it/s]\n"
     ]
    },
    {
     "name": "stdout",
     "output_type": "stream",
     "text": [
      "Saving data in folder: '26-06 13:10'\n",
      "Done \n",
      "\n"
     ]
    },
    {
     "name": "stderr",
     "output_type": "stream",
     "text": [
      "coupling=1.0700000000000003: 100%|██████████| 21/21 [00:04<00:00,  4.56it/s]\n"
     ]
    },
    {
     "name": "stdout",
     "output_type": "stream",
     "text": [
      "Saving data in folder: '26-06 13:10'\n",
      "Done \n",
      "\n"
     ]
    },
    {
     "name": "stderr",
     "output_type": "stream",
     "text": [
      "coupling=1.0720000000000003: 100%|██████████| 21/21 [00:04<00:00,  4.57it/s]\n"
     ]
    },
    {
     "name": "stdout",
     "output_type": "stream",
     "text": [
      "Saving data in folder: '26-06 13:10'\n",
      "Done \n",
      "\n"
     ]
    },
    {
     "name": "stderr",
     "output_type": "stream",
     "text": [
      "coupling=1.0740000000000003: 100%|██████████| 21/21 [00:04<00:00,  4.58it/s]\n"
     ]
    },
    {
     "name": "stdout",
     "output_type": "stream",
     "text": [
      "Saving data in folder: '26-06 13:10'\n",
      "Done \n",
      "\n"
     ]
    },
    {
     "name": "stderr",
     "output_type": "stream",
     "text": [
      "coupling=1.0760000000000003: 100%|██████████| 21/21 [00:04<00:00,  4.54it/s]\n"
     ]
    },
    {
     "name": "stdout",
     "output_type": "stream",
     "text": [
      "Saving data in folder: '26-06 13:10'\n",
      "Done \n",
      "\n"
     ]
    },
    {
     "name": "stderr",
     "output_type": "stream",
     "text": [
      "coupling=1.0780000000000003: 100%|██████████| 21/21 [00:04<00:00,  4.55it/s]\n"
     ]
    },
    {
     "name": "stdout",
     "output_type": "stream",
     "text": [
      "Saving data in folder: '26-06 13:10'\n",
      "Done \n",
      "\n"
     ]
    },
    {
     "name": "stderr",
     "output_type": "stream",
     "text": [
      "coupling=1.0800000000000003: 100%|██████████| 21/21 [00:04<00:00,  4.53it/s]\n"
     ]
    },
    {
     "name": "stdout",
     "output_type": "stream",
     "text": [
      "Saving data in folder: '26-06 13:10'\n",
      "Done \n",
      "\n"
     ]
    },
    {
     "name": "stderr",
     "output_type": "stream",
     "text": [
      "coupling=1.0820000000000003: 100%|██████████| 21/21 [00:04<00:00,  4.61it/s]\n"
     ]
    },
    {
     "name": "stdout",
     "output_type": "stream",
     "text": [
      "Saving data in folder: '26-06 13:10'\n",
      "Done \n",
      "\n"
     ]
    },
    {
     "name": "stderr",
     "output_type": "stream",
     "text": [
      "coupling=1.0840000000000003: 100%|██████████| 21/21 [00:04<00:00,  4.57it/s]\n"
     ]
    },
    {
     "name": "stdout",
     "output_type": "stream",
     "text": [
      "Saving data in folder: '26-06 13:10'\n",
      "Done \n",
      "\n"
     ]
    },
    {
     "name": "stderr",
     "output_type": "stream",
     "text": [
      "coupling=1.0860000000000003: 100%|██████████| 21/21 [00:04<00:00,  4.55it/s]\n"
     ]
    },
    {
     "name": "stdout",
     "output_type": "stream",
     "text": [
      "Saving data in folder: '26-06 13:10'\n",
      "Done \n",
      "\n"
     ]
    },
    {
     "name": "stderr",
     "output_type": "stream",
     "text": [
      "coupling=1.0880000000000003: 100%|██████████| 21/21 [00:04<00:00,  4.54it/s]\n"
     ]
    },
    {
     "name": "stdout",
     "output_type": "stream",
     "text": [
      "Saving data in folder: '26-06 13:10'\n",
      "Done \n",
      "\n"
     ]
    },
    {
     "name": "stderr",
     "output_type": "stream",
     "text": [
      "coupling=1.0900000000000003: 100%|██████████| 21/21 [00:04<00:00,  4.53it/s]\n"
     ]
    },
    {
     "name": "stdout",
     "output_type": "stream",
     "text": [
      "Saving data in folder: '26-06 13:10'\n",
      "Done \n",
      "\n"
     ]
    },
    {
     "name": "stderr",
     "output_type": "stream",
     "text": [
      "coupling=1.0920000000000003: 100%|██████████| 21/21 [00:04<00:00,  4.55it/s]\n"
     ]
    },
    {
     "name": "stdout",
     "output_type": "stream",
     "text": [
      "Saving data in folder: '26-06 13:10'\n",
      "Done \n",
      "\n"
     ]
    },
    {
     "name": "stderr",
     "output_type": "stream",
     "text": [
      "coupling=1.0940000000000003: 100%|██████████| 21/21 [00:04<00:00,  4.57it/s]\n"
     ]
    },
    {
     "name": "stdout",
     "output_type": "stream",
     "text": [
      "Saving data in folder: '26-06 13:10'\n",
      "Done \n",
      "\n"
     ]
    },
    {
     "name": "stderr",
     "output_type": "stream",
     "text": [
      "coupling=1.0960000000000003: 100%|██████████| 21/21 [00:04<00:00,  4.58it/s]\n"
     ]
    },
    {
     "name": "stdout",
     "output_type": "stream",
     "text": [
      "Saving data in folder: '26-06 13:10'\n",
      "Done \n",
      "\n"
     ]
    },
    {
     "name": "stderr",
     "output_type": "stream",
     "text": [
      "coupling=1.0980000000000003: 100%|██████████| 21/21 [00:04<00:00,  4.56it/s]\n"
     ]
    },
    {
     "name": "stdout",
     "output_type": "stream",
     "text": [
      "Saving data in folder: '26-06 13:10'\n",
      "Done \n",
      "\n"
     ]
    },
    {
     "name": "stderr",
     "output_type": "stream",
     "text": [
      "coupling=1.1000000000000003: 100%|██████████| 21/21 [00:04<00:00,  4.58it/s]\n"
     ]
    },
    {
     "name": "stdout",
     "output_type": "stream",
     "text": [
      "Saving data in folder: '26-06 13:10'\n",
      "Done \n",
      "\n"
     ]
    },
    {
     "name": "stderr",
     "output_type": "stream",
     "text": [
      "coupling=1.1020000000000003: 100%|██████████| 21/21 [00:04<00:00,  4.60it/s]\n"
     ]
    },
    {
     "name": "stdout",
     "output_type": "stream",
     "text": [
      "Saving data in folder: '26-06 13:10'\n",
      "Done \n",
      "\n"
     ]
    },
    {
     "name": "stderr",
     "output_type": "stream",
     "text": [
      "coupling=1.1040000000000003: 100%|██████████| 21/21 [00:04<00:00,  4.45it/s]\n"
     ]
    },
    {
     "name": "stdout",
     "output_type": "stream",
     "text": [
      "Saving data in folder: '26-06 13:10'\n",
      "Done \n",
      "\n"
     ]
    },
    {
     "name": "stderr",
     "output_type": "stream",
     "text": [
      "coupling=1.1060000000000003: 100%|██████████| 21/21 [00:04<00:00,  4.54it/s]\n"
     ]
    },
    {
     "name": "stdout",
     "output_type": "stream",
     "text": [
      "Saving data in folder: '26-06 13:10'\n",
      "Done \n",
      "\n"
     ]
    },
    {
     "name": "stderr",
     "output_type": "stream",
     "text": [
      "coupling=1.1080000000000003: 100%|██████████| 21/21 [00:04<00:00,  4.57it/s]\n"
     ]
    },
    {
     "name": "stdout",
     "output_type": "stream",
     "text": [
      "Saving data in folder: '26-06 13:10'\n",
      "Done \n",
      "\n"
     ]
    },
    {
     "name": "stderr",
     "output_type": "stream",
     "text": [
      "coupling=1.1100000000000003: 100%|██████████| 21/21 [00:04<00:00,  4.56it/s]\n"
     ]
    },
    {
     "name": "stdout",
     "output_type": "stream",
     "text": [
      "Saving data in folder: '26-06 13:10'\n",
      "Done \n",
      "\n"
     ]
    },
    {
     "name": "stderr",
     "output_type": "stream",
     "text": [
      "coupling=1.1120000000000003: 100%|██████████| 21/21 [00:04<00:00,  4.72it/s]\n"
     ]
    },
    {
     "name": "stdout",
     "output_type": "stream",
     "text": [
      "Saving data in folder: '26-06 13:10'\n",
      "Done \n",
      "\n"
     ]
    },
    {
     "name": "stderr",
     "output_type": "stream",
     "text": [
      "coupling=1.1140000000000003: 100%|██████████| 21/21 [00:04<00:00,  4.56it/s]\n"
     ]
    },
    {
     "name": "stdout",
     "output_type": "stream",
     "text": [
      "Saving data in folder: '26-06 13:10'\n",
      "Done \n",
      "\n"
     ]
    },
    {
     "name": "stderr",
     "output_type": "stream",
     "text": [
      "coupling=1.1160000000000003: 100%|██████████| 21/21 [00:04<00:00,  4.59it/s]\n"
     ]
    },
    {
     "name": "stdout",
     "output_type": "stream",
     "text": [
      "Saving data in folder: '26-06 13:10'\n",
      "Done \n",
      "\n"
     ]
    },
    {
     "name": "stderr",
     "output_type": "stream",
     "text": [
      "coupling=1.1180000000000003: 100%|██████████| 21/21 [00:04<00:00,  4.56it/s]\n"
     ]
    },
    {
     "name": "stdout",
     "output_type": "stream",
     "text": [
      "Saving data in folder: '26-06 13:10'\n",
      "Done \n",
      "\n"
     ]
    },
    {
     "name": "stderr",
     "output_type": "stream",
     "text": [
      "coupling=1.1200000000000003: 100%|██████████| 21/21 [00:04<00:00,  4.60it/s]\n"
     ]
    },
    {
     "name": "stdout",
     "output_type": "stream",
     "text": [
      "Saving data in folder: '26-06 13:10'\n",
      "Done \n",
      "\n"
     ]
    },
    {
     "name": "stderr",
     "output_type": "stream",
     "text": [
      "coupling=1.1220000000000003: 100%|██████████| 21/21 [00:04<00:00,  4.59it/s]\n"
     ]
    },
    {
     "name": "stdout",
     "output_type": "stream",
     "text": [
      "Saving data in folder: '26-06 13:10'\n",
      "Done \n",
      "\n"
     ]
    },
    {
     "name": "stderr",
     "output_type": "stream",
     "text": [
      "coupling=1.1240000000000003: 100%|██████████| 21/21 [00:04<00:00,  4.60it/s]\n"
     ]
    },
    {
     "name": "stdout",
     "output_type": "stream",
     "text": [
      "Saving data in folder: '26-06 13:10'\n",
      "Done \n",
      "\n"
     ]
    },
    {
     "name": "stderr",
     "output_type": "stream",
     "text": [
      "coupling=1.1260000000000003: 100%|██████████| 21/21 [00:04<00:00,  4.61it/s]\n"
     ]
    },
    {
     "name": "stdout",
     "output_type": "stream",
     "text": [
      "Saving data in folder: '26-06 13:10'\n",
      "Done \n",
      "\n"
     ]
    },
    {
     "name": "stderr",
     "output_type": "stream",
     "text": [
      "coupling=1.1280000000000003: 100%|██████████| 21/21 [00:04<00:00,  4.65it/s]\n"
     ]
    },
    {
     "name": "stdout",
     "output_type": "stream",
     "text": [
      "Saving data in folder: '26-06 13:10'\n",
      "Done \n",
      "\n"
     ]
    },
    {
     "name": "stderr",
     "output_type": "stream",
     "text": [
      "coupling=1.1300000000000003: 100%|██████████| 21/21 [00:04<00:00,  4.64it/s]\n"
     ]
    },
    {
     "name": "stdout",
     "output_type": "stream",
     "text": [
      "Saving data in folder: '26-06 13:10'\n",
      "Done \n",
      "\n"
     ]
    },
    {
     "name": "stderr",
     "output_type": "stream",
     "text": [
      "coupling=1.1320000000000003: 100%|██████████| 21/21 [00:04<00:00,  4.66it/s]\n"
     ]
    },
    {
     "name": "stdout",
     "output_type": "stream",
     "text": [
      "Saving data in folder: '26-06 13:10'\n",
      "Done \n",
      "\n"
     ]
    },
    {
     "name": "stderr",
     "output_type": "stream",
     "text": [
      "coupling=1.1340000000000003: 100%|██████████| 21/21 [00:04<00:00,  4.70it/s]\n"
     ]
    },
    {
     "name": "stdout",
     "output_type": "stream",
     "text": [
      "Saving data in folder: '26-06 13:10'\n",
      "Done \n",
      "\n"
     ]
    },
    {
     "name": "stderr",
     "output_type": "stream",
     "text": [
      "coupling=1.1360000000000003: 100%|██████████| 21/21 [00:04<00:00,  4.71it/s]\n"
     ]
    },
    {
     "name": "stdout",
     "output_type": "stream",
     "text": [
      "Saving data in folder: '26-06 13:10'\n",
      "Done \n",
      "\n"
     ]
    },
    {
     "name": "stderr",
     "output_type": "stream",
     "text": [
      "coupling=1.1380000000000003: 100%|██████████| 21/21 [00:04<00:00,  4.73it/s]\n"
     ]
    },
    {
     "name": "stdout",
     "output_type": "stream",
     "text": [
      "Saving data in folder: '26-06 13:10'\n",
      "Done \n",
      "\n"
     ]
    },
    {
     "name": "stderr",
     "output_type": "stream",
     "text": [
      "coupling=1.1400000000000003: 100%|██████████| 21/21 [00:04<00:00,  4.75it/s]\n"
     ]
    },
    {
     "name": "stdout",
     "output_type": "stream",
     "text": [
      "Saving data in folder: '26-06 13:10'\n",
      "Done \n",
      "\n"
     ]
    },
    {
     "name": "stderr",
     "output_type": "stream",
     "text": [
      "coupling=1.1420000000000003: 100%|██████████| 21/21 [00:04<00:00,  4.84it/s]\n"
     ]
    },
    {
     "name": "stdout",
     "output_type": "stream",
     "text": [
      "Saving data in folder: '26-06 13:10'\n",
      "Done \n",
      "\n"
     ]
    },
    {
     "name": "stderr",
     "output_type": "stream",
     "text": [
      "coupling=1.1440000000000003: 100%|██████████| 21/21 [00:04<00:00,  4.83it/s]\n"
     ]
    },
    {
     "name": "stdout",
     "output_type": "stream",
     "text": [
      "Saving data in folder: '26-06 13:10'\n",
      "Done \n",
      "\n"
     ]
    },
    {
     "name": "stderr",
     "output_type": "stream",
     "text": [
      "coupling=1.1460000000000004: 100%|██████████| 21/21 [00:04<00:00,  4.87it/s]\n"
     ]
    },
    {
     "name": "stdout",
     "output_type": "stream",
     "text": [
      "Saving data in folder: '26-06 13:10'\n",
      "Done \n",
      "\n"
     ]
    },
    {
     "name": "stderr",
     "output_type": "stream",
     "text": [
      "coupling=1.1480000000000004: 100%|██████████| 21/21 [00:04<00:00,  4.88it/s]\n"
     ]
    },
    {
     "name": "stdout",
     "output_type": "stream",
     "text": [
      "Saving data in folder: '26-06 13:10'\n",
      "Done \n",
      "\n"
     ]
    },
    {
     "name": "stderr",
     "output_type": "stream",
     "text": [
      "coupling=1.1500000000000004: 100%|██████████| 21/21 [00:04<00:00,  4.92it/s]\n"
     ]
    },
    {
     "name": "stdout",
     "output_type": "stream",
     "text": [
      "Saving data in folder: '26-06 13:10'\n",
      "Done \n",
      "\n"
     ]
    },
    {
     "name": "stderr",
     "output_type": "stream",
     "text": [
      "coupling=1.1520000000000004: 100%|██████████| 21/21 [00:04<00:00,  5.02it/s]\n"
     ]
    },
    {
     "name": "stdout",
     "output_type": "stream",
     "text": [
      "Saving data in folder: '26-06 13:10'\n",
      "Done \n",
      "\n"
     ]
    },
    {
     "name": "stderr",
     "output_type": "stream",
     "text": [
      "coupling=1.1540000000000004: 100%|██████████| 21/21 [00:04<00:00,  5.02it/s]\n"
     ]
    },
    {
     "name": "stdout",
     "output_type": "stream",
     "text": [
      "Saving data in folder: '26-06 13:10'\n",
      "Done \n",
      "\n"
     ]
    },
    {
     "name": "stderr",
     "output_type": "stream",
     "text": [
      "coupling=1.1560000000000004: 100%|██████████| 21/21 [00:04<00:00,  5.07it/s]\n"
     ]
    },
    {
     "name": "stdout",
     "output_type": "stream",
     "text": [
      "Saving data in folder: '26-06 13:10'\n",
      "Done \n",
      "\n"
     ]
    },
    {
     "name": "stderr",
     "output_type": "stream",
     "text": [
      "coupling=1.1580000000000004: 100%|██████████| 21/21 [00:04<00:00,  5.13it/s]\n"
     ]
    },
    {
     "name": "stdout",
     "output_type": "stream",
     "text": [
      "Saving data in folder: '26-06 13:10'\n",
      "Done \n",
      "\n"
     ]
    },
    {
     "name": "stderr",
     "output_type": "stream",
     "text": [
      "coupling=1.1600000000000004: 100%|██████████| 21/21 [00:04<00:00,  5.17it/s]\n"
     ]
    },
    {
     "name": "stdout",
     "output_type": "stream",
     "text": [
      "Saving data in folder: '26-06 13:10'\n",
      "Done \n",
      "\n"
     ]
    },
    {
     "name": "stderr",
     "output_type": "stream",
     "text": [
      "coupling=1.1620000000000004: 100%|██████████| 21/21 [00:04<00:00,  5.20it/s]\n"
     ]
    },
    {
     "name": "stdout",
     "output_type": "stream",
     "text": [
      "Saving data in folder: '26-06 13:10'\n",
      "Done \n",
      "\n"
     ]
    },
    {
     "name": "stderr",
     "output_type": "stream",
     "text": [
      "coupling=1.1640000000000004: 100%|██████████| 21/21 [00:04<00:00,  5.23it/s]\n"
     ]
    },
    {
     "name": "stdout",
     "output_type": "stream",
     "text": [
      "Saving data in folder: '26-06 13:10'\n",
      "Done \n",
      "\n"
     ]
    },
    {
     "name": "stderr",
     "output_type": "stream",
     "text": [
      "coupling=1.1660000000000004: 100%|██████████| 21/21 [00:03<00:00,  5.28it/s]\n"
     ]
    },
    {
     "name": "stdout",
     "output_type": "stream",
     "text": [
      "Saving data in folder: '26-06 13:10'\n",
      "Done \n",
      "\n"
     ]
    },
    {
     "name": "stderr",
     "output_type": "stream",
     "text": [
      "coupling=1.1680000000000004: 100%|██████████| 21/21 [00:03<00:00,  5.34it/s]\n"
     ]
    },
    {
     "name": "stdout",
     "output_type": "stream",
     "text": [
      "Saving data in folder: '26-06 13:10'\n",
      "Done \n",
      "\n"
     ]
    },
    {
     "name": "stderr",
     "output_type": "stream",
     "text": [
      "coupling=1.1700000000000004: 100%|██████████| 21/21 [00:03<00:00,  5.37it/s]\n"
     ]
    },
    {
     "name": "stdout",
     "output_type": "stream",
     "text": [
      "Saving data in folder: '26-06 13:10'\n",
      "Done \n",
      "\n"
     ]
    },
    {
     "name": "stderr",
     "output_type": "stream",
     "text": [
      "coupling=1.1720000000000004: 100%|██████████| 21/21 [00:03<00:00,  5.40it/s]\n"
     ]
    },
    {
     "name": "stdout",
     "output_type": "stream",
     "text": [
      "Saving data in folder: '26-06 13:10'\n",
      "Done \n",
      "\n"
     ]
    },
    {
     "name": "stderr",
     "output_type": "stream",
     "text": [
      "coupling=1.1740000000000004: 100%|██████████| 21/21 [00:03<00:00,  5.53it/s]\n"
     ]
    },
    {
     "name": "stdout",
     "output_type": "stream",
     "text": [
      "Saving data in folder: '26-06 13:10'\n",
      "Done \n",
      "\n"
     ]
    },
    {
     "name": "stderr",
     "output_type": "stream",
     "text": [
      "coupling=1.1760000000000004: 100%|██████████| 21/21 [00:03<00:00,  5.46it/s]\n"
     ]
    },
    {
     "name": "stdout",
     "output_type": "stream",
     "text": [
      "Saving data in folder: '26-06 13:10'\n",
      "Done \n",
      "\n"
     ]
    },
    {
     "name": "stderr",
     "output_type": "stream",
     "text": [
      "coupling=1.1780000000000004: 100%|██████████| 21/21 [00:03<00:00,  5.51it/s]\n"
     ]
    },
    {
     "name": "stdout",
     "output_type": "stream",
     "text": [
      "Saving data in folder: '26-06 13:10'\n",
      "Done \n",
      "\n"
     ]
    },
    {
     "name": "stderr",
     "output_type": "stream",
     "text": [
      "coupling=1.1800000000000004: 100%|██████████| 21/21 [00:03<00:00,  5.56it/s]\n"
     ]
    },
    {
     "name": "stdout",
     "output_type": "stream",
     "text": [
      "Saving data in folder: '26-06 13:10'\n",
      "Done \n",
      "\n"
     ]
    },
    {
     "name": "stderr",
     "output_type": "stream",
     "text": [
      "coupling=1.1820000000000004: 100%|██████████| 21/21 [00:03<00:00,  5.61it/s]\n"
     ]
    },
    {
     "name": "stdout",
     "output_type": "stream",
     "text": [
      "Saving data in folder: '26-06 13:10'\n",
      "Done \n",
      "\n"
     ]
    },
    {
     "name": "stderr",
     "output_type": "stream",
     "text": [
      "coupling=1.1840000000000004: 100%|██████████| 21/21 [00:03<00:00,  5.62it/s]\n"
     ]
    },
    {
     "name": "stdout",
     "output_type": "stream",
     "text": [
      "Saving data in folder: '26-06 13:10'\n",
      "Done \n",
      "\n"
     ]
    },
    {
     "name": "stderr",
     "output_type": "stream",
     "text": [
      "coupling=1.1860000000000004: 100%|██████████| 21/21 [00:03<00:00,  5.74it/s]\n"
     ]
    },
    {
     "name": "stdout",
     "output_type": "stream",
     "text": [
      "Saving data in folder: '26-06 13:10'\n",
      "Done \n",
      "\n"
     ]
    },
    {
     "name": "stderr",
     "output_type": "stream",
     "text": [
      "coupling=1.1880000000000004: 100%|██████████| 21/21 [00:03<00:00,  5.72it/s]\n"
     ]
    },
    {
     "name": "stdout",
     "output_type": "stream",
     "text": [
      "Saving data in folder: '26-06 13:10'\n",
      "Done \n",
      "\n"
     ]
    },
    {
     "name": "stderr",
     "output_type": "stream",
     "text": [
      "coupling=1.1900000000000004: 100%|██████████| 21/21 [00:03<00:00,  5.79it/s]\n"
     ]
    },
    {
     "name": "stdout",
     "output_type": "stream",
     "text": [
      "Saving data in folder: '26-06 13:10'\n",
      "Done \n",
      "\n"
     ]
    },
    {
     "name": "stderr",
     "output_type": "stream",
     "text": [
      "coupling=1.1920000000000004: 100%|██████████| 21/21 [00:03<00:00,  5.85it/s]\n"
     ]
    },
    {
     "name": "stdout",
     "output_type": "stream",
     "text": [
      "Saving data in folder: '26-06 13:10'\n",
      "Done \n",
      "\n"
     ]
    },
    {
     "name": "stderr",
     "output_type": "stream",
     "text": [
      "coupling=1.1940000000000004: 100%|██████████| 21/21 [00:03<00:00,  5.86it/s]\n"
     ]
    },
    {
     "name": "stdout",
     "output_type": "stream",
     "text": [
      "Saving data in folder: '26-06 13:10'\n",
      "Done \n",
      "\n"
     ]
    },
    {
     "name": "stderr",
     "output_type": "stream",
     "text": [
      "coupling=1.1960000000000004: 100%|██████████| 21/21 [00:03<00:00,  5.89it/s]\n"
     ]
    },
    {
     "name": "stdout",
     "output_type": "stream",
     "text": [
      "Saving data in folder: '26-06 13:10'\n",
      "Done \n",
      "\n"
     ]
    },
    {
     "name": "stderr",
     "output_type": "stream",
     "text": [
      "coupling=1.1980000000000004: 100%|██████████| 21/21 [00:03<00:00,  5.94it/s]\n"
     ]
    },
    {
     "name": "stdout",
     "output_type": "stream",
     "text": [
      "Saving data in folder: '26-06 13:10'\n",
      "Done \n",
      "\n"
     ]
    },
    {
     "name": "stderr",
     "output_type": "stream",
     "text": [
      "coupling=1.2000000000000004: 100%|██████████| 21/21 [00:03<00:00,  5.99it/s]\n"
     ]
    },
    {
     "name": "stdout",
     "output_type": "stream",
     "text": [
      "Saving data in folder: '26-06 13:10'\n",
      "Done \n",
      "\n"
     ]
    },
    {
     "name": "stderr",
     "output_type": "stream",
     "text": [
      "coupling=1.2020000000000004: 100%|██████████| 21/21 [00:03<00:00,  6.04it/s]\n"
     ]
    },
    {
     "name": "stdout",
     "output_type": "stream",
     "text": [
      "Saving data in folder: '26-06 13:10'\n",
      "Done \n",
      "\n"
     ]
    },
    {
     "name": "stderr",
     "output_type": "stream",
     "text": [
      "coupling=1.2040000000000004: 100%|██████████| 21/21 [00:03<00:00,  6.02it/s]\n"
     ]
    },
    {
     "name": "stdout",
     "output_type": "stream",
     "text": [
      "Saving data in folder: '26-06 13:10'\n",
      "Done \n",
      "\n"
     ]
    },
    {
     "name": "stderr",
     "output_type": "stream",
     "text": [
      "coupling=1.2060000000000004: 100%|██████████| 21/21 [00:03<00:00,  6.11it/s]\n"
     ]
    },
    {
     "name": "stdout",
     "output_type": "stream",
     "text": [
      "Saving data in folder: '26-06 13:10'\n",
      "Done \n",
      "\n"
     ]
    },
    {
     "name": "stderr",
     "output_type": "stream",
     "text": [
      "coupling=1.2080000000000004: 100%|██████████| 21/21 [00:03<00:00,  6.28it/s]\n"
     ]
    },
    {
     "name": "stdout",
     "output_type": "stream",
     "text": [
      "Saving data in folder: '26-06 13:10'\n",
      "Done \n",
      "\n"
     ]
    },
    {
     "name": "stderr",
     "output_type": "stream",
     "text": [
      "coupling=1.2100000000000004: 100%|██████████| 21/21 [00:03<00:00,  6.18it/s]\n"
     ]
    },
    {
     "name": "stdout",
     "output_type": "stream",
     "text": [
      "Saving data in folder: '26-06 13:10'\n",
      "Done \n",
      "\n"
     ]
    },
    {
     "name": "stderr",
     "output_type": "stream",
     "text": [
      "coupling=1.2120000000000004: 100%|██████████| 21/21 [00:03<00:00,  6.17it/s]\n"
     ]
    },
    {
     "name": "stdout",
     "output_type": "stream",
     "text": [
      "Saving data in folder: '26-06 13:10'\n",
      "Done \n",
      "\n"
     ]
    },
    {
     "name": "stderr",
     "output_type": "stream",
     "text": [
      "coupling=1.2140000000000004: 100%|██████████| 21/21 [00:03<00:00,  6.27it/s]\n"
     ]
    },
    {
     "name": "stdout",
     "output_type": "stream",
     "text": [
      "Saving data in folder: '26-06 13:10'\n",
      "Done \n",
      "\n"
     ]
    },
    {
     "name": "stderr",
     "output_type": "stream",
     "text": [
      "coupling=1.2160000000000004: 100%|██████████| 21/21 [00:03<00:00,  6.30it/s]\n"
     ]
    },
    {
     "name": "stdout",
     "output_type": "stream",
     "text": [
      "Saving data in folder: '26-06 13:10'\n",
      "Done \n",
      "\n"
     ]
    },
    {
     "name": "stderr",
     "output_type": "stream",
     "text": [
      "coupling=1.2180000000000004: 100%|██████████| 21/21 [00:03<00:00,  6.35it/s]\n"
     ]
    },
    {
     "name": "stdout",
     "output_type": "stream",
     "text": [
      "Saving data in folder: '26-06 13:10'\n",
      "Done \n",
      "\n"
     ]
    },
    {
     "name": "stderr",
     "output_type": "stream",
     "text": [
      "coupling=1.2200000000000004: 100%|██████████| 21/21 [00:03<00:00,  6.38it/s]\n"
     ]
    },
    {
     "name": "stdout",
     "output_type": "stream",
     "text": [
      "Saving data in folder: '26-06 13:10'\n",
      "Done \n",
      "\n"
     ]
    },
    {
     "name": "stderr",
     "output_type": "stream",
     "text": [
      "coupling=1.2220000000000004: 100%|██████████| 21/21 [00:03<00:00,  6.44it/s]\n"
     ]
    },
    {
     "name": "stdout",
     "output_type": "stream",
     "text": [
      "Saving data in folder: '26-06 13:10'\n",
      "Done \n",
      "\n"
     ]
    },
    {
     "name": "stderr",
     "output_type": "stream",
     "text": [
      "coupling=1.2240000000000004: 100%|██████████| 21/21 [00:03<00:00,  6.44it/s]\n"
     ]
    },
    {
     "name": "stdout",
     "output_type": "stream",
     "text": [
      "Saving data in folder: '26-06 13:10'\n",
      "Done \n",
      "\n"
     ]
    },
    {
     "name": "stderr",
     "output_type": "stream",
     "text": [
      "coupling=1.2260000000000004: 100%|██████████| 21/21 [00:03<00:00,  6.49it/s]\n"
     ]
    },
    {
     "name": "stdout",
     "output_type": "stream",
     "text": [
      "Saving data in folder: '26-06 13:10'\n",
      "Done \n",
      "\n"
     ]
    },
    {
     "name": "stderr",
     "output_type": "stream",
     "text": [
      "coupling=1.2280000000000004: 100%|██████████| 21/21 [00:03<00:00,  6.54it/s]\n"
     ]
    },
    {
     "name": "stdout",
     "output_type": "stream",
     "text": [
      "Saving data in folder: '26-06 13:10'\n",
      "Done \n",
      "\n"
     ]
    },
    {
     "name": "stderr",
     "output_type": "stream",
     "text": [
      "coupling=1.2300000000000004: 100%|██████████| 21/21 [00:03<00:00,  6.53it/s]\n"
     ]
    },
    {
     "name": "stdout",
     "output_type": "stream",
     "text": [
      "Saving data in folder: '26-06 13:10'\n",
      "Done \n",
      "\n"
     ]
    },
    {
     "name": "stderr",
     "output_type": "stream",
     "text": [
      "coupling=1.2320000000000004: 100%|██████████| 21/21 [00:03<00:00,  6.55it/s]\n"
     ]
    },
    {
     "name": "stdout",
     "output_type": "stream",
     "text": [
      "Saving data in folder: '26-06 13:10'\n",
      "Done \n",
      "\n"
     ]
    },
    {
     "name": "stderr",
     "output_type": "stream",
     "text": [
      "coupling=1.2340000000000004: 100%|██████████| 21/21 [00:03<00:00,  6.64it/s]\n"
     ]
    },
    {
     "name": "stdout",
     "output_type": "stream",
     "text": [
      "Saving data in folder: '26-06 13:10'\n",
      "Done \n",
      "\n"
     ]
    },
    {
     "name": "stderr",
     "output_type": "stream",
     "text": [
      "coupling=1.2360000000000004: 100%|██████████| 21/21 [00:03<00:00,  6.69it/s]\n"
     ]
    },
    {
     "name": "stdout",
     "output_type": "stream",
     "text": [
      "Saving data in folder: '26-06 13:10'\n",
      "Done \n",
      "\n"
     ]
    },
    {
     "name": "stderr",
     "output_type": "stream",
     "text": [
      "coupling=1.2380000000000004: 100%|██████████| 21/21 [00:03<00:00,  6.75it/s]\n"
     ]
    },
    {
     "name": "stdout",
     "output_type": "stream",
     "text": [
      "Saving data in folder: '26-06 13:10'\n",
      "Done \n",
      "\n"
     ]
    },
    {
     "name": "stderr",
     "output_type": "stream",
     "text": [
      "coupling=1.2400000000000004: 100%|██████████| 21/21 [00:03<00:00,  6.75it/s]\n"
     ]
    },
    {
     "name": "stdout",
     "output_type": "stream",
     "text": [
      "Saving data in folder: '26-06 13:10'\n",
      "Done \n",
      "\n"
     ]
    },
    {
     "name": "stderr",
     "output_type": "stream",
     "text": [
      "coupling=1.2420000000000004: 100%|██████████| 21/21 [00:03<00:00,  6.80it/s]\n"
     ]
    },
    {
     "name": "stdout",
     "output_type": "stream",
     "text": [
      "Saving data in folder: '26-06 13:10'\n",
      "Done \n",
      "\n"
     ]
    },
    {
     "name": "stderr",
     "output_type": "stream",
     "text": [
      "coupling=1.2440000000000004: 100%|██████████| 21/21 [00:03<00:00,  6.85it/s]\n"
     ]
    },
    {
     "name": "stdout",
     "output_type": "stream",
     "text": [
      "Saving data in folder: '26-06 13:10'\n",
      "Done \n",
      "\n"
     ]
    },
    {
     "name": "stderr",
     "output_type": "stream",
     "text": [
      "coupling=1.2460000000000004: 100%|██████████| 21/21 [00:03<00:00,  6.86it/s]\n"
     ]
    },
    {
     "name": "stdout",
     "output_type": "stream",
     "text": [
      "Saving data in folder: '26-06 13:10'\n",
      "Done \n",
      "\n"
     ]
    },
    {
     "name": "stderr",
     "output_type": "stream",
     "text": [
      "coupling=1.2480000000000004: 100%|██████████| 21/21 [00:03<00:00,  6.89it/s]\n"
     ]
    },
    {
     "name": "stdout",
     "output_type": "stream",
     "text": [
      "Saving data in folder: '26-06 13:10'\n",
      "Done \n",
      "\n"
     ]
    },
    {
     "name": "stderr",
     "output_type": "stream",
     "text": [
      "coupling=1.2500000000000004: 100%|██████████| 21/21 [00:03<00:00,  6.91it/s]\n"
     ]
    },
    {
     "name": "stdout",
     "output_type": "stream",
     "text": [
      "Saving data in folder: '26-06 13:10'\n",
      "Done \n",
      "\n"
     ]
    },
    {
     "name": "stderr",
     "output_type": "stream",
     "text": [
      "coupling=1.2520000000000004: 100%|██████████| 21/21 [00:03<00:00,  6.96it/s]\n"
     ]
    },
    {
     "name": "stdout",
     "output_type": "stream",
     "text": [
      "Saving data in folder: '26-06 13:10'\n",
      "Done \n",
      "\n"
     ]
    },
    {
     "name": "stderr",
     "output_type": "stream",
     "text": [
      "coupling=1.2540000000000004: 100%|██████████| 21/21 [00:03<00:00,  7.00it/s]\n"
     ]
    },
    {
     "name": "stdout",
     "output_type": "stream",
     "text": [
      "Saving data in folder: '26-06 13:10'\n",
      "Done \n",
      "\n"
     ]
    },
    {
     "name": "stderr",
     "output_type": "stream",
     "text": [
      "coupling=1.2560000000000004: 100%|██████████| 21/21 [00:02<00:00,  7.02it/s]\n"
     ]
    },
    {
     "name": "stdout",
     "output_type": "stream",
     "text": [
      "Saving data in folder: '26-06 13:10'\n",
      "Done \n",
      "\n"
     ]
    },
    {
     "name": "stderr",
     "output_type": "stream",
     "text": [
      "coupling=1.2580000000000005: 100%|██████████| 21/21 [00:02<00:00,  7.05it/s]\n"
     ]
    },
    {
     "name": "stdout",
     "output_type": "stream",
     "text": [
      "Saving data in folder: '26-06 13:10'\n",
      "Done \n",
      "\n"
     ]
    },
    {
     "name": "stderr",
     "output_type": "stream",
     "text": [
      "coupling=1.2600000000000005: 100%|██████████| 21/21 [00:02<00:00,  7.09it/s]\n"
     ]
    },
    {
     "name": "stdout",
     "output_type": "stream",
     "text": [
      "Saving data in folder: '26-06 13:10'\n",
      "Done \n",
      "\n"
     ]
    },
    {
     "name": "stderr",
     "output_type": "stream",
     "text": [
      "coupling=1.2620000000000005: 100%|██████████| 21/21 [00:02<00:00,  7.14it/s]\n"
     ]
    },
    {
     "name": "stdout",
     "output_type": "stream",
     "text": [
      "Saving data in folder: '26-06 13:10'\n",
      "Done \n",
      "\n"
     ]
    },
    {
     "name": "stderr",
     "output_type": "stream",
     "text": [
      "coupling=1.2640000000000005: 100%|██████████| 21/21 [00:02<00:00,  7.16it/s]\n"
     ]
    },
    {
     "name": "stdout",
     "output_type": "stream",
     "text": [
      "Saving data in folder: '26-06 13:10'\n",
      "Done \n",
      "\n"
     ]
    },
    {
     "name": "stderr",
     "output_type": "stream",
     "text": [
      "coupling=1.2660000000000005: 100%|██████████| 21/21 [00:02<00:00,  7.17it/s]\n"
     ]
    },
    {
     "name": "stdout",
     "output_type": "stream",
     "text": [
      "Saving data in folder: '26-06 13:10'\n",
      "Done \n",
      "\n"
     ]
    },
    {
     "name": "stderr",
     "output_type": "stream",
     "text": [
      "coupling=1.2680000000000005: 100%|██████████| 21/21 [00:02<00:00,  7.20it/s]\n"
     ]
    },
    {
     "name": "stdout",
     "output_type": "stream",
     "text": [
      "Saving data in folder: '26-06 13:10'\n",
      "Done \n",
      "\n"
     ]
    },
    {
     "name": "stderr",
     "output_type": "stream",
     "text": [
      "coupling=1.2700000000000005: 100%|██████████| 21/21 [00:02<00:00,  7.37it/s]\n"
     ]
    },
    {
     "name": "stdout",
     "output_type": "stream",
     "text": [
      "Saving data in folder: '26-06 13:10'\n",
      "Done \n",
      "\n"
     ]
    },
    {
     "name": "stderr",
     "output_type": "stream",
     "text": [
      "coupling=1.2720000000000005: 100%|██████████| 21/21 [00:02<00:00,  7.28it/s]\n"
     ]
    },
    {
     "name": "stdout",
     "output_type": "stream",
     "text": [
      "Saving data in folder: '26-06 13:10'\n",
      "Done \n",
      "\n"
     ]
    },
    {
     "name": "stderr",
     "output_type": "stream",
     "text": [
      "coupling=1.2740000000000005: 100%|██████████| 21/21 [00:02<00:00,  7.31it/s]\n"
     ]
    },
    {
     "name": "stdout",
     "output_type": "stream",
     "text": [
      "Saving data in folder: '26-06 13:10'\n",
      "Done \n",
      "\n"
     ]
    },
    {
     "name": "stderr",
     "output_type": "stream",
     "text": [
      "coupling=1.2760000000000005: 100%|██████████| 21/21 [00:02<00:00,  7.34it/s]\n"
     ]
    },
    {
     "name": "stdout",
     "output_type": "stream",
     "text": [
      "Saving data in folder: '26-06 13:10'\n",
      "Done \n",
      "\n"
     ]
    },
    {
     "name": "stderr",
     "output_type": "stream",
     "text": [
      "coupling=1.2780000000000005: 100%|██████████| 21/21 [00:02<00:00,  7.39it/s]\n"
     ]
    },
    {
     "name": "stdout",
     "output_type": "stream",
     "text": [
      "Saving data in folder: '26-06 13:10'\n",
      "Done \n",
      "\n"
     ]
    },
    {
     "name": "stderr",
     "output_type": "stream",
     "text": [
      "coupling=1.2800000000000005: 100%|██████████| 21/21 [00:02<00:00,  7.35it/s]\n"
     ]
    },
    {
     "name": "stdout",
     "output_type": "stream",
     "text": [
      "Saving data in folder: '26-06 13:10'\n",
      "Done \n",
      "\n"
     ]
    },
    {
     "name": "stderr",
     "output_type": "stream",
     "text": [
      "coupling=1.2820000000000005: 100%|██████████| 21/21 [00:02<00:00,  7.43it/s]\n"
     ]
    },
    {
     "name": "stdout",
     "output_type": "stream",
     "text": [
      "Saving data in folder: '26-06 13:10'\n",
      "Done \n",
      "\n"
     ]
    },
    {
     "name": "stderr",
     "output_type": "stream",
     "text": [
      "coupling=1.2840000000000005: 100%|██████████| 21/21 [00:02<00:00,  7.43it/s]\n"
     ]
    },
    {
     "name": "stdout",
     "output_type": "stream",
     "text": [
      "Saving data in folder: '26-06 13:10'\n",
      "Done \n",
      "\n"
     ]
    },
    {
     "name": "stderr",
     "output_type": "stream",
     "text": [
      "coupling=1.2860000000000005: 100%|██████████| 21/21 [00:02<00:00,  7.55it/s]\n"
     ]
    },
    {
     "name": "stdout",
     "output_type": "stream",
     "text": [
      "Saving data in folder: '26-06 13:10'\n",
      "Done \n",
      "\n"
     ]
    },
    {
     "name": "stderr",
     "output_type": "stream",
     "text": [
      "coupling=1.2880000000000005: 100%|██████████| 21/21 [00:02<00:00,  7.53it/s]\n"
     ]
    },
    {
     "name": "stdout",
     "output_type": "stream",
     "text": [
      "Saving data in folder: '26-06 13:10'\n",
      "Done \n",
      "\n"
     ]
    },
    {
     "name": "stderr",
     "output_type": "stream",
     "text": [
      "coupling=1.2900000000000005: 100%|██████████| 21/21 [00:02<00:00,  7.50it/s]\n"
     ]
    },
    {
     "name": "stdout",
     "output_type": "stream",
     "text": [
      "Saving data in folder: '26-06 13:10'\n",
      "Done \n",
      "\n"
     ]
    },
    {
     "name": "stderr",
     "output_type": "stream",
     "text": [
      "coupling=1.2920000000000005: 100%|██████████| 21/21 [00:02<00:00,  7.55it/s]\n"
     ]
    },
    {
     "name": "stdout",
     "output_type": "stream",
     "text": [
      "Saving data in folder: '26-06 13:10'\n",
      "Done \n",
      "\n"
     ]
    },
    {
     "name": "stderr",
     "output_type": "stream",
     "text": [
      "coupling=1.2940000000000005: 100%|██████████| 21/21 [00:02<00:00,  7.57it/s]\n"
     ]
    },
    {
     "name": "stdout",
     "output_type": "stream",
     "text": [
      "Saving data in folder: '26-06 13:10'\n",
      "Done \n",
      "\n"
     ]
    },
    {
     "name": "stderr",
     "output_type": "stream",
     "text": [
      "coupling=1.2960000000000005: 100%|██████████| 21/21 [00:02<00:00,  7.54it/s]\n"
     ]
    },
    {
     "name": "stdout",
     "output_type": "stream",
     "text": [
      "Saving data in folder: '26-06 13:10'\n",
      "Done \n",
      "\n"
     ]
    },
    {
     "name": "stderr",
     "output_type": "stream",
     "text": [
      "coupling=1.2980000000000005: 100%|██████████| 21/21 [00:02<00:00,  7.44it/s]\n"
     ]
    },
    {
     "name": "stdout",
     "output_type": "stream",
     "text": [
      "Saving data in folder: '26-06 13:10'\n",
      "Done \n",
      "\n"
     ]
    },
    {
     "name": "stderr",
     "output_type": "stream",
     "text": [
      "coupling=1.3000000000000005: 100%|██████████| 21/21 [00:02<00:00,  7.31it/s]\n"
     ]
    },
    {
     "name": "stdout",
     "output_type": "stream",
     "text": [
      "Saving data in folder: '26-06 13:10'\n",
      "Done \n",
      "\n"
     ]
    },
    {
     "name": "stderr",
     "output_type": "stream",
     "text": [
      "coupling=1.3020000000000005: 100%|██████████| 21/21 [00:02<00:00,  7.29it/s]\n"
     ]
    },
    {
     "name": "stdout",
     "output_type": "stream",
     "text": [
      "Saving data in folder: '26-06 13:10'\n",
      "Done \n",
      "\n"
     ]
    },
    {
     "name": "stderr",
     "output_type": "stream",
     "text": [
      "coupling=1.3040000000000005: 100%|██████████| 21/21 [00:02<00:00,  7.21it/s]\n"
     ]
    },
    {
     "name": "stdout",
     "output_type": "stream",
     "text": [
      "Saving data in folder: '26-06 13:10'\n",
      "Done \n",
      "\n"
     ]
    },
    {
     "name": "stderr",
     "output_type": "stream",
     "text": [
      "coupling=1.3060000000000005: 100%|██████████| 21/21 [00:02<00:00,  7.08it/s]\n"
     ]
    },
    {
     "name": "stdout",
     "output_type": "stream",
     "text": [
      "Saving data in folder: '26-06 13:10'\n",
      "Done \n",
      "\n"
     ]
    },
    {
     "name": "stderr",
     "output_type": "stream",
     "text": [
      "coupling=1.3080000000000005: 100%|██████████| 21/21 [00:03<00:00,  6.97it/s]\n"
     ]
    },
    {
     "name": "stdout",
     "output_type": "stream",
     "text": [
      "Saving data in folder: '26-06 13:10'\n",
      "Done \n",
      "\n"
     ]
    },
    {
     "name": "stderr",
     "output_type": "stream",
     "text": [
      "coupling=1.3100000000000005: 100%|██████████| 21/21 [00:03<00:00,  6.85it/s]\n"
     ]
    },
    {
     "name": "stdout",
     "output_type": "stream",
     "text": [
      "Saving data in folder: '26-06 13:10'\n",
      "Done \n",
      "\n"
     ]
    },
    {
     "name": "stderr",
     "output_type": "stream",
     "text": [
      "coupling=1.3120000000000005: 100%|██████████| 21/21 [00:03<00:00,  6.73it/s]\n"
     ]
    },
    {
     "name": "stdout",
     "output_type": "stream",
     "text": [
      "Saving data in folder: '26-06 13:10'\n",
      "Done \n",
      "\n"
     ]
    },
    {
     "name": "stderr",
     "output_type": "stream",
     "text": [
      "coupling=1.3140000000000005: 100%|██████████| 21/21 [00:03<00:00,  6.60it/s]\n"
     ]
    },
    {
     "name": "stdout",
     "output_type": "stream",
     "text": [
      "Saving data in folder: '26-06 13:10'\n",
      "Done \n",
      "\n"
     ]
    },
    {
     "name": "stderr",
     "output_type": "stream",
     "text": [
      "coupling=1.3160000000000005: 100%|██████████| 21/21 [00:03<00:00,  6.40it/s]\n"
     ]
    },
    {
     "name": "stdout",
     "output_type": "stream",
     "text": [
      "Saving data in folder: '26-06 13:10'\n",
      "Done \n",
      "\n"
     ]
    },
    {
     "name": "stderr",
     "output_type": "stream",
     "text": [
      "coupling=1.3180000000000005: 100%|██████████| 21/21 [00:03<00:00,  6.31it/s]\n"
     ]
    },
    {
     "name": "stdout",
     "output_type": "stream",
     "text": [
      "Saving data in folder: '26-06 13:10'\n",
      "Done \n",
      "\n"
     ]
    },
    {
     "name": "stderr",
     "output_type": "stream",
     "text": [
      "coupling=1.3200000000000005: 100%|██████████| 21/21 [00:03<00:00,  6.51it/s]\n"
     ]
    },
    {
     "name": "stdout",
     "output_type": "stream",
     "text": [
      "Saving data in folder: '26-06 13:10'\n",
      "Done \n",
      "\n"
     ]
    },
    {
     "name": "stderr",
     "output_type": "stream",
     "text": [
      "coupling=1.3220000000000005: 100%|██████████| 21/21 [00:03<00:00,  6.60it/s]\n"
     ]
    },
    {
     "name": "stdout",
     "output_type": "stream",
     "text": [
      "Saving data in folder: '26-06 13:10'\n",
      "Done \n",
      "\n"
     ]
    },
    {
     "name": "stderr",
     "output_type": "stream",
     "text": [
      "coupling=1.3240000000000005: 100%|██████████| 21/21 [00:03<00:00,  6.95it/s]\n"
     ]
    },
    {
     "name": "stdout",
     "output_type": "stream",
     "text": [
      "Saving data in folder: '26-06 13:10'\n",
      "Done \n",
      "\n"
     ]
    },
    {
     "name": "stderr",
     "output_type": "stream",
     "text": [
      "coupling=1.3260000000000005: 100%|██████████| 21/21 [00:02<00:00,  7.14it/s]\n"
     ]
    },
    {
     "name": "stdout",
     "output_type": "stream",
     "text": [
      "Saving data in folder: '26-06 13:10'\n",
      "Done \n",
      "\n"
     ]
    },
    {
     "name": "stderr",
     "output_type": "stream",
     "text": [
      "coupling=1.3280000000000005: 100%|██████████| 21/21 [00:02<00:00,  7.49it/s]\n"
     ]
    },
    {
     "name": "stdout",
     "output_type": "stream",
     "text": [
      "Saving data in folder: '26-06 13:10'\n",
      "Done \n",
      "\n"
     ]
    },
    {
     "name": "stderr",
     "output_type": "stream",
     "text": [
      "coupling=1.3300000000000005: 100%|██████████| 21/21 [00:02<00:00,  8.04it/s]\n"
     ]
    },
    {
     "name": "stdout",
     "output_type": "stream",
     "text": [
      "Saving data in folder: '26-06 13:10'\n",
      "Done \n",
      "\n"
     ]
    },
    {
     "name": "stderr",
     "output_type": "stream",
     "text": [
      "coupling=1.3320000000000005: 100%|██████████| 21/21 [00:02<00:00,  8.46it/s]\n"
     ]
    },
    {
     "name": "stdout",
     "output_type": "stream",
     "text": [
      "Saving data in folder: '26-06 13:10'\n",
      "Done \n",
      "\n"
     ]
    },
    {
     "name": "stderr",
     "output_type": "stream",
     "text": [
      "coupling=1.3340000000000005: 100%|██████████| 21/21 [00:02<00:00,  8.44it/s]\n"
     ]
    },
    {
     "name": "stdout",
     "output_type": "stream",
     "text": [
      "Saving data in folder: '26-06 13:10'\n",
      "Done \n",
      "\n"
     ]
    },
    {
     "name": "stderr",
     "output_type": "stream",
     "text": [
      "coupling=1.3360000000000005: 100%|██████████| 21/21 [00:02<00:00,  8.45it/s]\n"
     ]
    },
    {
     "name": "stdout",
     "output_type": "stream",
     "text": [
      "Saving data in folder: '26-06 13:10'\n",
      "Done \n",
      "\n"
     ]
    },
    {
     "name": "stderr",
     "output_type": "stream",
     "text": [
      "coupling=1.3380000000000005: 100%|██████████| 21/21 [00:02<00:00,  8.43it/s]\n"
     ]
    },
    {
     "name": "stdout",
     "output_type": "stream",
     "text": [
      "Saving data in folder: '26-06 13:10'\n",
      "Done \n",
      "\n"
     ]
    },
    {
     "name": "stderr",
     "output_type": "stream",
     "text": [
      "coupling=1.3400000000000005: 100%|██████████| 21/21 [00:02<00:00,  8.49it/s]\n"
     ]
    },
    {
     "name": "stdout",
     "output_type": "stream",
     "text": [
      "Saving data in folder: '26-06 13:10'\n",
      "Done \n",
      "\n"
     ]
    },
    {
     "name": "stderr",
     "output_type": "stream",
     "text": [
      "coupling=1.3420000000000005: 100%|██████████| 21/21 [00:02<00:00,  8.50it/s]\n"
     ]
    },
    {
     "name": "stdout",
     "output_type": "stream",
     "text": [
      "Saving data in folder: '26-06 13:10'\n",
      "Done \n",
      "\n"
     ]
    },
    {
     "name": "stderr",
     "output_type": "stream",
     "text": [
      "coupling=1.3440000000000005: 100%|██████████| 21/21 [00:02<00:00,  8.62it/s]\n"
     ]
    },
    {
     "name": "stdout",
     "output_type": "stream",
     "text": [
      "Saving data in folder: '26-06 13:10'\n",
      "Done \n",
      "\n"
     ]
    },
    {
     "name": "stderr",
     "output_type": "stream",
     "text": [
      "coupling=1.3460000000000005: 100%|██████████| 21/21 [00:02<00:00,  8.59it/s]\n"
     ]
    },
    {
     "name": "stdout",
     "output_type": "stream",
     "text": [
      "Saving data in folder: '26-06 13:10'\n",
      "Done \n",
      "\n"
     ]
    },
    {
     "name": "stderr",
     "output_type": "stream",
     "text": [
      "coupling=1.3480000000000005: 100%|██████████| 21/21 [00:02<00:00,  8.57it/s]\n"
     ]
    },
    {
     "name": "stdout",
     "output_type": "stream",
     "text": [
      "Saving data in folder: '26-06 13:10'\n",
      "Done \n",
      "\n"
     ]
    },
    {
     "name": "stderr",
     "output_type": "stream",
     "text": [
      "coupling=1.3500000000000005: 100%|██████████| 21/21 [00:02<00:00,  8.67it/s]\n"
     ]
    },
    {
     "name": "stdout",
     "output_type": "stream",
     "text": [
      "Saving data in folder: '26-06 13:10'\n",
      "Done \n",
      "\n"
     ]
    },
    {
     "name": "stderr",
     "output_type": "stream",
     "text": [
      "coupling=1.3520000000000005: 100%|██████████| 21/21 [00:02<00:00,  8.71it/s]\n"
     ]
    },
    {
     "name": "stdout",
     "output_type": "stream",
     "text": [
      "Saving data in folder: '26-06 13:10'\n",
      "Done \n",
      "\n"
     ]
    },
    {
     "name": "stderr",
     "output_type": "stream",
     "text": [
      "coupling=1.3540000000000005: 100%|██████████| 21/21 [00:02<00:00,  8.70it/s]\n"
     ]
    },
    {
     "name": "stdout",
     "output_type": "stream",
     "text": [
      "Saving data in folder: '26-06 13:10'\n",
      "Done \n",
      "\n"
     ]
    },
    {
     "name": "stderr",
     "output_type": "stream",
     "text": [
      "coupling=1.3560000000000005: 100%|██████████| 21/21 [00:02<00:00,  8.75it/s]\n"
     ]
    },
    {
     "name": "stdout",
     "output_type": "stream",
     "text": [
      "Saving data in folder: '26-06 13:10'\n",
      "Done \n",
      "\n"
     ]
    },
    {
     "name": "stderr",
     "output_type": "stream",
     "text": [
      "coupling=1.3580000000000005: 100%|██████████| 21/21 [00:02<00:00,  8.71it/s]\n"
     ]
    },
    {
     "name": "stdout",
     "output_type": "stream",
     "text": [
      "Saving data in folder: '26-06 13:10'\n",
      "Done \n",
      "\n"
     ]
    },
    {
     "name": "stderr",
     "output_type": "stream",
     "text": [
      "coupling=1.3600000000000005: 100%|██████████| 21/21 [00:02<00:00,  8.68it/s]\n"
     ]
    },
    {
     "name": "stdout",
     "output_type": "stream",
     "text": [
      "Saving data in folder: '26-06 13:10'\n",
      "Done \n",
      "\n"
     ]
    },
    {
     "name": "stderr",
     "output_type": "stream",
     "text": [
      "coupling=1.3620000000000005: 100%|██████████| 21/21 [00:02<00:00,  8.74it/s]\n"
     ]
    },
    {
     "name": "stdout",
     "output_type": "stream",
     "text": [
      "Saving data in folder: '26-06 13:10'\n",
      "Done \n",
      "\n"
     ]
    },
    {
     "name": "stderr",
     "output_type": "stream",
     "text": [
      "coupling=1.3640000000000005: 100%|██████████| 21/21 [00:02<00:00,  8.82it/s]\n"
     ]
    },
    {
     "name": "stdout",
     "output_type": "stream",
     "text": [
      "Saving data in folder: '26-06 13:10'\n",
      "Done \n",
      "\n"
     ]
    },
    {
     "name": "stderr",
     "output_type": "stream",
     "text": [
      "coupling=1.3660000000000005: 100%|██████████| 21/21 [00:02<00:00,  8.85it/s]\n"
     ]
    },
    {
     "name": "stdout",
     "output_type": "stream",
     "text": [
      "Saving data in folder: '26-06 13:10'\n",
      "Done \n",
      "\n"
     ]
    },
    {
     "name": "stderr",
     "output_type": "stream",
     "text": [
      "coupling=1.3680000000000005: 100%|██████████| 21/21 [00:02<00:00,  8.96it/s]\n"
     ]
    },
    {
     "name": "stdout",
     "output_type": "stream",
     "text": [
      "Saving data in folder: '26-06 13:10'\n",
      "Done \n",
      "\n"
     ]
    },
    {
     "name": "stderr",
     "output_type": "stream",
     "text": [
      "coupling=1.3700000000000006: 100%|██████████| 21/21 [00:02<00:00,  8.84it/s]\n"
     ]
    },
    {
     "name": "stdout",
     "output_type": "stream",
     "text": [
      "Saving data in folder: '26-06 13:10'\n",
      "Done \n",
      "\n"
     ]
    },
    {
     "name": "stderr",
     "output_type": "stream",
     "text": [
      "coupling=1.3720000000000006: 100%|██████████| 21/21 [00:02<00:00,  8.90it/s]\n"
     ]
    },
    {
     "name": "stdout",
     "output_type": "stream",
     "text": [
      "Saving data in folder: '26-06 13:10'\n",
      "Done \n",
      "\n"
     ]
    },
    {
     "name": "stderr",
     "output_type": "stream",
     "text": [
      "coupling=1.3740000000000006: 100%|██████████| 21/21 [00:02<00:00,  8.88it/s]\n"
     ]
    },
    {
     "name": "stdout",
     "output_type": "stream",
     "text": [
      "Saving data in folder: '26-06 13:10'\n",
      "Done \n",
      "\n"
     ]
    },
    {
     "name": "stderr",
     "output_type": "stream",
     "text": [
      "coupling=1.3760000000000006: 100%|██████████| 21/21 [00:02<00:00,  8.88it/s]\n"
     ]
    },
    {
     "name": "stdout",
     "output_type": "stream",
     "text": [
      "Saving data in folder: '26-06 13:10'\n",
      "Done \n",
      "\n"
     ]
    },
    {
     "name": "stderr",
     "output_type": "stream",
     "text": [
      "coupling=1.3780000000000006: 100%|██████████| 21/21 [00:02<00:00,  8.90it/s]\n"
     ]
    },
    {
     "name": "stdout",
     "output_type": "stream",
     "text": [
      "Saving data in folder: '26-06 13:10'\n",
      "Done \n",
      "\n"
     ]
    },
    {
     "name": "stderr",
     "output_type": "stream",
     "text": [
      "coupling=1.3800000000000006: 100%|██████████| 21/21 [00:02<00:00,  8.96it/s]\n"
     ]
    },
    {
     "name": "stdout",
     "output_type": "stream",
     "text": [
      "Saving data in folder: '26-06 13:10'\n",
      "Done \n",
      "\n"
     ]
    },
    {
     "name": "stderr",
     "output_type": "stream",
     "text": [
      "coupling=1.3820000000000006: 100%|██████████| 21/21 [00:02<00:00,  9.10it/s]\n"
     ]
    },
    {
     "name": "stdout",
     "output_type": "stream",
     "text": [
      "Saving data in folder: '26-06 13:10'\n",
      "Done \n",
      "\n"
     ]
    },
    {
     "name": "stderr",
     "output_type": "stream",
     "text": [
      "coupling=1.3840000000000006: 100%|██████████| 21/21 [00:02<00:00,  9.07it/s]\n"
     ]
    },
    {
     "name": "stdout",
     "output_type": "stream",
     "text": [
      "Saving data in folder: '26-06 13:10'\n",
      "Done \n",
      "\n"
     ]
    },
    {
     "name": "stderr",
     "output_type": "stream",
     "text": [
      "coupling=1.3860000000000006: 100%|██████████| 21/21 [00:02<00:00,  8.92it/s]\n"
     ]
    },
    {
     "name": "stdout",
     "output_type": "stream",
     "text": [
      "Saving data in folder: '26-06 13:10'\n",
      "Done \n",
      "\n"
     ]
    },
    {
     "name": "stderr",
     "output_type": "stream",
     "text": [
      "coupling=1.3880000000000006: 100%|██████████| 21/21 [00:02<00:00,  9.12it/s]\n"
     ]
    },
    {
     "name": "stdout",
     "output_type": "stream",
     "text": [
      "Saving data in folder: '26-06 13:10'\n",
      "Done \n",
      "\n"
     ]
    },
    {
     "name": "stderr",
     "output_type": "stream",
     "text": [
      "coupling=1.3900000000000006: 100%|██████████| 21/21 [00:02<00:00,  9.17it/s]\n"
     ]
    },
    {
     "name": "stdout",
     "output_type": "stream",
     "text": [
      "Saving data in folder: '26-06 13:10'\n",
      "Done \n",
      "\n"
     ]
    },
    {
     "name": "stderr",
     "output_type": "stream",
     "text": [
      "coupling=1.3920000000000006: 100%|██████████| 21/21 [00:02<00:00,  9.18it/s]\n"
     ]
    },
    {
     "name": "stdout",
     "output_type": "stream",
     "text": [
      "Saving data in folder: '26-06 13:10'\n",
      "Done \n",
      "\n"
     ]
    },
    {
     "name": "stderr",
     "output_type": "stream",
     "text": [
      "coupling=1.3940000000000006: 100%|██████████| 21/21 [00:02<00:00,  9.18it/s]\n"
     ]
    },
    {
     "name": "stdout",
     "output_type": "stream",
     "text": [
      "Saving data in folder: '26-06 13:10'\n",
      "Done \n",
      "\n"
     ]
    },
    {
     "name": "stderr",
     "output_type": "stream",
     "text": [
      "coupling=1.3960000000000006: 100%|██████████| 21/21 [00:02<00:00,  9.20it/s]\n"
     ]
    },
    {
     "name": "stdout",
     "output_type": "stream",
     "text": [
      "Saving data in folder: '26-06 13:10'\n",
      "Done \n",
      "\n"
     ]
    },
    {
     "name": "stderr",
     "output_type": "stream",
     "text": [
      "coupling=1.3980000000000006: 100%|██████████| 21/21 [00:02<00:00,  9.26it/s]\n"
     ]
    },
    {
     "name": "stdout",
     "output_type": "stream",
     "text": [
      "Saving data in folder: '26-06 13:10'\n",
      "Done \n",
      "\n"
     ]
    },
    {
     "name": "stderr",
     "output_type": "stream",
     "text": [
      "coupling=1.4000000000000006: 100%|██████████| 21/21 [00:02<00:00,  9.29it/s]\n"
     ]
    },
    {
     "name": "stdout",
     "output_type": "stream",
     "text": [
      "Saving data in folder: '26-06 13:10'\n",
      "Done \n",
      "\n"
     ]
    },
    {
     "name": "stderr",
     "output_type": "stream",
     "text": [
      "coupling=1.4020000000000006: 100%|██████████| 21/21 [00:02<00:00,  9.27it/s]\n"
     ]
    },
    {
     "name": "stdout",
     "output_type": "stream",
     "text": [
      "Saving data in folder: '26-06 13:10'\n",
      "Done \n",
      "\n"
     ]
    },
    {
     "name": "stderr",
     "output_type": "stream",
     "text": [
      "coupling=1.4040000000000006: 100%|██████████| 21/21 [00:02<00:00,  9.34it/s]\n"
     ]
    },
    {
     "name": "stdout",
     "output_type": "stream",
     "text": [
      "Saving data in folder: '26-06 13:10'\n",
      "Done \n",
      "\n"
     ]
    },
    {
     "name": "stderr",
     "output_type": "stream",
     "text": [
      "coupling=1.4060000000000006: 100%|██████████| 21/21 [00:02<00:00,  9.31it/s]\n"
     ]
    },
    {
     "name": "stdout",
     "output_type": "stream",
     "text": [
      "Saving data in folder: '26-06 13:10'\n",
      "Done \n",
      "\n"
     ]
    },
    {
     "name": "stderr",
     "output_type": "stream",
     "text": [
      "coupling=1.4080000000000006: 100%|██████████| 21/21 [00:02<00:00,  9.36it/s]\n"
     ]
    },
    {
     "name": "stdout",
     "output_type": "stream",
     "text": [
      "Saving data in folder: '26-06 13:10'\n",
      "Done \n",
      "\n"
     ]
    },
    {
     "name": "stderr",
     "output_type": "stream",
     "text": [
      "coupling=1.4100000000000006: 100%|██████████| 21/21 [00:02<00:00,  9.36it/s]\n"
     ]
    },
    {
     "name": "stdout",
     "output_type": "stream",
     "text": [
      "Saving data in folder: '26-06 13:10'\n",
      "Done \n",
      "\n"
     ]
    },
    {
     "name": "stderr",
     "output_type": "stream",
     "text": [
      "coupling=1.4120000000000006: 100%|██████████| 21/21 [00:02<00:00,  9.39it/s]\n"
     ]
    },
    {
     "name": "stdout",
     "output_type": "stream",
     "text": [
      "Saving data in folder: '26-06 13:10'\n",
      "Done \n",
      "\n"
     ]
    },
    {
     "name": "stderr",
     "output_type": "stream",
     "text": [
      "coupling=1.4140000000000006: 100%|██████████| 21/21 [00:02<00:00,  9.26it/s]\n"
     ]
    },
    {
     "name": "stdout",
     "output_type": "stream",
     "text": [
      "Saving data in folder: '26-06 13:10'\n",
      "Done \n",
      "\n"
     ]
    },
    {
     "name": "stderr",
     "output_type": "stream",
     "text": [
      "coupling=1.4160000000000006: 100%|██████████| 21/21 [00:02<00:00,  9.35it/s]\n"
     ]
    },
    {
     "name": "stdout",
     "output_type": "stream",
     "text": [
      "Saving data in folder: '26-06 13:10'\n",
      "Done \n",
      "\n"
     ]
    },
    {
     "name": "stderr",
     "output_type": "stream",
     "text": [
      "coupling=1.4180000000000006: 100%|██████████| 21/21 [00:02<00:00,  9.32it/s]\n"
     ]
    },
    {
     "name": "stdout",
     "output_type": "stream",
     "text": [
      "Saving data in folder: '26-06 13:10'\n",
      "Done \n",
      "\n"
     ]
    },
    {
     "name": "stderr",
     "output_type": "stream",
     "text": [
      "coupling=1.4200000000000006: 100%|██████████| 21/21 [00:02<00:00,  9.31it/s]\n"
     ]
    },
    {
     "name": "stdout",
     "output_type": "stream",
     "text": [
      "Saving data in folder: '26-06 13:10'\n",
      "Done \n",
      "\n"
     ]
    },
    {
     "name": "stderr",
     "output_type": "stream",
     "text": [
      "coupling=1.4220000000000006: 100%|██████████| 21/21 [00:02<00:00,  9.36it/s]\n"
     ]
    },
    {
     "name": "stdout",
     "output_type": "stream",
     "text": [
      "Saving data in folder: '26-06 13:10'\n",
      "Done \n",
      "\n"
     ]
    },
    {
     "name": "stderr",
     "output_type": "stream",
     "text": [
      "coupling=1.4240000000000006: 100%|██████████| 21/21 [00:02<00:00,  9.32it/s]\n"
     ]
    },
    {
     "name": "stdout",
     "output_type": "stream",
     "text": [
      "Saving data in folder: '26-06 13:10'\n",
      "Done \n",
      "\n"
     ]
    },
    {
     "name": "stderr",
     "output_type": "stream",
     "text": [
      "coupling=1.4260000000000006: 100%|██████████| 21/21 [00:02<00:00,  9.31it/s]\n"
     ]
    },
    {
     "name": "stdout",
     "output_type": "stream",
     "text": [
      "Saving data in folder: '26-06 13:10'\n",
      "Done \n",
      "\n"
     ]
    },
    {
     "name": "stderr",
     "output_type": "stream",
     "text": [
      "coupling=1.4280000000000006: 100%|██████████| 21/21 [00:02<00:00,  9.29it/s]\n"
     ]
    },
    {
     "name": "stdout",
     "output_type": "stream",
     "text": [
      "Saving data in folder: '26-06 13:10'\n",
      "Done \n",
      "\n"
     ]
    },
    {
     "name": "stderr",
     "output_type": "stream",
     "text": [
      "coupling=1.4300000000000006: 100%|██████████| 21/21 [00:02<00:00,  9.37it/s]\n"
     ]
    },
    {
     "name": "stdout",
     "output_type": "stream",
     "text": [
      "Saving data in folder: '26-06 13:10'\n",
      "Done \n",
      "\n"
     ]
    },
    {
     "name": "stderr",
     "output_type": "stream",
     "text": [
      "coupling=1.4320000000000006: 100%|██████████| 21/21 [00:02<00:00,  9.39it/s]\n"
     ]
    },
    {
     "name": "stdout",
     "output_type": "stream",
     "text": [
      "Saving data in folder: '26-06 13:10'\n",
      "Done \n",
      "\n"
     ]
    },
    {
     "name": "stderr",
     "output_type": "stream",
     "text": [
      "coupling=1.4340000000000006: 100%|██████████| 21/21 [00:02<00:00,  9.38it/s]\n"
     ]
    },
    {
     "name": "stdout",
     "output_type": "stream",
     "text": [
      "Saving data in folder: '26-06 13:10'\n",
      "Done \n",
      "\n"
     ]
    },
    {
     "name": "stderr",
     "output_type": "stream",
     "text": [
      "coupling=1.4360000000000006: 100%|██████████| 21/21 [00:02<00:00,  9.39it/s]\n"
     ]
    },
    {
     "name": "stdout",
     "output_type": "stream",
     "text": [
      "Saving data in folder: '26-06 13:10'\n",
      "Done \n",
      "\n"
     ]
    },
    {
     "name": "stderr",
     "output_type": "stream",
     "text": [
      "coupling=1.4380000000000006: 100%|██████████| 21/21 [00:02<00:00,  9.40it/s]\n"
     ]
    },
    {
     "name": "stdout",
     "output_type": "stream",
     "text": [
      "Saving data in folder: '26-06 13:10'\n",
      "Done \n",
      "\n"
     ]
    },
    {
     "name": "stderr",
     "output_type": "stream",
     "text": [
      "coupling=1.4400000000000006: 100%|██████████| 21/21 [00:02<00:00,  9.43it/s]\n"
     ]
    },
    {
     "name": "stdout",
     "output_type": "stream",
     "text": [
      "Saving data in folder: '26-06 13:10'\n",
      "Done \n",
      "\n"
     ]
    },
    {
     "name": "stderr",
     "output_type": "stream",
     "text": [
      "coupling=1.4420000000000006: 100%|██████████| 21/21 [00:02<00:00,  9.45it/s]\n"
     ]
    },
    {
     "name": "stdout",
     "output_type": "stream",
     "text": [
      "Saving data in folder: '26-06 13:10'\n",
      "Done \n",
      "\n"
     ]
    },
    {
     "name": "stderr",
     "output_type": "stream",
     "text": [
      "coupling=1.4440000000000006: 100%|██████████| 21/21 [00:02<00:00,  9.44it/s]\n"
     ]
    },
    {
     "name": "stdout",
     "output_type": "stream",
     "text": [
      "Saving data in folder: '26-06 13:10'\n",
      "Done \n",
      "\n"
     ]
    },
    {
     "name": "stderr",
     "output_type": "stream",
     "text": [
      "coupling=1.4460000000000006: 100%|██████████| 21/21 [00:02<00:00,  9.45it/s]\n"
     ]
    },
    {
     "name": "stdout",
     "output_type": "stream",
     "text": [
      "Saving data in folder: '26-06 13:10'\n",
      "Done \n",
      "\n"
     ]
    },
    {
     "name": "stderr",
     "output_type": "stream",
     "text": [
      "coupling=1.4480000000000006: 100%|██████████| 21/21 [00:02<00:00,  9.48it/s]\n"
     ]
    },
    {
     "name": "stdout",
     "output_type": "stream",
     "text": [
      "Saving data in folder: '26-06 13:10'\n",
      "Done \n",
      "\n"
     ]
    },
    {
     "name": "stderr",
     "output_type": "stream",
     "text": [
      "coupling=1.4500000000000006: 100%|██████████| 21/21 [00:02<00:00,  9.44it/s]\n"
     ]
    },
    {
     "name": "stdout",
     "output_type": "stream",
     "text": [
      "Saving data in folder: '26-06 13:10'\n",
      "Done \n",
      "\n"
     ]
    },
    {
     "name": "stderr",
     "output_type": "stream",
     "text": [
      "coupling=1.4520000000000006: 100%|██████████| 21/21 [00:02<00:00,  9.53it/s]\n"
     ]
    },
    {
     "name": "stdout",
     "output_type": "stream",
     "text": [
      "Saving data in folder: '26-06 13:10'\n",
      "Done \n",
      "\n"
     ]
    },
    {
     "name": "stderr",
     "output_type": "stream",
     "text": [
      "coupling=1.4540000000000006: 100%|██████████| 21/21 [00:02<00:00,  9.53it/s]\n"
     ]
    },
    {
     "name": "stdout",
     "output_type": "stream",
     "text": [
      "Saving data in folder: '26-06 13:10'\n",
      "Done \n",
      "\n"
     ]
    },
    {
     "name": "stderr",
     "output_type": "stream",
     "text": [
      "coupling=1.4560000000000006: 100%|██████████| 21/21 [00:02<00:00,  9.56it/s]\n"
     ]
    },
    {
     "name": "stdout",
     "output_type": "stream",
     "text": [
      "Saving data in folder: '26-06 13:10'\n",
      "Done \n",
      "\n"
     ]
    },
    {
     "name": "stderr",
     "output_type": "stream",
     "text": [
      "coupling=1.4580000000000006: 100%|██████████| 21/21 [00:02<00:00,  9.54it/s]\n"
     ]
    },
    {
     "name": "stdout",
     "output_type": "stream",
     "text": [
      "Saving data in folder: '26-06 13:10'\n",
      "Done \n",
      "\n"
     ]
    },
    {
     "name": "stderr",
     "output_type": "stream",
     "text": [
      "coupling=1.4600000000000006: 100%|██████████| 21/21 [00:02<00:00,  9.61it/s]\n"
     ]
    },
    {
     "name": "stdout",
     "output_type": "stream",
     "text": [
      "Saving data in folder: '26-06 13:10'\n",
      "Done \n",
      "\n"
     ]
    },
    {
     "name": "stderr",
     "output_type": "stream",
     "text": [
      "coupling=1.4620000000000006: 100%|██████████| 21/21 [00:02<00:00,  9.62it/s]\n"
     ]
    },
    {
     "name": "stdout",
     "output_type": "stream",
     "text": [
      "Saving data in folder: '26-06 13:10'\n",
      "Done \n",
      "\n"
     ]
    },
    {
     "name": "stderr",
     "output_type": "stream",
     "text": [
      "coupling=1.4640000000000006: 100%|██████████| 21/21 [00:02<00:00,  9.62it/s]\n"
     ]
    },
    {
     "name": "stdout",
     "output_type": "stream",
     "text": [
      "Saving data in folder: '26-06 13:10'\n",
      "Done \n",
      "\n"
     ]
    },
    {
     "name": "stderr",
     "output_type": "stream",
     "text": [
      "coupling=1.4660000000000006: 100%|██████████| 21/21 [00:02<00:00,  9.67it/s]\n"
     ]
    },
    {
     "name": "stdout",
     "output_type": "stream",
     "text": [
      "Saving data in folder: '26-06 13:10'\n",
      "Done \n",
      "\n"
     ]
    },
    {
     "name": "stderr",
     "output_type": "stream",
     "text": [
      "coupling=1.4680000000000006: 100%|██████████| 21/21 [00:02<00:00,  9.61it/s]\n"
     ]
    },
    {
     "name": "stdout",
     "output_type": "stream",
     "text": [
      "Saving data in folder: '26-06 13:10'\n",
      "Done \n",
      "\n"
     ]
    },
    {
     "name": "stderr",
     "output_type": "stream",
     "text": [
      "coupling=1.4700000000000006: 100%|██████████| 21/21 [00:02<00:00,  9.64it/s]\n"
     ]
    },
    {
     "name": "stdout",
     "output_type": "stream",
     "text": [
      "Saving data in folder: '26-06 13:10'\n",
      "Done \n",
      "\n"
     ]
    },
    {
     "name": "stderr",
     "output_type": "stream",
     "text": [
      "coupling=1.4720000000000006: 100%|██████████| 21/21 [00:02<00:00,  9.71it/s]\n"
     ]
    },
    {
     "name": "stdout",
     "output_type": "stream",
     "text": [
      "Saving data in folder: '26-06 13:10'\n",
      "Done \n",
      "\n"
     ]
    },
    {
     "name": "stderr",
     "output_type": "stream",
     "text": [
      "coupling=1.4740000000000006: 100%|██████████| 21/21 [00:02<00:00,  9.71it/s]\n"
     ]
    },
    {
     "name": "stdout",
     "output_type": "stream",
     "text": [
      "Saving data in folder: '26-06 13:10'\n",
      "Done \n",
      "\n"
     ]
    },
    {
     "name": "stderr",
     "output_type": "stream",
     "text": [
      "coupling=1.4760000000000006: 100%|██████████| 21/21 [00:02<00:00,  9.73it/s]\n"
     ]
    },
    {
     "name": "stdout",
     "output_type": "stream",
     "text": [
      "Saving data in folder: '26-06 13:10'\n",
      "Done \n",
      "\n"
     ]
    },
    {
     "name": "stderr",
     "output_type": "stream",
     "text": [
      "coupling=1.4780000000000006: 100%|██████████| 21/21 [00:02<00:00,  9.74it/s]\n"
     ]
    },
    {
     "name": "stdout",
     "output_type": "stream",
     "text": [
      "Saving data in folder: '26-06 13:10'\n",
      "Done \n",
      "\n"
     ]
    },
    {
     "name": "stderr",
     "output_type": "stream",
     "text": [
      "coupling=1.4800000000000006: 100%|██████████| 21/21 [00:02<00:00,  9.78it/s]\n"
     ]
    },
    {
     "name": "stdout",
     "output_type": "stream",
     "text": [
      "Saving data in folder: '26-06 13:10'\n",
      "Done \n",
      "\n"
     ]
    },
    {
     "name": "stderr",
     "output_type": "stream",
     "text": [
      "coupling=1.4820000000000007: 100%|██████████| 21/21 [00:02<00:00,  9.81it/s]\n"
     ]
    },
    {
     "name": "stdout",
     "output_type": "stream",
     "text": [
      "Saving data in folder: '26-06 13:10'\n",
      "Done \n",
      "\n"
     ]
    },
    {
     "name": "stderr",
     "output_type": "stream",
     "text": [
      "coupling=1.4840000000000007: 100%|██████████| 21/21 [00:02<00:00,  9.81it/s]\n"
     ]
    },
    {
     "name": "stdout",
     "output_type": "stream",
     "text": [
      "Saving data in folder: '26-06 13:10'\n",
      "Done \n",
      "\n"
     ]
    },
    {
     "name": "stderr",
     "output_type": "stream",
     "text": [
      "coupling=1.4860000000000007: 100%|██████████| 21/21 [00:02<00:00,  9.89it/s]\n"
     ]
    },
    {
     "name": "stdout",
     "output_type": "stream",
     "text": [
      "Saving data in folder: '26-06 13:10'\n",
      "Done \n",
      "\n"
     ]
    },
    {
     "name": "stderr",
     "output_type": "stream",
     "text": [
      "coupling=1.4880000000000007: 100%|██████████| 21/21 [00:02<00:00,  9.87it/s]\n"
     ]
    },
    {
     "name": "stdout",
     "output_type": "stream",
     "text": [
      "Saving data in folder: '26-06 13:10'\n",
      "Done \n",
      "\n"
     ]
    },
    {
     "name": "stderr",
     "output_type": "stream",
     "text": [
      "coupling=1.4900000000000007: 100%|██████████| 21/21 [00:02<00:00,  9.78it/s]\n"
     ]
    },
    {
     "name": "stdout",
     "output_type": "stream",
     "text": [
      "Saving data in folder: '26-06 13:10'\n",
      "Done \n",
      "\n"
     ]
    },
    {
     "name": "stderr",
     "output_type": "stream",
     "text": [
      "coupling=1.4920000000000007: 100%|██████████| 21/21 [00:02<00:00,  9.88it/s]\n"
     ]
    },
    {
     "name": "stdout",
     "output_type": "stream",
     "text": [
      "Saving data in folder: '26-06 13:10'\n",
      "Done \n",
      "\n"
     ]
    },
    {
     "name": "stderr",
     "output_type": "stream",
     "text": [
      "coupling=1.4940000000000007: 100%|██████████| 21/21 [00:02<00:00,  9.93it/s]\n"
     ]
    },
    {
     "name": "stdout",
     "output_type": "stream",
     "text": [
      "Saving data in folder: '26-06 13:10'\n",
      "Done \n",
      "\n"
     ]
    },
    {
     "name": "stderr",
     "output_type": "stream",
     "text": [
      "coupling=1.4960000000000007: 100%|██████████| 21/21 [00:02<00:00, 10.31it/s]\n"
     ]
    },
    {
     "name": "stdout",
     "output_type": "stream",
     "text": [
      "Saving data in folder: '26-06 13:10'\n",
      "Done \n",
      "\n"
     ]
    },
    {
     "name": "stderr",
     "output_type": "stream",
     "text": [
      "coupling=1.4980000000000007: 100%|██████████| 21/21 [00:02<00:00,  9.87it/s]"
     ]
    },
    {
     "name": "stdout",
     "output_type": "stream",
     "text": [
      "Saving data in folder: '26-06 13:10'\n",
      "Done \n",
      "\n"
     ]
    },
    {
     "name": "stderr",
     "output_type": "stream",
     "text": [
      "\n"
     ]
    }
   ],
   "source": [
    "for size in [128]:\n",
    "    deltas = [delta for delta in np.arange(0.7, 1.5, 0.002)]\n",
    "    result = Results(varying_param=\"coupling\", range=deltas)\n",
    "    params = ModelParameters(model = \"blume\", var_range=(1.39, 1.41), step=0.001, tol=1e-9, chi=16, b_c = True, fixed=True, max_steps=size)\n",
    "    result.get(params)"
   ]
  },
  {
   "cell_type": "code",
   "execution_count": 3,
   "metadata": {},
   "outputs": [
    {
     "data": {
      "image/png": "[encoded data removed]",
      "text/plain": [
       "<Figure size 700x500 with 1 Axes>"
      ]
     },
     "metadata": {},
     "output_type": "display_data"
    }
   ],
   "source": [
    "from matplotlib.ticker import MaxNLocator, FormatStrFormatter\n",
    "\n",
    "\n",
    "deltas = [delta for delta in np.arange(0.7, 1.5, 0.002)]\n",
    "\n",
    "plt.figure(figsize=(7,5))\n",
    "for folder in [\"26-06 11:38\", \"26-06 11:51\", \"26-06 13:10\"]:\n",
    "    spec_heats = []\n",
    "    for delta in deltas:\n",
    "        data = read(folder, f\"coupling{delta}\")\n",
    "        energies = compute(Prop.Es, data)\n",
    "        temps = data[\"temperatures\"]\n",
    "        heats = np.diff(energies) / np.diff(temps)\n",
    "        spec_heats.append(heats[19])\n",
    "    plt.plot(deltas, spec_heats, \"-\", markersize=4, label=rf\"$L = {data['max_steps']+4}$\", linewidth = 1.3)\n",
    "\n",
    "plt.gca().xaxis.set_major_locator(MaxNLocator(prune='lower'))\n",
    "plt.gca().xaxis.set_major_formatter(FormatStrFormatter('%.1f'))\n",
    "#plt.minorticks_off()\n",
    "\n",
    "plt.locator_params(axis='y', nbins=5)\n",
    "plt.locator_params(axis='x', nbins=4)\n",
    "\n",
    "plt.yticks(fontsize=18)\n",
    "plt.xticks(fontsize=18)\n",
    "\n",
    "\n",
    "plt.ylim(0, 5)\n",
    "plt.xlim(0.7, 1.4)\n",
    "plt.xlabel(\"$\\Delta$\", fontsize=20)\n",
    "plt.ylabel(\"$C$\", fontsize=20)\n",
    "plt.legend( prop = { \"size\": 15 }, loc = \"upper right\")\n",
    "plt.show()\n"
   ]
  },
  {
   "cell_type": "code",
   "execution_count": 133,
   "metadata": {},
   "outputs": [],
   "source": [
    "\n",
    "sizes = [size for size in range(50, 55, 5)]\n",
    "deltas = [delta for delta in np.arange(0.75, 1, 0.002)]\n",
    "\n",
    "for size in sizes:\n",
    "    \n",
    "    result = Results(varying_param=\"coupling\", range=deltas)\n",
    "    params = ModelParameters(model = \"blume\", var_range=(1.39, 1.401), step=0.001, tol=1e-9, chi=16, b_c = True, fixed=True, max_steps=size, bar = False)\n",
    "    result.get(params)"
   ]
  },
  {
   "cell_type": "code",
   "execution_count": 140,
   "metadata": {},
   "outputs": [],
   "source": [
    "files1 = [\"16-05 20:48\", \"16-05 20:50\", \"16-05 20:52\", \"16-05 20:54\", \"16-05 20:56\", \"16-05 20:58\", \"16-05 21:01\", \"16-05 21:04\"]\n",
    "files = [\"27-06 00:13\", \"27-06 00:15\", \"27-06 00:18\", \"27-06 00:22\", \"27-06 00:27\", \"27-06 00:32\",\"27-06 00:38\", \"27-06 09:35\",  \"27-06 09:40\"]"
   ]
  },
  {
   "cell_type": "code",
   "execution_count": 143,
   "metadata": {},
   "outputs": [
    {
     "data": {
      "image/png": "[encoded data removed]",
      "text/plain": [
       "<Figure size 700x500 with 1 Axes>"
      ]
     },
     "metadata": {},
     "output_type": "display_data"
    }
   ],
   "source": [
    "sizes = [size for size in range(10, 55, 5)]\n",
    "deltas = [delta for delta in np.arange(0.75, 1, 0.002)]\n",
    "\n",
    "plt.figure(figsize = (7, 5))\n",
    "delta_stars = []\n",
    "for file in files:\n",
    "        spec_heats = []\n",
    "        for delta in deltas:\n",
    "                data = read(file, f\"coupling{delta}\")\n",
    "                energies = compute(Prop.Es, data)\n",
    "                temps = data[\"temperatures\"]\n",
    "                heats = np.diff(energies) / np.diff(temps)\n",
    "                spec_heats.append(heats[10])\n",
    "        \n",
    "        idx = spec_heats.index(max(spec_heats))\n",
    "        delta_stars.append(deltas[idx])\n",
    "\n",
    "        plt.plot(deltas, spec_heats, \"-\", markersize=4, label=rf\"$L = {data['max_steps']+4}$\")\n",
    "\n",
    "plt.title(\"$L$ in $[14..50],\\; \\chi = 16,\\; T = 1.4$\")\n",
    "plt.xlabel(\"$\\Delta$\", fontsize = 15)\n",
    "plt.ylabel(\"$C(\\Delta)$\", fontsize = 15)\n",
    "plt.show()"
   ]
  },
  {
   "cell_type": "code",
   "execution_count": 144,
   "metadata": {},
   "outputs": [
    {
     "data": {
      "image/png": "[encoded data removed]",
      "text/plain": [
       "<Figure size 700x500 with 1 Axes>"
      ]
     },
     "metadata": {},
     "output_type": "display_data"
    }
   ],
   "source": [
    "plt.figure(figsize = (7,5))\n",
    "plt.plot(sizes, delta_stars, \"x\")\n",
    "plt.xlabel(\"$L$\", fontsize = 15)\n",
    "plt.ylabel(\"$\\Delta^*_L$\", fontsize =15)\n",
    "plt.xlim(5, 50)\n",
    "plt.show()"
   ]
  },
  {
   "cell_type": "code",
   "execution_count": 145,
   "metadata": {},
   "outputs": [
    {
     "data": {
      "image/png": "[encoded data removed]",
      "text/plain": [
       "<Figure size 700x500 with 1 Axes>"
      ]
     },
     "metadata": {},
     "output_type": "display_data"
    }
   ],
   "source": [
    "inv_sizes = [1/size for size in sizes]\n",
    "\n",
    "plt.figure(figsize = (7,5))\n",
    "plt.errorbar(inv_sizes, delta_stars, fmt = \"o\", yerr = 0.002, markersize = 4)\n",
    "plt.xlabel(r\"$L^{-1 / \\nu}$\", fontsize = 15)\n",
    "plt.ylabel(\"$\\Delta^*_L$\", fontsize =15)\n",
    "plt.show()"
   ]
  },
  {
   "cell_type": "code",
   "execution_count": 150,
   "metadata": {},
   "outputs": [
    {
     "name": "stdout",
     "output_type": "stream",
     "text": [
      "[[Model]]\n",
      "    Model(<lambda>)\n",
      "[[Fit Statistics]]\n",
      "    # fitting method   = leastsq\n",
      "    # function evals   = 21\n",
      "    # data points      = 7\n",
      "    # variables        = 3\n",
      "    chi-square         = 0.51016718\n",
      "    reduced chi-square = 0.12754180\n",
      "    Akaike info crit   = -12.3324886\n",
      "    Bayesian info crit = -12.4947582\n",
      "    R-squared          = -61.4942299\n",
      "[[Variables]]\n",
      "    a:  1.21601092 +/- 0.08899731 (7.32%) (init = 0.5)\n",
      "    b:  1.00019314 +/- 0.00354775 (0.35%) (init = 0.5)\n",
      "    c:  1.07931025 +/- 0.04790250 (4.44%) (init = 1)\n",
      "[[Correlations]] (unreported correlations are < 0.100)\n",
      "    C(a, c) = -0.9941\n",
      "    C(b, c) = +0.9834\n",
      "    C(a, b) = -0.9599\n"
     ]
    },
    {
     "data": {
      "image/png": "[encoded data removed]",
      "text/plain": [
       "<Figure size 700x500 with 1 Axes>"
      ]
     },
     "metadata": {},
     "output_type": "display_data"
    }
   ],
   "source": [
    "from matplotlib.legend_handler import HandlerTuple\n",
    "\n",
    "model = Model(lambda x, a, b, c: -a*x**(-1/c)+b)\n",
    "sizes = [size for size in range(10, 55, 5)]\n",
    "\n",
    "x, y = sizes, delta_stars\n",
    "\n",
    "\n",
    "\n",
    "params = model.make_params(a=0.5, b=0.5, c = 1)\n",
    "result = model.fit(y, params, x=x, weights = 1 / 0.002)\n",
    "\n",
    "print(result.fit_report())\n",
    "\n",
    "plt.figure(figsize= (7, 5))\n",
    "p1 = plt.errorbar(x, y, fmt = 'o', yerr = 0.002, markersize = 2.5, capsize = 3, color = \"k\" )\n",
    "\n",
    "x = [el for el in range(1, 150)]\n",
    "y = [-result.params[\"a\"].value * el**(-1/result.params[\"c\"].value) + result.params[\"b\"].value for el in x]\n",
    "\n",
    "y_upper = [-result.params[\"a\"].value * el**(-1/(result.params[\"c\"].value + result.params[\"c\"].stderr)) + result.params[\"b\"].value for el in x]\n",
    "y_lower = [-result.params[\"a\"].value * el**(-1/(result.params[\"c\"].value - result.params[\"c\"].stderr)) + result.params[\"b\"].value for el in x]\n",
    "\n",
    "#plt.ylim(1, 1.22)\n",
    "plt.xlim(9, 80)\n",
    "p2, = plt.plot(x, y, '-', linewidth = 1)\n",
    "p3 = plt.fill_between(x, y_upper, y_lower, alpha = 0.2)\n",
    "\n",
    "plt.gca().xaxis.set_major_locator(MaxNLocator(prune='lower'))\n",
    "plt.gca().xaxis.set_major_locator(MaxNLocator(prune='lower'))\n",
    "plt.gca().xaxis.set_major_formatter(FormatStrFormatter('%.0f'))\n",
    "#plt.minorticks_off()\n",
    "\n",
    "plt.locator_params(axis='y', nbins=6)\n",
    "plt.locator_params(axis='x', nbins=4)\n",
    "\n",
    "plt.yticks(fontsize=15)\n",
    "plt.xticks(fontsize=15)\n",
    "\n",
    "p4 = plt.axhline(y = result.params[\"b\"].value, xmin = 0, xmax = 70, linestyle = \"dashed\", color = \"k\", linewidth = 0.8)\n",
    "y_upper = [result.params[\"b\"].value + result.params[\"b\"].stderr]\n",
    "y_lower = [result.params[\"b\"].value - result.params[\"b\"].stderr]\n",
    "p5 = plt.fill_between(x, y_upper, y_lower, alpha = 0.2)\n",
    "\n",
    "\n",
    "plt.xlabel(r\"$L$\", fontsize=20)\n",
    "plt.ylabel(\"$\\Delta^*_c$\", fontsize=20)\n",
    "\n",
    "plt.legend([p1, (p2, p3), (p4, p5)], ['data', \"fit\", \"$\\Delta_c$\"], handler_map={tuple: HandlerTuple(ndivide=1)}, prop = { \"size\": 15 }, loc = \"lower right\")\n",
    "plt.ylim(0.75, 1.01)\n",
    "\n",
    "plt.show()"
   ]
  },
  {
   "cell_type": "code",
   "execution_count": 151,
   "metadata": {},
   "outputs": [
    {
     "name": "stdout",
     "output_type": "stream",
     "text": [
      "Obtained nu: 1.0793102453107721 +/- 0.04790250034956651\n",
      "Obtained delta_t: 1.0001931435068958 +/- 0.0035477456911411193\n"
     ]
    }
   ],
   "source": [
    "print(f\"Obtained nu: {result.params['c'].value} +/- {result.params['c'].stderr}\")\n",
    "print(f\"Obtained delta_t: {result.params['b'].value} +/- {result.params['b'].stderr}\")"
   ]
  },
  {
   "cell_type": "code",
   "execution_count": null,
   "metadata": {},
   "outputs": [],
   "source": []
  }
 ],
 "metadata": {
  "kernelspec": {
   "display_name": "venv",
   "language": "python",
   "name": "python3"
  },
  "language_info": {
   "codemirror_mode": {
    "name": "ipython",
    "version": 3
   },
   "file_extension": ".py",
   "mimetype": "text/x-python",
   "name": "python",
   "nbconvert_exporter": "python",
   "pygments_lexer": "ipython3",
   "version": "3.10.6"
  },
  "orig_nbformat": 4
 },
 "nbformat": 4,
 "nbformat_minor": 2
}
