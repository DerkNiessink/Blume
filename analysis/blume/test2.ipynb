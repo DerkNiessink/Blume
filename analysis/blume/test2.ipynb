{
 "cells": [
  {
   "cell_type": "code",
   "execution_count": 3,
   "metadata": {},
   "outputs": [],
   "source": [
    "import scienceplots\n",
    "import matplotlib.pyplot as plt\n",
    "import numpy as np\n",
    "from lmfit import Model\n",
    "import os\n",
    "import sys\n",
    "\n",
    "sys.path.append(\"../..\")\n",
    "\n",
    "from blume.process import read, compute, plot_file\n",
    "from blume.run import Results, ModelParameters\n",
    "from blume.model.post_props import Prop\n",
    "\n",
    "plt.style.use(\"science\")\n",
    "plt.rcParams[\"text.usetex\"] = True"
   ]
  },
  {
   "cell_type": "code",
   "execution_count": 8,
   "metadata": {},
   "outputs": [
    {
     "name": "stderr",
     "output_type": "stream",
     "text": [
      "temperature=0.607: 100%|██████████| 601/601 [10:21<00:00,  1.03s/it]  \n"
     ]
    },
    {
     "name": "stdout",
     "output_type": "stream",
     "text": [
      "Saving data in folder: '27-06 22:31'\n",
      "Done \n",
      "\n"
     ]
    },
    {
     "name": "stderr",
     "output_type": "stream",
     "text": [
      "temperature=0.6074999999999999: 100%|██████████| 601/601 [11:00<00:00,  1.10s/it]  \n"
     ]
    },
    {
     "name": "stdout",
     "output_type": "stream",
     "text": [
      "Saving data in folder: '27-06 22:31'\n",
      "Done \n",
      "\n"
     ]
    }
   ],
   "source": [
    "T_range = [0.6065, 0.608]\n",
    "delta_range = [delta for delta in np.arange(1.965, 1.9665, 0.000005)]\n",
    "delta_range.reverse()\n",
    "result = Results(varying_param=\"temperature\", range=T_range)\n",
    "params = ModelParameters(model = \"blume\", var_range=delta_range, tol=1e-9, max_steps=int(5000), use_prev=True, chi=24)\n",
    "result.get(params, sweeping_param=\"coupling\")"
   ]
  },
  {
   "cell_type": "code",
   "execution_count": null,
   "metadata": {},
   "outputs": [],
   "source": []
  }
 ],
 "metadata": {
  "kernelspec": {
   "display_name": "venv",
   "language": "python",
   "name": "python3"
  },
  "language_info": {
   "codemirror_mode": {
    "name": "ipython",
    "version": 3
   },
   "file_extension": ".py",
   "mimetype": "text/x-python",
   "name": "python",
   "nbconvert_exporter": "python",
   "pygments_lexer": "ipython3",
   "version": "3.10.6"
  },
  "orig_nbformat": 4
 },
 "nbformat": 4,
 "nbformat_minor": 2
}
