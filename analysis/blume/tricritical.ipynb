{
 "cells": [
  {
   "cell_type": "code",
   "execution_count": 3,
   "metadata": {},
   "outputs": [],
   "source": [
    "import scienceplots\n",
    "import matplotlib.pyplot as plt\n",
    "import numpy as np\n",
    "from lmfit import Model\n",
    "import os\n",
    "import sys\n",
    "\n",
    "sys.path.append(\"../..\")\n",
    "\n",
    "from blume.process import read, compute, plot_file\n",
    "from blume.run import Results, ModelParameters\n",
    "from blume.model.post_props import Prop\n",
    "\n",
    "plt.style.use(\"science\")\n",
    "plt.rcParams[\"text.usetex\"] = True"
   ]
  },
  {
   "cell_type": "code",
   "execution_count": 87,
   "metadata": {},
   "outputs": [
    {
     "name": "stderr",
     "output_type": "stream",
     "text": [
      "temperature=0.57: 100%|██████████| 161/161 [00:09<00:00, 17.68it/s]\n"
     ]
    },
    {
     "name": "stdout",
     "output_type": "stream",
     "text": [
      "Saving data in folder: '06-06 01:11'\n",
      "Done \n",
      "\n"
     ]
    },
    {
     "name": "stderr",
     "output_type": "stream",
     "text": [
      "temperature=0.5704999999999999: 100%|██████████| 161/161 [00:08<00:00, 18.47it/s]\n"
     ]
    },
    {
     "name": "stdout",
     "output_type": "stream",
     "text": [
      "Saving data in folder: '06-06 01:11'\n",
      "Done \n",
      "\n"
     ]
    },
    {
     "name": "stderr",
     "output_type": "stream",
     "text": [
      "temperature=0.5709999999999998: 100%|██████████| 161/161 [00:07<00:00, 20.53it/s]\n"
     ]
    },
    {
     "name": "stdout",
     "output_type": "stream",
     "text": [
      "Saving data in folder: '06-06 01:11'\n",
      "Done \n",
      "\n"
     ]
    },
    {
     "name": "stderr",
     "output_type": "stream",
     "text": [
      "temperature=0.5714999999999998: 100%|██████████| 161/161 [00:09<00:00, 17.76it/s]\n"
     ]
    },
    {
     "name": "stdout",
     "output_type": "stream",
     "text": [
      "Saving data in folder: '06-06 01:11'\n",
      "Done \n",
      "\n"
     ]
    },
    {
     "name": "stderr",
     "output_type": "stream",
     "text": [
      "temperature=0.5719999999999997: 100%|██████████| 161/161 [00:08<00:00, 19.48it/s]\n"
     ]
    },
    {
     "name": "stdout",
     "output_type": "stream",
     "text": [
      "Saving data in folder: '06-06 01:11'\n",
      "Done \n",
      "\n"
     ]
    },
    {
     "name": "stderr",
     "output_type": "stream",
     "text": [
      "temperature=0.5724999999999997: 100%|██████████| 161/161 [00:08<00:00, 18.20it/s]\n"
     ]
    },
    {
     "name": "stdout",
     "output_type": "stream",
     "text": [
      "Saving data in folder: '06-06 01:11'\n",
      "Done \n",
      "\n"
     ]
    },
    {
     "name": "stderr",
     "output_type": "stream",
     "text": [
      "temperature=0.5729999999999996: 100%|██████████| 161/161 [00:08<00:00, 19.80it/s]\n"
     ]
    },
    {
     "name": "stdout",
     "output_type": "stream",
     "text": [
      "Saving data in folder: '06-06 01:11'\n",
      "Done \n",
      "\n"
     ]
    },
    {
     "name": "stderr",
     "output_type": "stream",
     "text": [
      "temperature=0.5734999999999996: 100%|██████████| 161/161 [00:07<00:00, 20.16it/s]\n"
     ]
    },
    {
     "name": "stdout",
     "output_type": "stream",
     "text": [
      "Saving data in folder: '06-06 01:11'\n",
      "Done \n",
      "\n"
     ]
    },
    {
     "name": "stderr",
     "output_type": "stream",
     "text": [
      "temperature=0.5739999999999995: 100%|██████████| 161/161 [00:08<00:00, 19.89it/s]\n"
     ]
    },
    {
     "name": "stdout",
     "output_type": "stream",
     "text": [
      "Saving data in folder: '06-06 01:11'\n",
      "Done \n",
      "\n"
     ]
    },
    {
     "name": "stderr",
     "output_type": "stream",
     "text": [
      "temperature=0.5744999999999995: 100%|██████████| 161/161 [00:07<00:00, 20.22it/s]\n"
     ]
    },
    {
     "name": "stdout",
     "output_type": "stream",
     "text": [
      "Saving data in folder: '06-06 01:11'\n",
      "Done \n",
      "\n"
     ]
    },
    {
     "name": "stderr",
     "output_type": "stream",
     "text": [
      "temperature=0.5749999999999994: 100%|██████████| 161/161 [00:07<00:00, 20.38it/s]\n"
     ]
    },
    {
     "name": "stdout",
     "output_type": "stream",
     "text": [
      "Saving data in folder: '06-06 01:11'\n",
      "Done \n",
      "\n"
     ]
    },
    {
     "name": "stderr",
     "output_type": "stream",
     "text": [
      "temperature=0.5754999999999993: 100%|██████████| 161/161 [00:08<00:00, 19.17it/s]\n"
     ]
    },
    {
     "name": "stdout",
     "output_type": "stream",
     "text": [
      "Saving data in folder: '06-06 01:11'\n",
      "Done \n",
      "\n"
     ]
    },
    {
     "name": "stderr",
     "output_type": "stream",
     "text": [
      "temperature=0.5759999999999993: 100%|██████████| 161/161 [00:08<00:00, 18.45it/s]\n"
     ]
    },
    {
     "name": "stdout",
     "output_type": "stream",
     "text": [
      "Saving data in folder: '06-06 01:11'\n",
      "Done \n",
      "\n"
     ]
    },
    {
     "name": "stderr",
     "output_type": "stream",
     "text": [
      "temperature=0.5764999999999992: 100%|██████████| 161/161 [00:07<00:00, 20.43it/s]\n"
     ]
    },
    {
     "name": "stdout",
     "output_type": "stream",
     "text": [
      "Saving data in folder: '06-06 01:11'\n",
      "Done \n",
      "\n"
     ]
    },
    {
     "name": "stderr",
     "output_type": "stream",
     "text": [
      "temperature=0.5769999999999992: 100%|██████████| 161/161 [00:07<00:00, 20.27it/s]\n"
     ]
    },
    {
     "name": "stdout",
     "output_type": "stream",
     "text": [
      "Saving data in folder: '06-06 01:11'\n",
      "Done \n",
      "\n"
     ]
    },
    {
     "name": "stderr",
     "output_type": "stream",
     "text": [
      "temperature=0.5774999999999991: 100%|██████████| 161/161 [00:07<00:00, 20.56it/s]\n"
     ]
    },
    {
     "name": "stdout",
     "output_type": "stream",
     "text": [
      "Saving data in folder: '06-06 01:11'\n",
      "Done \n",
      "\n"
     ]
    },
    {
     "name": "stderr",
     "output_type": "stream",
     "text": [
      "temperature=0.5779999999999991: 100%|██████████| 161/161 [00:07<00:00, 20.40it/s]\n"
     ]
    },
    {
     "name": "stdout",
     "output_type": "stream",
     "text": [
      "Saving data in folder: '06-06 01:11'\n",
      "Done \n",
      "\n"
     ]
    },
    {
     "name": "stderr",
     "output_type": "stream",
     "text": [
      "temperature=0.578499999999999: 100%|██████████| 161/161 [00:08<00:00, 19.34it/s]\n"
     ]
    },
    {
     "name": "stdout",
     "output_type": "stream",
     "text": [
      "Saving data in folder: '06-06 01:11'\n",
      "Done \n",
      "\n"
     ]
    },
    {
     "name": "stderr",
     "output_type": "stream",
     "text": [
      "temperature=0.578999999999999: 100%|██████████| 161/161 [00:09<00:00, 16.33it/s]\n"
     ]
    },
    {
     "name": "stdout",
     "output_type": "stream",
     "text": [
      "Saving data in folder: '06-06 01:11'\n",
      "Done \n",
      "\n"
     ]
    },
    {
     "name": "stderr",
     "output_type": "stream",
     "text": [
      "temperature=0.5794999999999989: 100%|██████████| 161/161 [00:10<00:00, 14.73it/s]\n"
     ]
    },
    {
     "name": "stdout",
     "output_type": "stream",
     "text": [
      "Saving data in folder: '06-06 01:11'\n",
      "Done \n",
      "\n"
     ]
    },
    {
     "name": "stderr",
     "output_type": "stream",
     "text": [
      "temperature=0.5799999999999988: 100%|██████████| 161/161 [00:07<00:00, 20.33it/s]\n"
     ]
    },
    {
     "name": "stdout",
     "output_type": "stream",
     "text": [
      "Saving data in folder: '06-06 01:11'\n",
      "Done \n",
      "\n"
     ]
    },
    {
     "name": "stderr",
     "output_type": "stream",
     "text": [
      "temperature=0.5804999999999988: 100%|██████████| 161/161 [00:07<00:00, 20.50it/s]\n"
     ]
    },
    {
     "name": "stdout",
     "output_type": "stream",
     "text": [
      "Saving data in folder: '06-06 01:11'\n",
      "Done \n",
      "\n"
     ]
    },
    {
     "name": "stderr",
     "output_type": "stream",
     "text": [
      "temperature=0.5809999999999987: 100%|██████████| 161/161 [00:08<00:00, 19.90it/s]\n"
     ]
    },
    {
     "name": "stdout",
     "output_type": "stream",
     "text": [
      "Saving data in folder: '06-06 01:11'\n",
      "Done \n",
      "\n"
     ]
    },
    {
     "name": "stderr",
     "output_type": "stream",
     "text": [
      "temperature=0.5814999999999987: 100%|██████████| 161/161 [00:08<00:00, 19.81it/s]\n"
     ]
    },
    {
     "name": "stdout",
     "output_type": "stream",
     "text": [
      "Saving data in folder: '06-06 01:11'\n",
      "Done \n",
      "\n"
     ]
    },
    {
     "name": "stderr",
     "output_type": "stream",
     "text": [
      "temperature=0.5819999999999986: 100%|██████████| 161/161 [00:08<00:00, 19.88it/s]\n"
     ]
    },
    {
     "name": "stdout",
     "output_type": "stream",
     "text": [
      "Saving data in folder: '06-06 01:11'\n",
      "Done \n",
      "\n"
     ]
    },
    {
     "name": "stderr",
     "output_type": "stream",
     "text": [
      "temperature=0.5824999999999986: 100%|██████████| 161/161 [00:08<00:00, 19.23it/s]\n"
     ]
    },
    {
     "name": "stdout",
     "output_type": "stream",
     "text": [
      "Saving data in folder: '06-06 01:11'\n",
      "Done \n",
      "\n"
     ]
    },
    {
     "name": "stderr",
     "output_type": "stream",
     "text": [
      "temperature=0.5829999999999985: 100%|██████████| 161/161 [00:08<00:00, 18.62it/s]\n"
     ]
    },
    {
     "name": "stdout",
     "output_type": "stream",
     "text": [
      "Saving data in folder: '06-06 01:11'\n",
      "Done \n",
      "\n"
     ]
    },
    {
     "name": "stderr",
     "output_type": "stream",
     "text": [
      "temperature=0.5834999999999985: 100%|██████████| 161/161 [00:08<00:00, 19.05it/s]\n"
     ]
    },
    {
     "name": "stdout",
     "output_type": "stream",
     "text": [
      "Saving data in folder: '06-06 01:11'\n",
      "Done \n",
      "\n"
     ]
    },
    {
     "name": "stderr",
     "output_type": "stream",
     "text": [
      "temperature=0.5839999999999984: 100%|██████████| 161/161 [00:08<00:00, 19.81it/s]\n"
     ]
    },
    {
     "name": "stdout",
     "output_type": "stream",
     "text": [
      "Saving data in folder: '06-06 01:11'\n",
      "Done \n",
      "\n"
     ]
    },
    {
     "name": "stderr",
     "output_type": "stream",
     "text": [
      "temperature=0.5844999999999984: 100%|██████████| 161/161 [00:08<00:00, 18.89it/s]\n"
     ]
    },
    {
     "name": "stdout",
     "output_type": "stream",
     "text": [
      "Saving data in folder: '06-06 01:11'\n",
      "Done \n",
      "\n"
     ]
    },
    {
     "name": "stderr",
     "output_type": "stream",
     "text": [
      "temperature=0.5849999999999983: 100%|██████████| 161/161 [00:08<00:00, 19.89it/s]\n"
     ]
    },
    {
     "name": "stdout",
     "output_type": "stream",
     "text": [
      "Saving data in folder: '06-06 01:11'\n",
      "Done \n",
      "\n"
     ]
    },
    {
     "name": "stderr",
     "output_type": "stream",
     "text": [
      "temperature=0.5854999999999982: 100%|██████████| 161/161 [00:08<00:00, 19.54it/s]\n"
     ]
    },
    {
     "name": "stdout",
     "output_type": "stream",
     "text": [
      "Saving data in folder: '06-06 01:11'\n",
      "Done \n",
      "\n"
     ]
    },
    {
     "name": "stderr",
     "output_type": "stream",
     "text": [
      "temperature=0.5859999999999982: 100%|██████████| 161/161 [00:08<00:00, 19.07it/s]\n"
     ]
    },
    {
     "name": "stdout",
     "output_type": "stream",
     "text": [
      "Saving data in folder: '06-06 01:11'\n",
      "Done \n",
      "\n"
     ]
    },
    {
     "name": "stderr",
     "output_type": "stream",
     "text": [
      "temperature=0.5864999999999981: 100%|██████████| 161/161 [00:08<00:00, 18.17it/s]\n"
     ]
    },
    {
     "name": "stdout",
     "output_type": "stream",
     "text": [
      "Saving data in folder: '06-06 01:11'\n",
      "Done \n",
      "\n"
     ]
    },
    {
     "name": "stderr",
     "output_type": "stream",
     "text": [
      "temperature=0.5869999999999981: 100%|██████████| 161/161 [00:08<00:00, 18.98it/s]\n"
     ]
    },
    {
     "name": "stdout",
     "output_type": "stream",
     "text": [
      "Saving data in folder: '06-06 01:11'\n",
      "Done \n",
      "\n"
     ]
    },
    {
     "name": "stderr",
     "output_type": "stream",
     "text": [
      "temperature=0.587499999999998: 100%|██████████| 161/161 [00:08<00:00, 19.32it/s]\n"
     ]
    },
    {
     "name": "stdout",
     "output_type": "stream",
     "text": [
      "Saving data in folder: '06-06 01:11'\n",
      "Done \n",
      "\n"
     ]
    },
    {
     "name": "stderr",
     "output_type": "stream",
     "text": [
      "temperature=0.587999999999998: 100%|██████████| 161/161 [00:09<00:00, 17.12it/s]\n"
     ]
    },
    {
     "name": "stdout",
     "output_type": "stream",
     "text": [
      "Saving data in folder: '06-06 01:11'\n",
      "Done \n",
      "\n"
     ]
    },
    {
     "name": "stderr",
     "output_type": "stream",
     "text": [
      "temperature=0.5884999999999979: 100%|██████████| 161/161 [00:11<00:00, 13.66it/s]\n"
     ]
    },
    {
     "name": "stdout",
     "output_type": "stream",
     "text": [
      "Saving data in folder: '06-06 01:11'\n",
      "Done \n",
      "\n"
     ]
    },
    {
     "name": "stderr",
     "output_type": "stream",
     "text": [
      "temperature=0.5889999999999979: 100%|██████████| 161/161 [00:08<00:00, 18.90it/s]\n"
     ]
    },
    {
     "name": "stdout",
     "output_type": "stream",
     "text": [
      "Saving data in folder: '06-06 01:11'\n",
      "Done \n",
      "\n"
     ]
    },
    {
     "name": "stderr",
     "output_type": "stream",
     "text": [
      "temperature=0.5894999999999978: 100%|██████████| 161/161 [00:08<00:00, 18.76it/s]\n"
     ]
    },
    {
     "name": "stdout",
     "output_type": "stream",
     "text": [
      "Saving data in folder: '06-06 01:11'\n",
      "Done \n",
      "\n"
     ]
    },
    {
     "name": "stderr",
     "output_type": "stream",
     "text": [
      "temperature=0.5899999999999977: 100%|██████████| 161/161 [00:08<00:00, 18.13it/s]\n"
     ]
    },
    {
     "name": "stdout",
     "output_type": "stream",
     "text": [
      "Saving data in folder: '06-06 01:11'\n",
      "Done \n",
      "\n"
     ]
    },
    {
     "name": "stderr",
     "output_type": "stream",
     "text": [
      "temperature=0.5904999999999977: 100%|██████████| 161/161 [00:08<00:00, 18.70it/s]\n"
     ]
    },
    {
     "name": "stdout",
     "output_type": "stream",
     "text": [
      "Saving data in folder: '06-06 01:11'\n",
      "Done \n",
      "\n"
     ]
    },
    {
     "name": "stderr",
     "output_type": "stream",
     "text": [
      "temperature=0.5909999999999976: 100%|██████████| 161/161 [00:09<00:00, 17.54it/s]\n"
     ]
    },
    {
     "name": "stdout",
     "output_type": "stream",
     "text": [
      "Saving data in folder: '06-06 01:11'\n",
      "Done \n",
      "\n"
     ]
    },
    {
     "name": "stderr",
     "output_type": "stream",
     "text": [
      "temperature=0.5914999999999976: 100%|██████████| 161/161 [00:08<00:00, 18.59it/s]\n"
     ]
    },
    {
     "name": "stdout",
     "output_type": "stream",
     "text": [
      "Saving data in folder: '06-06 01:11'\n",
      "Done \n",
      "\n"
     ]
    },
    {
     "name": "stderr",
     "output_type": "stream",
     "text": [
      "temperature=0.5919999999999975: 100%|██████████| 161/161 [00:20<00:00,  7.74it/s]\n"
     ]
    },
    {
     "name": "stdout",
     "output_type": "stream",
     "text": [
      "Saving data in folder: '06-06 01:11'\n",
      "Done \n",
      "\n"
     ]
    },
    {
     "name": "stderr",
     "output_type": "stream",
     "text": [
      "temperature=0.5924999999999975: 100%|██████████| 161/161 [00:08<00:00, 18.61it/s]\n"
     ]
    },
    {
     "name": "stdout",
     "output_type": "stream",
     "text": [
      "Saving data in folder: '06-06 01:11'\n",
      "Done \n",
      "\n"
     ]
    },
    {
     "name": "stderr",
     "output_type": "stream",
     "text": [
      "temperature=0.5929999999999974: 100%|██████████| 161/161 [00:08<00:00, 18.10it/s]\n"
     ]
    },
    {
     "name": "stdout",
     "output_type": "stream",
     "text": [
      "Saving data in folder: '06-06 01:11'\n",
      "Done \n",
      "\n"
     ]
    },
    {
     "name": "stderr",
     "output_type": "stream",
     "text": [
      "temperature=0.5934999999999974: 100%|██████████| 161/161 [00:09<00:00, 17.74it/s]\n"
     ]
    },
    {
     "name": "stdout",
     "output_type": "stream",
     "text": [
      "Saving data in folder: '06-06 01:11'\n",
      "Done \n",
      "\n"
     ]
    },
    {
     "name": "stderr",
     "output_type": "stream",
     "text": [
      "temperature=0.5939999999999973: 100%|██████████| 161/161 [00:09<00:00, 17.60it/s]\n"
     ]
    },
    {
     "name": "stdout",
     "output_type": "stream",
     "text": [
      "Saving data in folder: '06-06 01:11'\n",
      "Done \n",
      "\n"
     ]
    },
    {
     "name": "stderr",
     "output_type": "stream",
     "text": [
      "temperature=0.5944999999999973: 100%|██████████| 161/161 [00:09<00:00, 17.47it/s]\n"
     ]
    },
    {
     "name": "stdout",
     "output_type": "stream",
     "text": [
      "Saving data in folder: '06-06 01:11'\n",
      "Done \n",
      "\n"
     ]
    },
    {
     "name": "stderr",
     "output_type": "stream",
     "text": [
      "temperature=0.5949999999999972: 100%|██████████| 161/161 [00:08<00:00, 18.43it/s]\n"
     ]
    },
    {
     "name": "stdout",
     "output_type": "stream",
     "text": [
      "Saving data in folder: '06-06 01:11'\n",
      "Done \n",
      "\n"
     ]
    },
    {
     "name": "stderr",
     "output_type": "stream",
     "text": [
      "temperature=0.5954999999999971: 100%|██████████| 161/161 [00:09<00:00, 16.13it/s]\n"
     ]
    },
    {
     "name": "stdout",
     "output_type": "stream",
     "text": [
      "Saving data in folder: '06-06 01:11'\n",
      "Done \n",
      "\n"
     ]
    },
    {
     "name": "stderr",
     "output_type": "stream",
     "text": [
      "temperature=0.5959999999999971: 100%|██████████| 161/161 [00:09<00:00, 17.81it/s]\n"
     ]
    },
    {
     "name": "stdout",
     "output_type": "stream",
     "text": [
      "Saving data in folder: '06-06 01:11'\n",
      "Done \n",
      "\n"
     ]
    },
    {
     "name": "stderr",
     "output_type": "stream",
     "text": [
      "temperature=0.596499999999997: 100%|██████████| 161/161 [00:09<00:00, 17.44it/s]\n"
     ]
    },
    {
     "name": "stdout",
     "output_type": "stream",
     "text": [
      "Saving data in folder: '06-06 01:11'\n",
      "Done \n",
      "\n"
     ]
    },
    {
     "name": "stderr",
     "output_type": "stream",
     "text": [
      "temperature=0.596999999999997: 100%|██████████| 161/161 [00:09<00:00, 17.38it/s]\n"
     ]
    },
    {
     "name": "stdout",
     "output_type": "stream",
     "text": [
      "Saving data in folder: '06-06 01:11'\n",
      "Done \n",
      "\n"
     ]
    },
    {
     "name": "stderr",
     "output_type": "stream",
     "text": [
      "temperature=0.5974999999999969: 100%|██████████| 161/161 [00:09<00:00, 16.15it/s]\n"
     ]
    },
    {
     "name": "stdout",
     "output_type": "stream",
     "text": [
      "Saving data in folder: '06-06 01:11'\n",
      "Done \n",
      "\n"
     ]
    },
    {
     "name": "stderr",
     "output_type": "stream",
     "text": [
      "temperature=0.5979999999999969: 100%|██████████| 161/161 [00:09<00:00, 16.98it/s]\n"
     ]
    },
    {
     "name": "stdout",
     "output_type": "stream",
     "text": [
      "Saving data in folder: '06-06 01:11'\n",
      "Done \n",
      "\n"
     ]
    },
    {
     "name": "stderr",
     "output_type": "stream",
     "text": [
      "temperature=0.5984999999999968: 100%|██████████| 161/161 [00:09<00:00, 17.17it/s]\n"
     ]
    },
    {
     "name": "stdout",
     "output_type": "stream",
     "text": [
      "Saving data in folder: '06-06 01:11'\n",
      "Done \n",
      "\n"
     ]
    },
    {
     "name": "stderr",
     "output_type": "stream",
     "text": [
      "temperature=0.5989999999999968: 100%|██████████| 161/161 [00:09<00:00, 17.56it/s]\n"
     ]
    },
    {
     "name": "stdout",
     "output_type": "stream",
     "text": [
      "Saving data in folder: '06-06 01:11'\n",
      "Done \n",
      "\n"
     ]
    },
    {
     "name": "stderr",
     "output_type": "stream",
     "text": [
      "temperature=0.5994999999999967: 100%|██████████| 161/161 [00:09<00:00, 16.56it/s]\n"
     ]
    },
    {
     "name": "stdout",
     "output_type": "stream",
     "text": [
      "Saving data in folder: '06-06 01:11'\n",
      "Done \n",
      "\n"
     ]
    },
    {
     "name": "stderr",
     "output_type": "stream",
     "text": [
      "temperature=0.5999999999999966: 100%|██████████| 161/161 [00:09<00:00, 17.27it/s]\n"
     ]
    },
    {
     "name": "stdout",
     "output_type": "stream",
     "text": [
      "Saving data in folder: '06-06 01:11'\n",
      "Done \n",
      "\n"
     ]
    },
    {
     "name": "stderr",
     "output_type": "stream",
     "text": [
      "temperature=0.6004999999999966: 100%|██████████| 161/161 [00:09<00:00, 16.66it/s]\n"
     ]
    },
    {
     "name": "stdout",
     "output_type": "stream",
     "text": [
      "Saving data in folder: '06-06 01:11'\n",
      "Done \n",
      "\n"
     ]
    },
    {
     "name": "stderr",
     "output_type": "stream",
     "text": [
      "temperature=0.6009999999999965: 100%|██████████| 161/161 [00:10<00:00, 14.88it/s]\n"
     ]
    },
    {
     "name": "stdout",
     "output_type": "stream",
     "text": [
      "Saving data in folder: '06-06 01:11'\n",
      "Done \n",
      "\n"
     ]
    },
    {
     "name": "stderr",
     "output_type": "stream",
     "text": [
      "temperature=0.6014999999999965: 100%|██████████| 161/161 [00:09<00:00, 16.24it/s]\n"
     ]
    },
    {
     "name": "stdout",
     "output_type": "stream",
     "text": [
      "Saving data in folder: '06-06 01:11'\n",
      "Done \n",
      "\n"
     ]
    },
    {
     "name": "stderr",
     "output_type": "stream",
     "text": [
      "temperature=0.6019999999999964: 100%|██████████| 161/161 [00:09<00:00, 16.13it/s]\n"
     ]
    },
    {
     "name": "stdout",
     "output_type": "stream",
     "text": [
      "Saving data in folder: '06-06 01:11'\n",
      "Done \n",
      "\n"
     ]
    },
    {
     "name": "stderr",
     "output_type": "stream",
     "text": [
      "temperature=0.6024999999999964: 100%|██████████| 161/161 [00:09<00:00, 16.39it/s]\n"
     ]
    },
    {
     "name": "stdout",
     "output_type": "stream",
     "text": [
      "Saving data in folder: '06-06 01:11'\n",
      "Done \n",
      "\n"
     ]
    },
    {
     "name": "stderr",
     "output_type": "stream",
     "text": [
      "temperature=0.6029999999999963: 100%|██████████| 161/161 [00:10<00:00, 15.68it/s]\n"
     ]
    },
    {
     "name": "stdout",
     "output_type": "stream",
     "text": [
      "Saving data in folder: '06-06 01:11'\n",
      "Done \n",
      "\n"
     ]
    },
    {
     "name": "stderr",
     "output_type": "stream",
     "text": [
      "temperature=0.6034999999999963: 100%|██████████| 161/161 [00:09<00:00, 16.68it/s]\n"
     ]
    },
    {
     "name": "stdout",
     "output_type": "stream",
     "text": [
      "Saving data in folder: '06-06 01:11'\n",
      "Done \n",
      "\n"
     ]
    },
    {
     "name": "stderr",
     "output_type": "stream",
     "text": [
      "temperature=0.6039999999999962: 100%|██████████| 161/161 [00:10<00:00, 15.73it/s]\n"
     ]
    },
    {
     "name": "stdout",
     "output_type": "stream",
     "text": [
      "Saving data in folder: '06-06 01:11'\n",
      "Done \n",
      "\n"
     ]
    },
    {
     "name": "stderr",
     "output_type": "stream",
     "text": [
      "temperature=0.6044999999999962: 100%|██████████| 161/161 [00:13<00:00, 11.78it/s]\n"
     ]
    },
    {
     "name": "stdout",
     "output_type": "stream",
     "text": [
      "Saving data in folder: '06-06 01:11'\n",
      "Done \n",
      "\n"
     ]
    },
    {
     "name": "stderr",
     "output_type": "stream",
     "text": [
      "temperature=0.6049999999999961: 100%|██████████| 161/161 [00:10<00:00, 15.77it/s]\n"
     ]
    },
    {
     "name": "stdout",
     "output_type": "stream",
     "text": [
      "Saving data in folder: '06-06 01:11'\n",
      "Done \n",
      "\n"
     ]
    },
    {
     "name": "stderr",
     "output_type": "stream",
     "text": [
      "temperature=0.605499999999996: 100%|██████████| 161/161 [00:09<00:00, 16.11it/s]\n"
     ]
    },
    {
     "name": "stdout",
     "output_type": "stream",
     "text": [
      "Saving data in folder: '06-06 01:11'\n",
      "Done \n",
      "\n"
     ]
    },
    {
     "name": "stderr",
     "output_type": "stream",
     "text": [
      "temperature=0.605999999999996: 100%|██████████| 161/161 [00:09<00:00, 16.20it/s]\n"
     ]
    },
    {
     "name": "stdout",
     "output_type": "stream",
     "text": [
      "Saving data in folder: '06-06 01:11'\n",
      "Done \n",
      "\n"
     ]
    },
    {
     "name": "stderr",
     "output_type": "stream",
     "text": [
      "temperature=0.6064999999999959: 100%|██████████| 161/161 [00:10<00:00, 15.89it/s]\n"
     ]
    },
    {
     "name": "stdout",
     "output_type": "stream",
     "text": [
      "Saving data in folder: '06-06 01:11'\n",
      "Done \n",
      "\n"
     ]
    },
    {
     "name": "stderr",
     "output_type": "stream",
     "text": [
      "temperature=0.6069999999999959: 100%|██████████| 161/161 [00:10<00:00, 15.56it/s]\n"
     ]
    },
    {
     "name": "stdout",
     "output_type": "stream",
     "text": [
      "Saving data in folder: '06-06 01:11'\n",
      "Done \n",
      "\n"
     ]
    },
    {
     "name": "stderr",
     "output_type": "stream",
     "text": [
      "temperature=0.6074999999999958: 100%|██████████| 161/161 [00:11<00:00, 14.29it/s]\n"
     ]
    },
    {
     "name": "stdout",
     "output_type": "stream",
     "text": [
      "Saving data in folder: '06-06 01:11'\n",
      "Done \n",
      "\n"
     ]
    },
    {
     "name": "stderr",
     "output_type": "stream",
     "text": [
      "temperature=0.6079999999999958: 100%|██████████| 161/161 [00:17<00:00,  9.26it/s]\n"
     ]
    },
    {
     "name": "stdout",
     "output_type": "stream",
     "text": [
      "Saving data in folder: '06-06 01:11'\n",
      "Done \n",
      "\n"
     ]
    },
    {
     "name": "stderr",
     "output_type": "stream",
     "text": [
      "temperature=0.6084999999999957: 100%|██████████| 161/161 [00:11<00:00, 13.72it/s]\n"
     ]
    },
    {
     "name": "stdout",
     "output_type": "stream",
     "text": [
      "Saving data in folder: '06-06 01:11'\n",
      "Done \n",
      "\n"
     ]
    },
    {
     "name": "stderr",
     "output_type": "stream",
     "text": [
      "temperature=0.6089999999999957: 100%|██████████| 161/161 [00:10<00:00, 15.16it/s]\n"
     ]
    },
    {
     "name": "stdout",
     "output_type": "stream",
     "text": [
      "Saving data in folder: '06-06 01:11'\n",
      "Done \n",
      "\n"
     ]
    },
    {
     "name": "stderr",
     "output_type": "stream",
     "text": [
      "temperature=0.6094999999999956: 100%|██████████| 161/161 [00:11<00:00, 14.39it/s]\n"
     ]
    },
    {
     "name": "stdout",
     "output_type": "stream",
     "text": [
      "Saving data in folder: '06-06 01:11'\n",
      "Done \n",
      "\n"
     ]
    },
    {
     "name": "stderr",
     "output_type": "stream",
     "text": [
      "temperature=0.6099999999999955: 100%|██████████| 161/161 [00:10<00:00, 14.94it/s]\n"
     ]
    },
    {
     "name": "stdout",
     "output_type": "stream",
     "text": [
      "Saving data in folder: '06-06 01:11'\n",
      "Done \n",
      "\n"
     ]
    },
    {
     "name": "stderr",
     "output_type": "stream",
     "text": [
      "temperature=0.6104999999999955: 100%|██████████| 161/161 [00:11<00:00, 13.60it/s]\n"
     ]
    },
    {
     "name": "stdout",
     "output_type": "stream",
     "text": [
      "Saving data in folder: '06-06 01:11'\n",
      "Done \n",
      "\n"
     ]
    },
    {
     "name": "stderr",
     "output_type": "stream",
     "text": [
      "temperature=0.6109999999999954: 100%|██████████| 161/161 [00:10<00:00, 14.87it/s]\n"
     ]
    },
    {
     "name": "stdout",
     "output_type": "stream",
     "text": [
      "Saving data in folder: '06-06 01:11'\n",
      "Done \n",
      "\n"
     ]
    },
    {
     "name": "stderr",
     "output_type": "stream",
     "text": [
      "temperature=0.6114999999999954: 100%|██████████| 161/161 [00:30<00:00,  5.20it/s]\n"
     ]
    },
    {
     "name": "stdout",
     "output_type": "stream",
     "text": [
      "Saving data in folder: '06-06 01:11'\n",
      "Done \n",
      "\n"
     ]
    },
    {
     "name": "stderr",
     "output_type": "stream",
     "text": [
      "temperature=0.6119999999999953: 100%|██████████| 161/161 [00:12<00:00, 12.96it/s]\n"
     ]
    },
    {
     "name": "stdout",
     "output_type": "stream",
     "text": [
      "Saving data in folder: '06-06 01:11'\n",
      "Done \n",
      "\n"
     ]
    },
    {
     "name": "stderr",
     "output_type": "stream",
     "text": [
      "temperature=0.6124999999999953: 100%|██████████| 161/161 [00:10<00:00, 15.04it/s]\n"
     ]
    },
    {
     "name": "stdout",
     "output_type": "stream",
     "text": [
      "Saving data in folder: '06-06 01:11'\n",
      "Done \n",
      "\n"
     ]
    },
    {
     "name": "stderr",
     "output_type": "stream",
     "text": [
      "temperature=0.6129999999999952: 100%|██████████| 161/161 [00:10<00:00, 15.25it/s]\n"
     ]
    },
    {
     "name": "stdout",
     "output_type": "stream",
     "text": [
      "Saving data in folder: '06-06 01:11'\n",
      "Done \n",
      "\n"
     ]
    },
    {
     "name": "stderr",
     "output_type": "stream",
     "text": [
      "temperature=0.6134999999999952: 100%|██████████| 161/161 [00:09<00:00, 16.48it/s]\n"
     ]
    },
    {
     "name": "stdout",
     "output_type": "stream",
     "text": [
      "Saving data in folder: '06-06 01:11'\n",
      "Done \n",
      "\n"
     ]
    },
    {
     "name": "stderr",
     "output_type": "stream",
     "text": [
      "temperature=0.6139999999999951: 100%|██████████| 161/161 [00:09<00:00, 16.43it/s]\n"
     ]
    },
    {
     "name": "stdout",
     "output_type": "stream",
     "text": [
      "Saving data in folder: '06-06 01:11'\n",
      "Done \n",
      "\n"
     ]
    },
    {
     "name": "stderr",
     "output_type": "stream",
     "text": [
      "temperature=0.614499999999995: 100%|██████████| 161/161 [00:10<00:00, 15.93it/s]\n"
     ]
    },
    {
     "name": "stdout",
     "output_type": "stream",
     "text": [
      "Saving data in folder: '06-06 01:11'\n",
      "Done \n",
      "\n"
     ]
    },
    {
     "name": "stderr",
     "output_type": "stream",
     "text": [
      "temperature=0.614999999999995: 100%|██████████| 161/161 [00:18<00:00,  8.53it/s]\n"
     ]
    },
    {
     "name": "stdout",
     "output_type": "stream",
     "text": [
      "Saving data in folder: '06-06 01:11'\n",
      "Done \n",
      "\n"
     ]
    },
    {
     "name": "stderr",
     "output_type": "stream",
     "text": [
      "temperature=0.6154999999999949: 100%|██████████| 161/161 [00:12<00:00, 13.24it/s]\n"
     ]
    },
    {
     "name": "stdout",
     "output_type": "stream",
     "text": [
      "Saving data in folder: '06-06 01:11'\n",
      "Done \n",
      "\n"
     ]
    },
    {
     "name": "stderr",
     "output_type": "stream",
     "text": [
      "temperature=0.6159999999999949: 100%|██████████| 161/161 [00:11<00:00, 14.19it/s]\n"
     ]
    },
    {
     "name": "stdout",
     "output_type": "stream",
     "text": [
      "Saving data in folder: '06-06 01:11'\n",
      "Done \n",
      "\n"
     ]
    },
    {
     "name": "stderr",
     "output_type": "stream",
     "text": [
      "temperature=0.6164999999999948: 100%|██████████| 161/161 [00:10<00:00, 15.75it/s]\n"
     ]
    },
    {
     "name": "stdout",
     "output_type": "stream",
     "text": [
      "Saving data in folder: '06-06 01:11'\n",
      "Done \n",
      "\n"
     ]
    },
    {
     "name": "stderr",
     "output_type": "stream",
     "text": [
      "temperature=0.6169999999999948: 100%|██████████| 161/161 [00:09<00:00, 16.36it/s]\n"
     ]
    },
    {
     "name": "stdout",
     "output_type": "stream",
     "text": [
      "Saving data in folder: '06-06 01:11'\n",
      "Done \n",
      "\n"
     ]
    },
    {
     "name": "stderr",
     "output_type": "stream",
     "text": [
      "temperature=0.6174999999999947: 100%|██████████| 161/161 [00:10<00:00, 15.97it/s]\n"
     ]
    },
    {
     "name": "stdout",
     "output_type": "stream",
     "text": [
      "Saving data in folder: '06-06 01:11'\n",
      "Done \n",
      "\n"
     ]
    },
    {
     "name": "stderr",
     "output_type": "stream",
     "text": [
      "temperature=0.6179999999999947: 100%|██████████| 161/161 [00:10<00:00, 15.27it/s]\n"
     ]
    },
    {
     "name": "stdout",
     "output_type": "stream",
     "text": [
      "Saving data in folder: '06-06 01:11'\n",
      "Done \n",
      "\n"
     ]
    },
    {
     "name": "stderr",
     "output_type": "stream",
     "text": [
      "temperature=0.6184999999999946: 100%|██████████| 161/161 [00:32<00:00,  4.92it/s]\n"
     ]
    },
    {
     "name": "stdout",
     "output_type": "stream",
     "text": [
      "Saving data in folder: '06-06 01:11'\n",
      "Done \n",
      "\n"
     ]
    },
    {
     "name": "stderr",
     "output_type": "stream",
     "text": [
      "temperature=0.6189999999999946: 100%|██████████| 161/161 [00:10<00:00, 15.36it/s]\n"
     ]
    },
    {
     "name": "stdout",
     "output_type": "stream",
     "text": [
      "Saving data in folder: '06-06 01:11'\n",
      "Done \n",
      "\n"
     ]
    },
    {
     "name": "stderr",
     "output_type": "stream",
     "text": [
      "temperature=0.6194999999999945: 100%|██████████| 161/161 [00:14<00:00, 11.30it/s]\n"
     ]
    },
    {
     "name": "stdout",
     "output_type": "stream",
     "text": [
      "Saving data in folder: '06-06 01:11'\n",
      "Done \n",
      "\n"
     ]
    },
    {
     "name": "stderr",
     "output_type": "stream",
     "text": [
      "temperature=0.6199999999999944: 100%|██████████| 161/161 [00:10<00:00, 14.83it/s]\n"
     ]
    },
    {
     "name": "stdout",
     "output_type": "stream",
     "text": [
      "Saving data in folder: '06-06 01:11'\n",
      "Done \n",
      "\n"
     ]
    },
    {
     "name": "stderr",
     "output_type": "stream",
     "text": [
      "temperature=0.6204999999999944: 100%|██████████| 161/161 [00:10<00:00, 15.66it/s]\n"
     ]
    },
    {
     "name": "stdout",
     "output_type": "stream",
     "text": [
      "Saving data in folder: '06-06 01:11'\n",
      "Done \n",
      "\n"
     ]
    },
    {
     "name": "stderr",
     "output_type": "stream",
     "text": [
      "temperature=0.6209999999999943: 100%|██████████| 161/161 [00:10<00:00, 15.15it/s]\n"
     ]
    },
    {
     "name": "stdout",
     "output_type": "stream",
     "text": [
      "Saving data in folder: '06-06 01:11'\n",
      "Done \n",
      "\n"
     ]
    },
    {
     "name": "stderr",
     "output_type": "stream",
     "text": [
      "temperature=0.6214999999999943: 100%|██████████| 161/161 [00:11<00:00, 14.53it/s]\n"
     ]
    },
    {
     "name": "stdout",
     "output_type": "stream",
     "text": [
      "Saving data in folder: '06-06 01:11'\n",
      "Done \n",
      "\n"
     ]
    },
    {
     "name": "stderr",
     "output_type": "stream",
     "text": [
      "temperature=0.6219999999999942: 100%|██████████| 161/161 [00:16<00:00,  9.93it/s]\n"
     ]
    },
    {
     "name": "stdout",
     "output_type": "stream",
     "text": [
      "Saving data in folder: '06-06 01:11'\n",
      "Done \n",
      "\n"
     ]
    },
    {
     "name": "stderr",
     "output_type": "stream",
     "text": [
      "temperature=0.6224999999999942: 100%|██████████| 161/161 [00:12<00:00, 12.89it/s]\n"
     ]
    },
    {
     "name": "stdout",
     "output_type": "stream",
     "text": [
      "Saving data in folder: '06-06 01:11'\n",
      "Done \n",
      "\n"
     ]
    },
    {
     "name": "stderr",
     "output_type": "stream",
     "text": [
      "temperature=0.6229999999999941: 100%|██████████| 161/161 [00:10<00:00, 15.73it/s]\n"
     ]
    },
    {
     "name": "stdout",
     "output_type": "stream",
     "text": [
      "Saving data in folder: '06-06 01:11'\n",
      "Done \n",
      "\n"
     ]
    },
    {
     "name": "stderr",
     "output_type": "stream",
     "text": [
      "temperature=0.6234999999999941: 100%|██████████| 161/161 [00:10<00:00, 15.54it/s]\n"
     ]
    },
    {
     "name": "stdout",
     "output_type": "stream",
     "text": [
      "Saving data in folder: '06-06 01:11'\n",
      "Done \n",
      "\n"
     ]
    },
    {
     "name": "stderr",
     "output_type": "stream",
     "text": [
      "temperature=0.623999999999994: 100%|██████████| 161/161 [00:11<00:00, 13.49it/s]\n"
     ]
    },
    {
     "name": "stdout",
     "output_type": "stream",
     "text": [
      "Saving data in folder: '06-06 01:11'\n",
      "Done \n",
      "\n"
     ]
    },
    {
     "name": "stderr",
     "output_type": "stream",
     "text": [
      "temperature=0.624499999999994: 100%|██████████| 161/161 [00:11<00:00, 14.13it/s]\n"
     ]
    },
    {
     "name": "stdout",
     "output_type": "stream",
     "text": [
      "Saving data in folder: '06-06 01:11'\n",
      "Done \n",
      "\n"
     ]
    },
    {
     "name": "stderr",
     "output_type": "stream",
     "text": [
      "temperature=0.6249999999999939: 100%|██████████| 161/161 [00:13<00:00, 11.91it/s]\n"
     ]
    },
    {
     "name": "stdout",
     "output_type": "stream",
     "text": [
      "Saving data in folder: '06-06 01:11'\n",
      "Done \n",
      "\n"
     ]
    },
    {
     "name": "stderr",
     "output_type": "stream",
     "text": [
      "temperature=0.6254999999999938: 100%|██████████| 161/161 [00:13<00:00, 12.18it/s]\n"
     ]
    },
    {
     "name": "stdout",
     "output_type": "stream",
     "text": [
      "Saving data in folder: '06-06 01:11'\n",
      "Done \n",
      "\n"
     ]
    },
    {
     "name": "stderr",
     "output_type": "stream",
     "text": [
      "temperature=0.6259999999999938: 100%|██████████| 161/161 [00:10<00:00, 14.80it/s]\n"
     ]
    },
    {
     "name": "stdout",
     "output_type": "stream",
     "text": [
      "Saving data in folder: '06-06 01:11'\n",
      "Done \n",
      "\n"
     ]
    },
    {
     "name": "stderr",
     "output_type": "stream",
     "text": [
      "temperature=0.6264999999999937: 100%|██████████| 161/161 [00:10<00:00, 15.17it/s]\n"
     ]
    },
    {
     "name": "stdout",
     "output_type": "stream",
     "text": [
      "Saving data in folder: '06-06 01:11'\n",
      "Done \n",
      "\n"
     ]
    },
    {
     "name": "stderr",
     "output_type": "stream",
     "text": [
      "temperature=0.6269999999999937: 100%|██████████| 161/161 [00:10<00:00, 14.77it/s]\n"
     ]
    },
    {
     "name": "stdout",
     "output_type": "stream",
     "text": [
      "Saving data in folder: '06-06 01:11'\n",
      "Done \n",
      "\n"
     ]
    },
    {
     "name": "stderr",
     "output_type": "stream",
     "text": [
      "temperature=0.6274999999999936: 100%|██████████| 161/161 [00:10<00:00, 15.18it/s]\n"
     ]
    },
    {
     "name": "stdout",
     "output_type": "stream",
     "text": [
      "Saving data in folder: '06-06 01:11'\n",
      "Done \n",
      "\n"
     ]
    },
    {
     "name": "stderr",
     "output_type": "stream",
     "text": [
      "temperature=0.6279999999999936: 100%|██████████| 161/161 [00:11<00:00, 13.97it/s]\n"
     ]
    },
    {
     "name": "stdout",
     "output_type": "stream",
     "text": [
      "Saving data in folder: '06-06 01:11'\n",
      "Done \n",
      "\n"
     ]
    },
    {
     "name": "stderr",
     "output_type": "stream",
     "text": [
      "temperature=0.6284999999999935: 100%|██████████| 161/161 [00:31<00:00,  5.07it/s]\n"
     ]
    },
    {
     "name": "stdout",
     "output_type": "stream",
     "text": [
      "Saving data in folder: '06-06 01:11'\n",
      "Done \n",
      "\n"
     ]
    },
    {
     "name": "stderr",
     "output_type": "stream",
     "text": [
      "temperature=0.6289999999999935: 100%|██████████| 161/161 [00:11<00:00, 13.54it/s]\n"
     ]
    },
    {
     "name": "stdout",
     "output_type": "stream",
     "text": [
      "Saving data in folder: '06-06 01:11'\n",
      "Done \n",
      "\n"
     ]
    },
    {
     "name": "stderr",
     "output_type": "stream",
     "text": [
      "temperature=0.6294999999999934: 100%|██████████| 161/161 [00:10<00:00, 14.84it/s]\n"
     ]
    },
    {
     "name": "stdout",
     "output_type": "stream",
     "text": [
      "Saving data in folder: '06-06 01:11'\n",
      "Done \n",
      "\n"
     ]
    },
    {
     "name": "stderr",
     "output_type": "stream",
     "text": [
      "temperature=0.6299999999999933: 100%|██████████| 161/161 [00:10<00:00, 15.17it/s]\n"
     ]
    },
    {
     "name": "stdout",
     "output_type": "stream",
     "text": [
      "Saving data in folder: '06-06 01:11'\n",
      "Done \n",
      "\n"
     ]
    },
    {
     "name": "stderr",
     "output_type": "stream",
     "text": [
      "temperature=0.6304999999999933: 100%|██████████| 161/161 [00:10<00:00, 15.14it/s]\n"
     ]
    },
    {
     "name": "stdout",
     "output_type": "stream",
     "text": [
      "Saving data in folder: '06-06 01:11'\n",
      "Done \n",
      "\n"
     ]
    },
    {
     "name": "stderr",
     "output_type": "stream",
     "text": [
      "temperature=0.6309999999999932: 100%|██████████| 161/161 [00:13<00:00, 12.33it/s]\n"
     ]
    },
    {
     "name": "stdout",
     "output_type": "stream",
     "text": [
      "Saving data in folder: '06-06 01:11'\n",
      "Done \n",
      "\n"
     ]
    },
    {
     "name": "stderr",
     "output_type": "stream",
     "text": [
      "temperature=0.6314999999999932: 100%|██████████| 161/161 [00:15<00:00, 10.50it/s]\n"
     ]
    },
    {
     "name": "stdout",
     "output_type": "stream",
     "text": [
      "Saving data in folder: '06-06 01:11'\n",
      "Done \n",
      "\n"
     ]
    },
    {
     "name": "stderr",
     "output_type": "stream",
     "text": [
      "temperature=0.6319999999999931: 100%|██████████| 161/161 [00:13<00:00, 12.19it/s]\n"
     ]
    },
    {
     "name": "stdout",
     "output_type": "stream",
     "text": [
      "Saving data in folder: '06-06 01:11'\n",
      "Done \n",
      "\n"
     ]
    },
    {
     "name": "stderr",
     "output_type": "stream",
     "text": [
      "temperature=0.6324999999999931: 100%|██████████| 161/161 [00:12<00:00, 12.94it/s]\n"
     ]
    },
    {
     "name": "stdout",
     "output_type": "stream",
     "text": [
      "Saving data in folder: '06-06 01:11'\n",
      "Done \n",
      "\n"
     ]
    },
    {
     "name": "stderr",
     "output_type": "stream",
     "text": [
      "temperature=0.632999999999993: 100%|██████████| 161/161 [00:11<00:00, 14.59it/s]\n"
     ]
    },
    {
     "name": "stdout",
     "output_type": "stream",
     "text": [
      "Saving data in folder: '06-06 01:11'\n",
      "Done \n",
      "\n"
     ]
    },
    {
     "name": "stderr",
     "output_type": "stream",
     "text": [
      "temperature=0.633499999999993: 100%|██████████| 161/161 [00:10<00:00, 14.64it/s]\n"
     ]
    },
    {
     "name": "stdout",
     "output_type": "stream",
     "text": [
      "Saving data in folder: '06-06 01:11'\n",
      "Done \n",
      "\n"
     ]
    },
    {
     "name": "stderr",
     "output_type": "stream",
     "text": [
      "temperature=0.6339999999999929: 100%|██████████| 161/161 [00:11<00:00, 14.31it/s]\n"
     ]
    },
    {
     "name": "stdout",
     "output_type": "stream",
     "text": [
      "Saving data in folder: '06-06 01:11'\n",
      "Done \n",
      "\n"
     ]
    },
    {
     "name": "stderr",
     "output_type": "stream",
     "text": [
      "temperature=0.6344999999999928: 100%|██████████| 161/161 [00:13<00:00, 11.87it/s]\n"
     ]
    },
    {
     "name": "stdout",
     "output_type": "stream",
     "text": [
      "Saving data in folder: '06-06 01:11'\n",
      "Done \n",
      "\n"
     ]
    },
    {
     "name": "stderr",
     "output_type": "stream",
     "text": [
      "temperature=0.6349999999999928: 100%|██████████| 161/161 [00:16<00:00,  9.98it/s]\n"
     ]
    },
    {
     "name": "stdout",
     "output_type": "stream",
     "text": [
      "Saving data in folder: '06-06 01:11'\n",
      "Done \n",
      "\n"
     ]
    },
    {
     "name": "stderr",
     "output_type": "stream",
     "text": [
      "temperature=0.6354999999999927: 100%|██████████| 161/161 [00:12<00:00, 13.36it/s]\n"
     ]
    },
    {
     "name": "stdout",
     "output_type": "stream",
     "text": [
      "Saving data in folder: '06-06 01:11'\n",
      "Done \n",
      "\n"
     ]
    },
    {
     "name": "stderr",
     "output_type": "stream",
     "text": [
      "temperature=0.6359999999999927: 100%|██████████| 161/161 [00:11<00:00, 14.13it/s]\n"
     ]
    },
    {
     "name": "stdout",
     "output_type": "stream",
     "text": [
      "Saving data in folder: '06-06 01:11'\n",
      "Done \n",
      "\n"
     ]
    },
    {
     "name": "stderr",
     "output_type": "stream",
     "text": [
      "temperature=0.6364999999999926: 100%|██████████| 161/161 [00:11<00:00, 14.39it/s]\n"
     ]
    },
    {
     "name": "stdout",
     "output_type": "stream",
     "text": [
      "Saving data in folder: '06-06 01:11'\n",
      "Done \n",
      "\n"
     ]
    },
    {
     "name": "stderr",
     "output_type": "stream",
     "text": [
      "temperature=0.6369999999999926: 100%|██████████| 161/161 [00:14<00:00, 11.32it/s]\n"
     ]
    },
    {
     "name": "stdout",
     "output_type": "stream",
     "text": [
      "Saving data in folder: '06-06 01:11'\n",
      "Done \n",
      "\n"
     ]
    },
    {
     "name": "stderr",
     "output_type": "stream",
     "text": [
      "temperature=0.6374999999999925: 100%|██████████| 161/161 [00:12<00:00, 12.41it/s]\n"
     ]
    },
    {
     "name": "stdout",
     "output_type": "stream",
     "text": [
      "Saving data in folder: '06-06 01:11'\n",
      "Done \n",
      "\n"
     ]
    },
    {
     "name": "stderr",
     "output_type": "stream",
     "text": [
      "temperature=0.6379999999999925: 100%|██████████| 161/161 [00:20<00:00,  7.77it/s]\n"
     ]
    },
    {
     "name": "stdout",
     "output_type": "stream",
     "text": [
      "Saving data in folder: '06-06 01:11'\n",
      "Done \n",
      "\n"
     ]
    },
    {
     "name": "stderr",
     "output_type": "stream",
     "text": [
      "temperature=0.6384999999999924: 100%|██████████| 161/161 [00:12<00:00, 13.10it/s]\n"
     ]
    },
    {
     "name": "stdout",
     "output_type": "stream",
     "text": [
      "Saving data in folder: '06-06 01:11'\n",
      "Done \n",
      "\n"
     ]
    },
    {
     "name": "stderr",
     "output_type": "stream",
     "text": [
      "temperature=0.6389999999999924: 100%|██████████| 161/161 [00:11<00:00, 13.84it/s]\n"
     ]
    },
    {
     "name": "stdout",
     "output_type": "stream",
     "text": [
      "Saving data in folder: '06-06 01:11'\n",
      "Done \n",
      "\n"
     ]
    },
    {
     "name": "stderr",
     "output_type": "stream",
     "text": [
      "temperature=0.6394999999999923: 100%|██████████| 161/161 [00:11<00:00, 14.23it/s]\n"
     ]
    },
    {
     "name": "stdout",
     "output_type": "stream",
     "text": [
      "Saving data in folder: '06-06 01:11'\n",
      "Done \n",
      "\n"
     ]
    },
    {
     "name": "stderr",
     "output_type": "stream",
     "text": [
      "temperature=0.6399999999999922: 100%|██████████| 161/161 [00:11<00:00, 13.98it/s]\n"
     ]
    },
    {
     "name": "stdout",
     "output_type": "stream",
     "text": [
      "Saving data in folder: '06-06 01:11'\n",
      "Done \n",
      "\n"
     ]
    }
   ],
   "source": [
    "T_range = [T for T in np.arange(0.57, 0.64, 0.0005)]\n",
    "result = Results(varying_param=\"temperature\", range=T_range)\n",
    "params = ModelParameters(model = \"blume\", var_range=(1.94, 2.10), step=0.001, tol=1e-9, max_steps=int(10e9), use_prev=True, chi=12 )\n",
    "result.get(params, sweeping_param=\"coupling\")"
   ]
  },
  {
   "cell_type": "code",
   "execution_count": 101,
   "metadata": {},
   "outputs": [
    {
     "data": {
      "image/png": "[encoded data removed]",
      "text/plain": [
       "<Figure size 700x500 with 1 Axes>"
      ]
     },
     "metadata": {},
     "output_type": "display_data"
    }
   ],
   "source": [
    "T_range = [T for T in np.arange(0.57, 0.64, 0.0005)]\n",
    "delta_stars_left = []\n",
    "max_xis = []\n",
    "plt.figure(figsize= (7, 5))\n",
    "for temp in T_range:\n",
    "    data = read(\"06-06 01:11\", f\"temperature{temp}\")\n",
    "    xis = compute(Prop.xi, data)\n",
    "    max_xis.append(max(xis))\n",
    "    plt.plot(data[\"couplings\"], xis)\n",
    "    delta_stars_left.append(data[\"couplings\"][xis.index(max(xis))])\n",
    "\n",
    "plt.xlabel(\"$\\Delta$\", fontsize=15)\n",
    "plt.ylabel(r\"$\\xi$\", fontsize=15)\n",
    "#plt.legend()\n",
    "plt.axvline(x= 1.996, linestyle=\"--\", label = \"$\\Delta_t$ (Silva et al.)\")\n",
    "plt.xlim(1.94, 2)\n",
    "plt.legend()\n",
    "plt.show()"
   ]
  },
  {
   "cell_type": "code",
   "execution_count": 88,
   "metadata": {},
   "outputs": [
    {
     "name": "stderr",
     "output_type": "stream",
     "text": [
      "temperature=0.57: 100%|██████████| 161/161 [00:07<00:00, 22.42it/s]\n"
     ]
    },
    {
     "name": "stdout",
     "output_type": "stream",
     "text": [
      "Saving data in folder: '06-06 01:37'\n",
      "Done \n",
      "\n"
     ]
    },
    {
     "name": "stderr",
     "output_type": "stream",
     "text": [
      "temperature=0.5704999999999999: 100%|██████████| 161/161 [00:07<00:00, 22.85it/s]\n"
     ]
    },
    {
     "name": "stdout",
     "output_type": "stream",
     "text": [
      "Saving data in folder: '06-06 01:37'\n",
      "Done \n",
      "\n"
     ]
    },
    {
     "name": "stderr",
     "output_type": "stream",
     "text": [
      "temperature=0.5709999999999998: 100%|██████████| 161/161 [00:07<00:00, 22.97it/s]\n"
     ]
    },
    {
     "name": "stdout",
     "output_type": "stream",
     "text": [
      "Saving data in folder: '06-06 01:37'\n",
      "Done \n",
      "\n"
     ]
    },
    {
     "name": "stderr",
     "output_type": "stream",
     "text": [
      "temperature=0.5714999999999998: 100%|██████████| 161/161 [00:07<00:00, 22.69it/s]\n"
     ]
    },
    {
     "name": "stdout",
     "output_type": "stream",
     "text": [
      "Saving data in folder: '06-06 01:37'\n",
      "Done \n",
      "\n"
     ]
    },
    {
     "name": "stderr",
     "output_type": "stream",
     "text": [
      "temperature=0.5719999999999997: 100%|██████████| 161/161 [00:07<00:00, 22.59it/s]\n"
     ]
    },
    {
     "name": "stdout",
     "output_type": "stream",
     "text": [
      "Saving data in folder: '06-06 01:37'\n",
      "Done \n",
      "\n"
     ]
    },
    {
     "name": "stderr",
     "output_type": "stream",
     "text": [
      "temperature=0.5724999999999997: 100%|██████████| 161/161 [00:07<00:00, 21.48it/s]\n"
     ]
    },
    {
     "name": "stdout",
     "output_type": "stream",
     "text": [
      "Saving data in folder: '06-06 01:37'\n",
      "Done \n",
      "\n"
     ]
    },
    {
     "name": "stderr",
     "output_type": "stream",
     "text": [
      "temperature=0.5729999999999996: 100%|██████████| 161/161 [00:07<00:00, 22.21it/s]\n"
     ]
    },
    {
     "name": "stdout",
     "output_type": "stream",
     "text": [
      "Saving data in folder: '06-06 01:37'\n",
      "Done \n",
      "\n"
     ]
    },
    {
     "name": "stderr",
     "output_type": "stream",
     "text": [
      "temperature=0.5734999999999996: 100%|██████████| 161/161 [00:07<00:00, 22.39it/s]\n"
     ]
    },
    {
     "name": "stdout",
     "output_type": "stream",
     "text": [
      "Saving data in folder: '06-06 01:37'\n",
      "Done \n",
      "\n"
     ]
    },
    {
     "name": "stderr",
     "output_type": "stream",
     "text": [
      "temperature=0.5739999999999995: 100%|██████████| 161/161 [00:07<00:00, 22.65it/s]\n"
     ]
    },
    {
     "name": "stdout",
     "output_type": "stream",
     "text": [
      "Saving data in folder: '06-06 01:37'\n",
      "Done \n",
      "\n"
     ]
    },
    {
     "name": "stderr",
     "output_type": "stream",
     "text": [
      "temperature=0.5744999999999995: 100%|██████████| 161/161 [00:07<00:00, 22.29it/s]\n"
     ]
    },
    {
     "name": "stdout",
     "output_type": "stream",
     "text": [
      "Saving data in folder: '06-06 01:37'\n",
      "Done \n",
      "\n"
     ]
    },
    {
     "name": "stderr",
     "output_type": "stream",
     "text": [
      "temperature=0.5749999999999994: 100%|██████████| 161/161 [00:07<00:00, 22.63it/s]\n"
     ]
    },
    {
     "name": "stdout",
     "output_type": "stream",
     "text": [
      "Saving data in folder: '06-06 01:37'\n",
      "Done \n",
      "\n"
     ]
    },
    {
     "name": "stderr",
     "output_type": "stream",
     "text": [
      "temperature=0.5754999999999993: 100%|██████████| 161/161 [00:07<00:00, 22.43it/s]\n"
     ]
    },
    {
     "name": "stdout",
     "output_type": "stream",
     "text": [
      "Saving data in folder: '06-06 01:37'\n",
      "Done \n",
      "\n"
     ]
    },
    {
     "name": "stderr",
     "output_type": "stream",
     "text": [
      "temperature=0.5759999999999993: 100%|██████████| 161/161 [00:07<00:00, 22.37it/s]\n"
     ]
    },
    {
     "name": "stdout",
     "output_type": "stream",
     "text": [
      "Saving data in folder: '06-06 01:37'\n",
      "Done \n",
      "\n"
     ]
    },
    {
     "name": "stderr",
     "output_type": "stream",
     "text": [
      "temperature=0.5764999999999992: 100%|██████████| 161/161 [00:07<00:00, 22.12it/s]\n"
     ]
    },
    {
     "name": "stdout",
     "output_type": "stream",
     "text": [
      "Saving data in folder: '06-06 01:37'\n",
      "Done \n",
      "\n"
     ]
    },
    {
     "name": "stderr",
     "output_type": "stream",
     "text": [
      "temperature=0.5769999999999992: 100%|██████████| 161/161 [00:07<00:00, 22.00it/s]\n"
     ]
    },
    {
     "name": "stdout",
     "output_type": "stream",
     "text": [
      "Saving data in folder: '06-06 01:37'\n",
      "Done \n",
      "\n"
     ]
    },
    {
     "name": "stderr",
     "output_type": "stream",
     "text": [
      "temperature=0.5774999999999991: 100%|██████████| 161/161 [00:07<00:00, 21.09it/s]\n"
     ]
    },
    {
     "name": "stdout",
     "output_type": "stream",
     "text": [
      "Saving data in folder: '06-06 01:37'\n",
      "Done \n",
      "\n"
     ]
    },
    {
     "name": "stderr",
     "output_type": "stream",
     "text": [
      "temperature=0.5779999999999991: 100%|██████████| 161/161 [00:07<00:00, 21.20it/s]\n"
     ]
    },
    {
     "name": "stdout",
     "output_type": "stream",
     "text": [
      "Saving data in folder: '06-06 01:37'\n",
      "Done \n",
      "\n"
     ]
    },
    {
     "name": "stderr",
     "output_type": "stream",
     "text": [
      "temperature=0.578499999999999: 100%|██████████| 161/161 [00:07<00:00, 21.61it/s]\n"
     ]
    },
    {
     "name": "stdout",
     "output_type": "stream",
     "text": [
      "Saving data in folder: '06-06 01:37'\n",
      "Done \n",
      "\n"
     ]
    },
    {
     "name": "stderr",
     "output_type": "stream",
     "text": [
      "temperature=0.578999999999999: 100%|██████████| 161/161 [00:07<00:00, 21.61it/s]\n"
     ]
    },
    {
     "name": "stdout",
     "output_type": "stream",
     "text": [
      "Saving data in folder: '06-06 01:37'\n",
      "Done \n",
      "\n"
     ]
    },
    {
     "name": "stderr",
     "output_type": "stream",
     "text": [
      "temperature=0.5794999999999989: 100%|██████████| 161/161 [00:07<00:00, 21.53it/s]\n"
     ]
    },
    {
     "name": "stdout",
     "output_type": "stream",
     "text": [
      "Saving data in folder: '06-06 01:37'\n",
      "Done \n",
      "\n"
     ]
    },
    {
     "name": "stderr",
     "output_type": "stream",
     "text": [
      "temperature=0.5799999999999988: 100%|██████████| 161/161 [00:07<00:00, 21.63it/s]\n"
     ]
    },
    {
     "name": "stdout",
     "output_type": "stream",
     "text": [
      "Saving data in folder: '06-06 01:37'\n",
      "Done \n",
      "\n"
     ]
    },
    {
     "name": "stderr",
     "output_type": "stream",
     "text": [
      "temperature=0.5804999999999988: 100%|██████████| 161/161 [00:07<00:00, 21.51it/s]\n"
     ]
    },
    {
     "name": "stdout",
     "output_type": "stream",
     "text": [
      "Saving data in folder: '06-06 01:37'\n",
      "Done \n",
      "\n"
     ]
    },
    {
     "name": "stderr",
     "output_type": "stream",
     "text": [
      "temperature=0.5809999999999987: 100%|██████████| 161/161 [00:07<00:00, 21.48it/s]\n"
     ]
    },
    {
     "name": "stdout",
     "output_type": "stream",
     "text": [
      "Saving data in folder: '06-06 01:37'\n",
      "Done \n",
      "\n"
     ]
    },
    {
     "name": "stderr",
     "output_type": "stream",
     "text": [
      "temperature=0.5814999999999987: 100%|██████████| 161/161 [00:07<00:00, 21.32it/s]\n"
     ]
    },
    {
     "name": "stdout",
     "output_type": "stream",
     "text": [
      "Saving data in folder: '06-06 01:37'\n",
      "Done \n",
      "\n"
     ]
    },
    {
     "name": "stderr",
     "output_type": "stream",
     "text": [
      "temperature=0.5819999999999986: 100%|██████████| 161/161 [00:07<00:00, 21.16it/s]\n"
     ]
    },
    {
     "name": "stdout",
     "output_type": "stream",
     "text": [
      "Saving data in folder: '06-06 01:37'\n",
      "Done \n",
      "\n"
     ]
    },
    {
     "name": "stderr",
     "output_type": "stream",
     "text": [
      "temperature=0.5824999999999986: 100%|██████████| 161/161 [00:07<00:00, 20.43it/s]\n"
     ]
    },
    {
     "name": "stdout",
     "output_type": "stream",
     "text": [
      "Saving data in folder: '06-06 01:37'\n",
      "Done \n",
      "\n"
     ]
    },
    {
     "name": "stderr",
     "output_type": "stream",
     "text": [
      "temperature=0.5829999999999985: 100%|██████████| 161/161 [00:07<00:00, 20.50it/s]\n"
     ]
    },
    {
     "name": "stdout",
     "output_type": "stream",
     "text": [
      "Saving data in folder: '06-06 01:37'\n",
      "Done \n",
      "\n"
     ]
    },
    {
     "name": "stderr",
     "output_type": "stream",
     "text": [
      "temperature=0.5834999999999985: 100%|██████████| 161/161 [00:07<00:00, 20.67it/s]\n"
     ]
    },
    {
     "name": "stdout",
     "output_type": "stream",
     "text": [
      "Saving data in folder: '06-06 01:37'\n",
      "Done \n",
      "\n"
     ]
    },
    {
     "name": "stderr",
     "output_type": "stream",
     "text": [
      "temperature=0.5839999999999984: 100%|██████████| 161/161 [00:07<00:00, 20.62it/s]\n"
     ]
    },
    {
     "name": "stdout",
     "output_type": "stream",
     "text": [
      "Saving data in folder: '06-06 01:37'\n",
      "Done \n",
      "\n"
     ]
    },
    {
     "name": "stderr",
     "output_type": "stream",
     "text": [
      "temperature=0.5844999999999984: 100%|██████████| 161/161 [00:07<00:00, 20.86it/s]\n"
     ]
    },
    {
     "name": "stdout",
     "output_type": "stream",
     "text": [
      "Saving data in folder: '06-06 01:37'\n",
      "Done \n",
      "\n"
     ]
    },
    {
     "name": "stderr",
     "output_type": "stream",
     "text": [
      "temperature=0.5849999999999983: 100%|██████████| 161/161 [00:07<00:00, 20.75it/s]\n"
     ]
    },
    {
     "name": "stdout",
     "output_type": "stream",
     "text": [
      "Saving data in folder: '06-06 01:37'\n",
      "Done \n",
      "\n"
     ]
    },
    {
     "name": "stderr",
     "output_type": "stream",
     "text": [
      "temperature=0.5854999999999982: 100%|██████████| 161/161 [00:07<00:00, 20.59it/s]\n"
     ]
    },
    {
     "name": "stdout",
     "output_type": "stream",
     "text": [
      "Saving data in folder: '06-06 01:37'\n",
      "Done \n",
      "\n"
     ]
    },
    {
     "name": "stderr",
     "output_type": "stream",
     "text": [
      "temperature=0.5859999999999982: 100%|██████████| 161/161 [00:07<00:00, 20.51it/s]\n"
     ]
    },
    {
     "name": "stdout",
     "output_type": "stream",
     "text": [
      "Saving data in folder: '06-06 01:37'\n",
      "Done \n",
      "\n"
     ]
    },
    {
     "name": "stderr",
     "output_type": "stream",
     "text": [
      "temperature=0.5864999999999981: 100%|██████████| 161/161 [00:07<00:00, 20.29it/s]\n"
     ]
    },
    {
     "name": "stdout",
     "output_type": "stream",
     "text": [
      "Saving data in folder: '06-06 01:37'\n",
      "Done \n",
      "\n"
     ]
    },
    {
     "name": "stderr",
     "output_type": "stream",
     "text": [
      "temperature=0.5869999999999981: 100%|██████████| 161/161 [00:08<00:00, 19.70it/s]\n"
     ]
    },
    {
     "name": "stdout",
     "output_type": "stream",
     "text": [
      "Saving data in folder: '06-06 01:37'\n",
      "Done \n",
      "\n"
     ]
    },
    {
     "name": "stderr",
     "output_type": "stream",
     "text": [
      "temperature=0.587499999999998: 100%|██████████| 161/161 [00:08<00:00, 19.13it/s]\n"
     ]
    },
    {
     "name": "stdout",
     "output_type": "stream",
     "text": [
      "Saving data in folder: '06-06 01:37'\n",
      "Done \n",
      "\n"
     ]
    },
    {
     "name": "stderr",
     "output_type": "stream",
     "text": [
      "temperature=0.587999999999998: 100%|██████████| 161/161 [00:08<00:00, 19.81it/s]\n"
     ]
    },
    {
     "name": "stdout",
     "output_type": "stream",
     "text": [
      "Saving data in folder: '06-06 01:37'\n",
      "Done \n",
      "\n"
     ]
    },
    {
     "name": "stderr",
     "output_type": "stream",
     "text": [
      "temperature=0.5884999999999979: 100%|██████████| 161/161 [00:08<00:00, 19.82it/s]\n"
     ]
    },
    {
     "name": "stdout",
     "output_type": "stream",
     "text": [
      "Saving data in folder: '06-06 01:37'\n",
      "Done \n",
      "\n"
     ]
    },
    {
     "name": "stderr",
     "output_type": "stream",
     "text": [
      "temperature=0.5889999999999979: 100%|██████████| 161/161 [00:08<00:00, 20.06it/s]\n"
     ]
    },
    {
     "name": "stdout",
     "output_type": "stream",
     "text": [
      "Saving data in folder: '06-06 01:37'\n",
      "Done \n",
      "\n"
     ]
    },
    {
     "name": "stderr",
     "output_type": "stream",
     "text": [
      "temperature=0.5894999999999978: 100%|██████████| 161/161 [00:08<00:00, 19.91it/s]\n"
     ]
    },
    {
     "name": "stdout",
     "output_type": "stream",
     "text": [
      "Saving data in folder: '06-06 01:37'\n",
      "Done \n",
      "\n"
     ]
    },
    {
     "name": "stderr",
     "output_type": "stream",
     "text": [
      "temperature=0.5899999999999977: 100%|██████████| 161/161 [00:07<00:00, 20.15it/s]\n"
     ]
    },
    {
     "name": "stdout",
     "output_type": "stream",
     "text": [
      "Saving data in folder: '06-06 01:37'\n",
      "Done \n",
      "\n"
     ]
    },
    {
     "name": "stderr",
     "output_type": "stream",
     "text": [
      "temperature=0.5904999999999977: 100%|██████████| 161/161 [00:08<00:00, 19.90it/s]\n"
     ]
    },
    {
     "name": "stdout",
     "output_type": "stream",
     "text": [
      "Saving data in folder: '06-06 01:37'\n",
      "Done \n",
      "\n"
     ]
    },
    {
     "name": "stderr",
     "output_type": "stream",
     "text": [
      "temperature=0.5909999999999976: 100%|██████████| 161/161 [00:08<00:00, 19.73it/s]\n"
     ]
    },
    {
     "name": "stdout",
     "output_type": "stream",
     "text": [
      "Saving data in folder: '06-06 01:37'\n",
      "Done \n",
      "\n"
     ]
    },
    {
     "name": "stderr",
     "output_type": "stream",
     "text": [
      "temperature=0.5914999999999976: 100%|██████████| 161/161 [00:08<00:00, 19.37it/s]\n"
     ]
    },
    {
     "name": "stdout",
     "output_type": "stream",
     "text": [
      "Saving data in folder: '06-06 01:37'\n",
      "Done \n",
      "\n"
     ]
    },
    {
     "name": "stderr",
     "output_type": "stream",
     "text": [
      "temperature=0.5919999999999975: 100%|██████████| 161/161 [00:08<00:00, 18.44it/s]\n"
     ]
    },
    {
     "name": "stdout",
     "output_type": "stream",
     "text": [
      "Saving data in folder: '06-06 01:37'\n",
      "Done \n",
      "\n"
     ]
    },
    {
     "name": "stderr",
     "output_type": "stream",
     "text": [
      "temperature=0.5924999999999975: 100%|██████████| 161/161 [00:08<00:00, 18.98it/s]\n"
     ]
    },
    {
     "name": "stdout",
     "output_type": "stream",
     "text": [
      "Saving data in folder: '06-06 01:37'\n",
      "Done \n",
      "\n"
     ]
    },
    {
     "name": "stderr",
     "output_type": "stream",
     "text": [
      "temperature=0.5929999999999974: 100%|██████████| 161/161 [00:08<00:00, 18.80it/s]\n"
     ]
    },
    {
     "name": "stdout",
     "output_type": "stream",
     "text": [
      "Saving data in folder: '06-06 01:37'\n",
      "Done \n",
      "\n"
     ]
    },
    {
     "name": "stderr",
     "output_type": "stream",
     "text": [
      "temperature=0.5934999999999974: 100%|██████████| 161/161 [00:08<00:00, 19.36it/s]\n"
     ]
    },
    {
     "name": "stdout",
     "output_type": "stream",
     "text": [
      "Saving data in folder: '06-06 01:37'\n",
      "Done \n",
      "\n"
     ]
    },
    {
     "name": "stderr",
     "output_type": "stream",
     "text": [
      "temperature=0.5939999999999973: 100%|██████████| 161/161 [00:08<00:00, 19.46it/s]\n"
     ]
    },
    {
     "name": "stdout",
     "output_type": "stream",
     "text": [
      "Saving data in folder: '06-06 01:37'\n",
      "Done \n",
      "\n"
     ]
    },
    {
     "name": "stderr",
     "output_type": "stream",
     "text": [
      "temperature=0.5944999999999973: 100%|██████████| 161/161 [00:08<00:00, 19.49it/s]\n"
     ]
    },
    {
     "name": "stdout",
     "output_type": "stream",
     "text": [
      "Saving data in folder: '06-06 01:37'\n",
      "Done \n",
      "\n"
     ]
    },
    {
     "name": "stderr",
     "output_type": "stream",
     "text": [
      "temperature=0.5949999999999972: 100%|██████████| 161/161 [00:08<00:00, 18.95it/s]\n"
     ]
    },
    {
     "name": "stdout",
     "output_type": "stream",
     "text": [
      "Saving data in folder: '06-06 01:37'\n",
      "Done \n",
      "\n"
     ]
    },
    {
     "name": "stderr",
     "output_type": "stream",
     "text": [
      "temperature=0.5954999999999971: 100%|██████████| 161/161 [00:08<00:00, 19.14it/s]\n"
     ]
    },
    {
     "name": "stdout",
     "output_type": "stream",
     "text": [
      "Saving data in folder: '06-06 01:37'\n",
      "Done \n",
      "\n"
     ]
    },
    {
     "name": "stderr",
     "output_type": "stream",
     "text": [
      "temperature=0.5959999999999971: 100%|██████████| 161/161 [00:16<00:00,  9.81it/s]\n"
     ]
    },
    {
     "name": "stdout",
     "output_type": "stream",
     "text": [
      "Saving data in folder: '06-06 01:37'\n",
      "Done \n",
      "\n"
     ]
    },
    {
     "name": "stderr",
     "output_type": "stream",
     "text": [
      "temperature=0.596499999999997: 100%|██████████| 161/161 [00:08<00:00, 18.21it/s]\n"
     ]
    },
    {
     "name": "stdout",
     "output_type": "stream",
     "text": [
      "Saving data in folder: '06-06 01:37'\n",
      "Done \n",
      "\n"
     ]
    },
    {
     "name": "stderr",
     "output_type": "stream",
     "text": [
      "temperature=0.596999999999997: 100%|██████████| 161/161 [00:08<00:00, 18.55it/s]\n"
     ]
    },
    {
     "name": "stdout",
     "output_type": "stream",
     "text": [
      "Saving data in folder: '06-06 01:37'\n",
      "Done \n",
      "\n"
     ]
    },
    {
     "name": "stderr",
     "output_type": "stream",
     "text": [
      "temperature=0.5974999999999969: 100%|██████████| 161/161 [00:08<00:00, 18.44it/s]\n"
     ]
    },
    {
     "name": "stdout",
     "output_type": "stream",
     "text": [
      "Saving data in folder: '06-06 01:37'\n",
      "Done \n",
      "\n"
     ]
    },
    {
     "name": "stderr",
     "output_type": "stream",
     "text": [
      "temperature=0.5979999999999969: 100%|██████████| 161/161 [00:08<00:00, 18.69it/s]\n"
     ]
    },
    {
     "name": "stdout",
     "output_type": "stream",
     "text": [
      "Saving data in folder: '06-06 01:37'\n",
      "Done \n",
      "\n"
     ]
    },
    {
     "name": "stderr",
     "output_type": "stream",
     "text": [
      "temperature=0.5984999999999968: 100%|██████████| 161/161 [00:08<00:00, 18.57it/s]\n"
     ]
    },
    {
     "name": "stdout",
     "output_type": "stream",
     "text": [
      "Saving data in folder: '06-06 01:37'\n",
      "Done \n",
      "\n"
     ]
    },
    {
     "name": "stderr",
     "output_type": "stream",
     "text": [
      "temperature=0.5989999999999968: 100%|██████████| 161/161 [00:08<00:00, 18.72it/s]\n"
     ]
    },
    {
     "name": "stdout",
     "output_type": "stream",
     "text": [
      "Saving data in folder: '06-06 01:37'\n",
      "Done \n",
      "\n"
     ]
    },
    {
     "name": "stderr",
     "output_type": "stream",
     "text": [
      "temperature=0.5994999999999967: 100%|██████████| 161/161 [00:08<00:00, 18.41it/s]\n"
     ]
    },
    {
     "name": "stdout",
     "output_type": "stream",
     "text": [
      "Saving data in folder: '06-06 01:37'\n",
      "Done \n",
      "\n"
     ]
    },
    {
     "name": "stderr",
     "output_type": "stream",
     "text": [
      "temperature=0.5999999999999966: 100%|██████████| 161/161 [00:10<00:00, 15.77it/s]\n"
     ]
    },
    {
     "name": "stdout",
     "output_type": "stream",
     "text": [
      "Saving data in folder: '06-06 01:37'\n",
      "Done \n",
      "\n"
     ]
    },
    {
     "name": "stderr",
     "output_type": "stream",
     "text": [
      "temperature=0.6004999999999966: 100%|██████████| 161/161 [00:09<00:00, 17.43it/s]\n"
     ]
    },
    {
     "name": "stdout",
     "output_type": "stream",
     "text": [
      "Saving data in folder: '06-06 01:37'\n",
      "Done \n",
      "\n"
     ]
    },
    {
     "name": "stderr",
     "output_type": "stream",
     "text": [
      "temperature=0.6009999999999965: 100%|██████████| 161/161 [00:09<00:00, 17.68it/s]\n"
     ]
    },
    {
     "name": "stdout",
     "output_type": "stream",
     "text": [
      "Saving data in folder: '06-06 01:37'\n",
      "Done \n",
      "\n"
     ]
    },
    {
     "name": "stderr",
     "output_type": "stream",
     "text": [
      "temperature=0.6014999999999965: 100%|██████████| 161/161 [00:08<00:00, 17.96it/s]\n"
     ]
    },
    {
     "name": "stdout",
     "output_type": "stream",
     "text": [
      "Saving data in folder: '06-06 01:37'\n",
      "Done \n",
      "\n"
     ]
    },
    {
     "name": "stderr",
     "output_type": "stream",
     "text": [
      "temperature=0.6019999999999964: 100%|██████████| 161/161 [00:09<00:00, 17.84it/s]\n"
     ]
    },
    {
     "name": "stdout",
     "output_type": "stream",
     "text": [
      "Saving data in folder: '06-06 01:37'\n",
      "Done \n",
      "\n"
     ]
    },
    {
     "name": "stderr",
     "output_type": "stream",
     "text": [
      "temperature=0.6024999999999964: 100%|██████████| 161/161 [00:09<00:00, 17.78it/s]\n"
     ]
    },
    {
     "name": "stdout",
     "output_type": "stream",
     "text": [
      "Saving data in folder: '06-06 01:37'\n",
      "Done \n",
      "\n"
     ]
    },
    {
     "name": "stderr",
     "output_type": "stream",
     "text": [
      "temperature=0.6029999999999963: 100%|██████████| 161/161 [00:09<00:00, 17.80it/s]\n"
     ]
    },
    {
     "name": "stdout",
     "output_type": "stream",
     "text": [
      "Saving data in folder: '06-06 01:37'\n",
      "Done \n",
      "\n"
     ]
    },
    {
     "name": "stderr",
     "output_type": "stream",
     "text": [
      "temperature=0.6034999999999963: 100%|██████████| 161/161 [00:09<00:00, 17.64it/s]\n"
     ]
    },
    {
     "name": "stdout",
     "output_type": "stream",
     "text": [
      "Saving data in folder: '06-06 01:37'\n",
      "Done \n",
      "\n"
     ]
    },
    {
     "name": "stderr",
     "output_type": "stream",
     "text": [
      "temperature=0.6039999999999962: 100%|██████████| 161/161 [00:18<00:00,  8.58it/s]\n"
     ]
    },
    {
     "name": "stdout",
     "output_type": "stream",
     "text": [
      "Saving data in folder: '06-06 01:37'\n",
      "Done \n",
      "\n"
     ]
    },
    {
     "name": "stderr",
     "output_type": "stream",
     "text": [
      "temperature=0.6044999999999962: 100%|██████████| 161/161 [00:09<00:00, 16.78it/s]\n"
     ]
    },
    {
     "name": "stdout",
     "output_type": "stream",
     "text": [
      "Saving data in folder: '06-06 01:37'\n",
      "Done \n",
      "\n"
     ]
    },
    {
     "name": "stderr",
     "output_type": "stream",
     "text": [
      "temperature=0.6049999999999961: 100%|██████████| 161/161 [00:09<00:00, 17.10it/s]\n"
     ]
    },
    {
     "name": "stdout",
     "output_type": "stream",
     "text": [
      "Saving data in folder: '06-06 01:37'\n",
      "Done \n",
      "\n"
     ]
    },
    {
     "name": "stderr",
     "output_type": "stream",
     "text": [
      "temperature=0.605499999999996: 100%|██████████| 161/161 [00:09<00:00, 17.10it/s]\n"
     ]
    },
    {
     "name": "stdout",
     "output_type": "stream",
     "text": [
      "Saving data in folder: '06-06 01:37'\n",
      "Done \n",
      "\n"
     ]
    },
    {
     "name": "stderr",
     "output_type": "stream",
     "text": [
      "temperature=0.605999999999996: 100%|██████████| 161/161 [00:09<00:00, 16.99it/s]\n"
     ]
    },
    {
     "name": "stdout",
     "output_type": "stream",
     "text": [
      "Saving data in folder: '06-06 01:37'\n",
      "Done \n",
      "\n"
     ]
    },
    {
     "name": "stderr",
     "output_type": "stream",
     "text": [
      "temperature=0.6064999999999959: 100%|██████████| 161/161 [00:09<00:00, 17.17it/s]\n"
     ]
    },
    {
     "name": "stdout",
     "output_type": "stream",
     "text": [
      "Saving data in folder: '06-06 01:37'\n",
      "Done \n",
      "\n"
     ]
    },
    {
     "name": "stderr",
     "output_type": "stream",
     "text": [
      "temperature=0.6069999999999959: 100%|██████████| 161/161 [00:09<00:00, 16.87it/s]\n"
     ]
    },
    {
     "name": "stdout",
     "output_type": "stream",
     "text": [
      "Saving data in folder: '06-06 01:37'\n",
      "Done \n",
      "\n"
     ]
    },
    {
     "name": "stderr",
     "output_type": "stream",
     "text": [
      "temperature=0.6074999999999958: 100%|██████████| 161/161 [00:09<00:00, 16.13it/s]\n"
     ]
    },
    {
     "name": "stdout",
     "output_type": "stream",
     "text": [
      "Saving data in folder: '06-06 01:37'\n",
      "Done \n",
      "\n"
     ]
    },
    {
     "name": "stderr",
     "output_type": "stream",
     "text": [
      "temperature=0.6079999999999958: 100%|██████████| 161/161 [00:11<00:00, 14.56it/s]\n"
     ]
    },
    {
     "name": "stdout",
     "output_type": "stream",
     "text": [
      "Saving data in folder: '06-06 01:37'\n",
      "Done \n",
      "\n"
     ]
    },
    {
     "name": "stderr",
     "output_type": "stream",
     "text": [
      "temperature=0.6084999999999957: 100%|██████████| 161/161 [00:10<00:00, 15.79it/s]\n"
     ]
    },
    {
     "name": "stdout",
     "output_type": "stream",
     "text": [
      "Saving data in folder: '06-06 01:37'\n",
      "Done \n",
      "\n"
     ]
    },
    {
     "name": "stderr",
     "output_type": "stream",
     "text": [
      "temperature=0.6089999999999957: 100%|██████████| 161/161 [00:09<00:00, 16.19it/s]\n"
     ]
    },
    {
     "name": "stdout",
     "output_type": "stream",
     "text": [
      "Saving data in folder: '06-06 01:37'\n",
      "Done \n",
      "\n"
     ]
    },
    {
     "name": "stderr",
     "output_type": "stream",
     "text": [
      "temperature=0.6094999999999956: 100%|██████████| 161/161 [00:10<00:00, 16.06it/s]\n"
     ]
    },
    {
     "name": "stdout",
     "output_type": "stream",
     "text": [
      "Saving data in folder: '06-06 01:37'\n",
      "Done \n",
      "\n"
     ]
    },
    {
     "name": "stderr",
     "output_type": "stream",
     "text": [
      "temperature=0.6099999999999955: 100%|██████████| 161/161 [00:10<00:00, 15.44it/s]\n"
     ]
    },
    {
     "name": "stdout",
     "output_type": "stream",
     "text": [
      "Saving data in folder: '06-06 01:37'\n",
      "Done \n",
      "\n"
     ]
    },
    {
     "name": "stderr",
     "output_type": "stream",
     "text": [
      "temperature=0.6104999999999955: 100%|██████████| 161/161 [00:11<00:00, 13.70it/s]\n"
     ]
    },
    {
     "name": "stdout",
     "output_type": "stream",
     "text": [
      "Saving data in folder: '06-06 01:37'\n",
      "Done \n",
      "\n"
     ]
    },
    {
     "name": "stderr",
     "output_type": "stream",
     "text": [
      "temperature=0.6109999999999954: 100%|██████████| 161/161 [00:10<00:00, 15.42it/s]\n"
     ]
    },
    {
     "name": "stdout",
     "output_type": "stream",
     "text": [
      "Saving data in folder: '06-06 01:37'\n",
      "Done \n",
      "\n"
     ]
    },
    {
     "name": "stderr",
     "output_type": "stream",
     "text": [
      "temperature=0.6114999999999954: 100%|██████████| 161/161 [00:17<00:00,  9.40it/s]\n"
     ]
    },
    {
     "name": "stdout",
     "output_type": "stream",
     "text": [
      "Saving data in folder: '06-06 01:37'\n",
      "Done \n",
      "\n"
     ]
    },
    {
     "name": "stderr",
     "output_type": "stream",
     "text": [
      "temperature=0.6119999999999953: 100%|██████████| 161/161 [00:11<00:00, 13.71it/s]\n"
     ]
    },
    {
     "name": "stdout",
     "output_type": "stream",
     "text": [
      "Saving data in folder: '06-06 01:37'\n",
      "Done \n",
      "\n"
     ]
    },
    {
     "name": "stderr",
     "output_type": "stream",
     "text": [
      "temperature=0.6124999999999953: 100%|██████████| 161/161 [00:11<00:00, 13.97it/s]\n"
     ]
    },
    {
     "name": "stdout",
     "output_type": "stream",
     "text": [
      "Saving data in folder: '06-06 01:37'\n",
      "Done \n",
      "\n"
     ]
    },
    {
     "name": "stderr",
     "output_type": "stream",
     "text": [
      "temperature=0.6129999999999952: 100%|██████████| 161/161 [00:11<00:00, 13.64it/s]\n"
     ]
    },
    {
     "name": "stdout",
     "output_type": "stream",
     "text": [
      "Saving data in folder: '06-06 01:37'\n",
      "Done \n",
      "\n"
     ]
    },
    {
     "name": "stderr",
     "output_type": "stream",
     "text": [
      "temperature=0.6134999999999952: 100%|██████████| 161/161 [00:11<00:00, 13.57it/s]\n"
     ]
    },
    {
     "name": "stdout",
     "output_type": "stream",
     "text": [
      "Saving data in folder: '06-06 01:37'\n",
      "Done \n",
      "\n"
     ]
    },
    {
     "name": "stderr",
     "output_type": "stream",
     "text": [
      "temperature=0.6139999999999951: 100%|██████████| 161/161 [00:11<00:00, 14.09it/s]\n"
     ]
    },
    {
     "name": "stdout",
     "output_type": "stream",
     "text": [
      "Saving data in folder: '06-06 01:37'\n",
      "Done \n",
      "\n"
     ]
    },
    {
     "name": "stderr",
     "output_type": "stream",
     "text": [
      "temperature=0.614499999999995: 100%|██████████| 161/161 [00:11<00:00, 14.62it/s]\n"
     ]
    },
    {
     "name": "stdout",
     "output_type": "stream",
     "text": [
      "Saving data in folder: '06-06 01:37'\n",
      "Done \n",
      "\n"
     ]
    },
    {
     "name": "stderr",
     "output_type": "stream",
     "text": [
      "temperature=0.614999999999995: 100%|██████████| 161/161 [00:23<00:00,  6.91it/s]\n"
     ]
    },
    {
     "name": "stdout",
     "output_type": "stream",
     "text": [
      "Saving data in folder: '06-06 01:37'\n",
      "Done \n",
      "\n"
     ]
    },
    {
     "name": "stderr",
     "output_type": "stream",
     "text": [
      "temperature=0.6154999999999949: 100%|██████████| 161/161 [00:14<00:00, 11.36it/s]\n"
     ]
    },
    {
     "name": "stdout",
     "output_type": "stream",
     "text": [
      "Saving data in folder: '06-06 01:37'\n",
      "Done \n",
      "\n"
     ]
    },
    {
     "name": "stderr",
     "output_type": "stream",
     "text": [
      "temperature=0.6159999999999949: 100%|██████████| 161/161 [00:14<00:00, 10.92it/s]\n"
     ]
    },
    {
     "name": "stdout",
     "output_type": "stream",
     "text": [
      "Saving data in folder: '06-06 01:37'\n",
      "Done \n",
      "\n"
     ]
    },
    {
     "name": "stderr",
     "output_type": "stream",
     "text": [
      "temperature=0.6164999999999948: 100%|██████████| 161/161 [00:15<00:00, 10.68it/s]\n"
     ]
    },
    {
     "name": "stdout",
     "output_type": "stream",
     "text": [
      "Saving data in folder: '06-06 01:37'\n",
      "Done \n",
      "\n"
     ]
    },
    {
     "name": "stderr",
     "output_type": "stream",
     "text": [
      "temperature=0.6169999999999948: 100%|██████████| 161/161 [00:14<00:00, 11.18it/s]\n"
     ]
    },
    {
     "name": "stdout",
     "output_type": "stream",
     "text": [
      "Saving data in folder: '06-06 01:37'\n",
      "Done \n",
      "\n"
     ]
    },
    {
     "name": "stderr",
     "output_type": "stream",
     "text": [
      "temperature=0.6174999999999947: 100%|██████████| 161/161 [00:12<00:00, 12.98it/s]\n"
     ]
    },
    {
     "name": "stdout",
     "output_type": "stream",
     "text": [
      "Saving data in folder: '06-06 01:37'\n",
      "Done \n",
      "\n"
     ]
    },
    {
     "name": "stderr",
     "output_type": "stream",
     "text": [
      "temperature=0.6179999999999947: 100%|██████████| 161/161 [00:11<00:00, 14.34it/s]\n"
     ]
    },
    {
     "name": "stdout",
     "output_type": "stream",
     "text": [
      "Saving data in folder: '06-06 01:37'\n",
      "Done \n",
      "\n"
     ]
    },
    {
     "name": "stderr",
     "output_type": "stream",
     "text": [
      "temperature=0.6184999999999946: 100%|██████████| 161/161 [00:45<00:00,  3.54it/s]\n"
     ]
    },
    {
     "name": "stdout",
     "output_type": "stream",
     "text": [
      "Saving data in folder: '06-06 01:37'\n",
      "Done \n",
      "\n"
     ]
    },
    {
     "name": "stderr",
     "output_type": "stream",
     "text": [
      "temperature=0.6189999999999946: 100%|██████████| 161/161 [00:16<00:00,  9.60it/s]\n"
     ]
    },
    {
     "name": "stdout",
     "output_type": "stream",
     "text": [
      "Saving data in folder: '06-06 01:37'\n",
      "Done \n",
      "\n"
     ]
    },
    {
     "name": "stderr",
     "output_type": "stream",
     "text": [
      "temperature=0.6194999999999945: 100%|██████████| 161/161 [00:18<00:00,  8.89it/s]\n"
     ]
    },
    {
     "name": "stdout",
     "output_type": "stream",
     "text": [
      "Saving data in folder: '06-06 01:37'\n",
      "Done \n",
      "\n"
     ]
    },
    {
     "name": "stderr",
     "output_type": "stream",
     "text": [
      "temperature=0.6199999999999944: 100%|██████████| 161/161 [00:17<00:00,  9.20it/s]\n"
     ]
    },
    {
     "name": "stdout",
     "output_type": "stream",
     "text": [
      "Saving data in folder: '06-06 01:37'\n",
      "Done \n",
      "\n"
     ]
    },
    {
     "name": "stderr",
     "output_type": "stream",
     "text": [
      "temperature=0.6204999999999944: 100%|██████████| 161/161 [00:16<00:00,  9.90it/s]\n"
     ]
    },
    {
     "name": "stdout",
     "output_type": "stream",
     "text": [
      "Saving data in folder: '06-06 01:37'\n",
      "Done \n",
      "\n"
     ]
    },
    {
     "name": "stderr",
     "output_type": "stream",
     "text": [
      "temperature=0.6209999999999943: 100%|██████████| 161/161 [00:11<00:00, 13.49it/s]\n"
     ]
    },
    {
     "name": "stdout",
     "output_type": "stream",
     "text": [
      "Saving data in folder: '06-06 01:37'\n",
      "Done \n",
      "\n"
     ]
    },
    {
     "name": "stderr",
     "output_type": "stream",
     "text": [
      "temperature=0.6214999999999943: 100%|██████████| 161/161 [00:12<00:00, 12.43it/s]\n"
     ]
    },
    {
     "name": "stdout",
     "output_type": "stream",
     "text": [
      "Saving data in folder: '06-06 01:37'\n",
      "Done \n",
      "\n"
     ]
    },
    {
     "name": "stderr",
     "output_type": "stream",
     "text": [
      "temperature=0.6219999999999942: 100%|██████████| 161/161 [00:24<00:00,  6.64it/s]\n"
     ]
    },
    {
     "name": "stdout",
     "output_type": "stream",
     "text": [
      "Saving data in folder: '06-06 01:37'\n",
      "Done \n",
      "\n"
     ]
    },
    {
     "name": "stderr",
     "output_type": "stream",
     "text": [
      "temperature=0.6224999999999942: 100%|██████████| 161/161 [01:27<00:00,  1.84it/s]\n"
     ]
    },
    {
     "name": "stdout",
     "output_type": "stream",
     "text": [
      "Saving data in folder: '06-06 01:37'\n",
      "Done \n",
      "\n"
     ]
    },
    {
     "name": "stderr",
     "output_type": "stream",
     "text": [
      "temperature=0.6229999999999941: 100%|██████████| 161/161 [00:18<00:00,  8.89it/s]\n"
     ]
    },
    {
     "name": "stdout",
     "output_type": "stream",
     "text": [
      "Saving data in folder: '06-06 01:37'\n",
      "Done \n",
      "\n"
     ]
    },
    {
     "name": "stderr",
     "output_type": "stream",
     "text": [
      "temperature=0.6234999999999941: 100%|██████████| 161/161 [00:18<00:00,  8.64it/s]\n"
     ]
    },
    {
     "name": "stdout",
     "output_type": "stream",
     "text": [
      "Saving data in folder: '06-06 01:37'\n",
      "Done \n",
      "\n"
     ]
    },
    {
     "name": "stderr",
     "output_type": "stream",
     "text": [
      "temperature=0.623999999999994: 100%|██████████| 161/161 [00:15<00:00, 10.70it/s]\n"
     ]
    },
    {
     "name": "stdout",
     "output_type": "stream",
     "text": [
      "Saving data in folder: '06-06 01:37'\n",
      "Done \n",
      "\n"
     ]
    },
    {
     "name": "stderr",
     "output_type": "stream",
     "text": [
      "temperature=0.624499999999994: 100%|██████████| 161/161 [00:11<00:00, 13.93it/s]\n"
     ]
    },
    {
     "name": "stdout",
     "output_type": "stream",
     "text": [
      "Saving data in folder: '06-06 01:37'\n",
      "Done \n",
      "\n"
     ]
    },
    {
     "name": "stderr",
     "output_type": "stream",
     "text": [
      "temperature=0.6249999999999939: 100%|██████████| 161/161 [00:16<00:00,  9.74it/s]\n"
     ]
    },
    {
     "name": "stdout",
     "output_type": "stream",
     "text": [
      "Saving data in folder: '06-06 01:37'\n",
      "Done \n",
      "\n"
     ]
    },
    {
     "name": "stderr",
     "output_type": "stream",
     "text": [
      "temperature=0.6254999999999938: 100%|██████████| 161/161 [02:00<00:00,  1.34it/s]\n"
     ]
    },
    {
     "name": "stdout",
     "output_type": "stream",
     "text": [
      "Saving data in folder: '06-06 01:37'\n",
      "Done \n",
      "\n"
     ]
    },
    {
     "name": "stderr",
     "output_type": "stream",
     "text": [
      "temperature=0.6259999999999938: 100%|██████████| 161/161 [07:40<00:00,  2.86s/it] \n"
     ]
    },
    {
     "name": "stdout",
     "output_type": "stream",
     "text": [
      "Saving data in folder: '06-06 01:37'\n",
      "Done \n",
      "\n"
     ]
    },
    {
     "name": "stderr",
     "output_type": "stream",
     "text": [
      "temperature=0.6264999999999937: 100%|██████████| 161/161 [12:45<00:00,  4.75s/it]   \n"
     ]
    },
    {
     "name": "stdout",
     "output_type": "stream",
     "text": [
      "Saving data in folder: '06-06 01:37'\n",
      "Done \n",
      "\n"
     ]
    },
    {
     "name": "stderr",
     "output_type": "stream",
     "text": [
      "temperature=0.6269999999999937: 100%|██████████| 161/161 [11:07<00:00,  4.14s/it] \n"
     ]
    },
    {
     "name": "stdout",
     "output_type": "stream",
     "text": [
      "Saving data in folder: '06-06 01:37'\n",
      "Done \n",
      "\n"
     ]
    },
    {
     "name": "stderr",
     "output_type": "stream",
     "text": [
      "temperature=0.6274999999999936: 100%|██████████| 161/161 [00:11<00:00, 14.01it/s]\n"
     ]
    },
    {
     "name": "stdout",
     "output_type": "stream",
     "text": [
      "Saving data in folder: '06-06 01:37'\n",
      "Done \n",
      "\n"
     ]
    },
    {
     "name": "stderr",
     "output_type": "stream",
     "text": [
      "temperature=0.6279999999999936: 100%|██████████| 161/161 [00:13<00:00, 12.26it/s]\n"
     ]
    },
    {
     "name": "stdout",
     "output_type": "stream",
     "text": [
      "Saving data in folder: '06-06 01:37'\n",
      "Done \n",
      "\n"
     ]
    },
    {
     "name": "stderr",
     "output_type": "stream",
     "text": [
      "temperature=0.6284999999999935: 100%|██████████| 161/161 [00:40<00:00,  3.96it/s]\n"
     ]
    },
    {
     "name": "stdout",
     "output_type": "stream",
     "text": [
      "Saving data in folder: '06-06 01:37'\n",
      "Done \n",
      "\n"
     ]
    },
    {
     "name": "stderr",
     "output_type": "stream",
     "text": [
      "temperature=0.6289999999999935: 100%|██████████| 161/161 [07:55<00:00,  2.96s/it] \n"
     ]
    },
    {
     "name": "stdout",
     "output_type": "stream",
     "text": [
      "Saving data in folder: '06-06 01:37'\n",
      "Done \n",
      "\n"
     ]
    },
    {
     "name": "stderr",
     "output_type": "stream",
     "text": [
      "temperature=0.6294999999999934: 100%|██████████| 161/161 [25:30<00:00,  9.51s/it]   \n"
     ]
    },
    {
     "name": "stdout",
     "output_type": "stream",
     "text": [
      "Saving data in folder: '06-06 01:37'\n",
      "Done \n",
      "\n"
     ]
    },
    {
     "name": "stderr",
     "output_type": "stream",
     "text": [
      "temperature=0.6299999999999933: 100%|██████████| 161/161 [32:51<00:00, 12.25s/it]   \n"
     ]
    },
    {
     "name": "stdout",
     "output_type": "stream",
     "text": [
      "Saving data in folder: '06-06 01:37'\n",
      "Done \n",
      "\n"
     ]
    },
    {
     "name": "stderr",
     "output_type": "stream",
     "text": [
      "temperature=0.6304999999999933: 100%|██████████| 161/161 [02:51<00:00,  1.07s/it]\n"
     ]
    },
    {
     "name": "stdout",
     "output_type": "stream",
     "text": [
      "Saving data in folder: '06-06 01:37'\n",
      "Done \n",
      "\n"
     ]
    },
    {
     "name": "stderr",
     "output_type": "stream",
     "text": [
      "temperature=0.6309999999999932: 100%|██████████| 161/161 [00:14<00:00, 11.49it/s]\n"
     ]
    },
    {
     "name": "stdout",
     "output_type": "stream",
     "text": [
      "Saving data in folder: '06-06 01:37'\n",
      "Done \n",
      "\n"
     ]
    },
    {
     "name": "stderr",
     "output_type": "stream",
     "text": [
      "temperature=0.6314999999999932: 100%|██████████| 161/161 [54:42<00:00, 20.39s/it]   \n"
     ]
    },
    {
     "name": "stdout",
     "output_type": "stream",
     "text": [
      "Saving data in folder: '06-06 01:37'\n",
      "Done \n",
      "\n"
     ]
    },
    {
     "name": "stderr",
     "output_type": "stream",
     "text": [
      "temperature=0.6319999999999931:  89%|████████▉ | 143/161 [5:35:17<42:12, 140.68s/it]\n"
     ]
    },
    {
     "ename": "KeyboardInterrupt",
     "evalue": "",
     "output_type": "error",
     "traceback": [
      "\u001b[0;31m---------------------------------------------------------------------------\u001b[0m",
      "\u001b[0;31mKeyboardInterrupt\u001b[0m                         Traceback (most recent call last)",
      "Cell \u001b[0;32mIn[88], line 6\u001b[0m\n\u001b[1;32m      4\u001b[0m result \u001b[39m=\u001b[39m Results(varying_param\u001b[39m=\u001b[39m\u001b[39m\"\u001b[39m\u001b[39mtemperature\u001b[39m\u001b[39m\"\u001b[39m, \u001b[39mrange\u001b[39m\u001b[39m=\u001b[39mT_range)\n\u001b[1;32m      5\u001b[0m params \u001b[39m=\u001b[39m ModelParameters(model \u001b[39m=\u001b[39m \u001b[39m\"\u001b[39m\u001b[39mblume\u001b[39m\u001b[39m\"\u001b[39m, var_range\u001b[39m=\u001b[39mdelta_range, tol\u001b[39m=\u001b[39m\u001b[39m1e-9\u001b[39m, max_steps\u001b[39m=\u001b[39m\u001b[39mint\u001b[39m(\u001b[39m10e9\u001b[39m), use_prev\u001b[39m=\u001b[39m\u001b[39mTrue\u001b[39;00m, chi\u001b[39m=\u001b[39m\u001b[39m12\u001b[39m)\n\u001b[0;32m----> 6\u001b[0m result\u001b[39m.\u001b[39;49mget(params, sweeping_param\u001b[39m=\u001b[39;49m\u001b[39m\"\u001b[39;49m\u001b[39mcoupling\u001b[39;49m\u001b[39m\"\u001b[39;49m)\n",
      "File \u001b[0;32m~/Documents/Blume/analysis/blume/../../blume/run.py:81\u001b[0m, in \u001b[0;36mResults.get\u001b[0;34m(self, params, sweeping_param)\u001b[0m\n\u001b[1;32m     79\u001b[0m     \u001b[39mfor\u001b[39;00m val \u001b[39min\u001b[39;00m \u001b[39mself\u001b[39m\u001b[39m.\u001b[39mrange:\n\u001b[1;32m     80\u001b[0m         \u001b[39msetattr\u001b[39m(params, \u001b[39mself\u001b[39m\u001b[39m.\u001b[39mvarying_param, val)\n\u001b[0;32m---> 81\u001b[0m         data \u001b[39m=\u001b[39m \u001b[39mself\u001b[39;49m\u001b[39m.\u001b[39;49msweep_var(params, sweeping_param)\n\u001b[1;32m     82\u001b[0m         \u001b[39mself\u001b[39m\u001b[39m.\u001b[39msave(data, params\u001b[39m.\u001b[39mbar)\n\u001b[1;32m     83\u001b[0m \u001b[39melse\u001b[39;00m:\n",
      "File \u001b[0;32m~/Documents/Blume/analysis/blume/../../blume/run.py:129\u001b[0m, in \u001b[0;36mResults.sweep_var\u001b[0;34m(self, params, sweeping_param)\u001b[0m\n\u001b[1;32m    117\u001b[0m \u001b[39msetattr\u001b[39m(params, sweeping_param, param)\n\u001b[1;32m    118\u001b[0m alg \u001b[39m=\u001b[39m CtmAlg(\n\u001b[1;32m    119\u001b[0m     \u001b[39m1\u001b[39m \u001b[39m/\u001b[39m params\u001b[39m.\u001b[39mtemperature,\n\u001b[1;32m    120\u001b[0m     model\u001b[39m=\u001b[39mparams\u001b[39m.\u001b[39mmodel,\n\u001b[0;32m   (...)\u001b[0m\n\u001b[1;32m    127\u001b[0m     fixed\u001b[39m=\u001b[39mparams\u001b[39m.\u001b[39mfixed,\n\u001b[1;32m    128\u001b[0m )\n\u001b[0;32m--> 129\u001b[0m alg\u001b[39m.\u001b[39;49mexe(params\u001b[39m.\u001b[39;49mtol, params\u001b[39m.\u001b[39;49mcount, params\u001b[39m.\u001b[39;49mmax_steps)\n\u001b[1;32m    131\u001b[0m \u001b[39mif\u001b[39;00m params\u001b[39m.\u001b[39muse_prev:\n\u001b[1;32m    132\u001b[0m     C_init, T_init \u001b[39m=\u001b[39m alg\u001b[39m.\u001b[39mC, alg\u001b[39m.\u001b[39mT\n",
      "File \u001b[0;32m~/Documents/Blume/analysis/blume/../../blume/model/CTM_alg.py:118\u001b[0m, in \u001b[0;36mCtmAlg.exe\u001b[0;34m(self, tol, count, max_steps)\u001b[0m\n\u001b[1;32m    115\u001b[0m U, s \u001b[39m=\u001b[39m \u001b[39mself\u001b[39m\u001b[39m.\u001b[39mnew_U(M, trunc)\n\u001b[1;32m    117\u001b[0m \u001b[39m# Normalize and symmetrize the new corner and edge tensors\u001b[39;00m\n\u001b[0;32m--> 118\u001b[0m \u001b[39mself\u001b[39m\u001b[39m.\u001b[39mC \u001b[39m=\u001b[39m symm(norm(\u001b[39mself\u001b[39;49m\u001b[39m.\u001b[39;49mnew_C(U)))\n\u001b[1;32m    119\u001b[0m \u001b[39mself\u001b[39m\u001b[39m.\u001b[39mT \u001b[39m=\u001b[39m symm(norm(\u001b[39mself\u001b[39m\u001b[39m.\u001b[39mnew_T(U)))\n\u001b[1;32m    121\u001b[0m \u001b[39m# Keep track of edge tensor with fixed spins if given.\u001b[39;00m\n",
      "File \u001b[0;32m~/Documents/Blume/analysis/blume/../../blume/model/CTM_alg.py:148\u001b[0m, in \u001b[0;36mCtmAlg.new_C\u001b[0;34m(self, U)\u001b[0m\n\u001b[1;32m    137\u001b[0m \u001b[39mdef\u001b[39;00m \u001b[39mnew_C\u001b[39m(\u001b[39mself\u001b[39m, U: np\u001b[39m.\u001b[39mndarray) \u001b[39m-\u001b[39m\u001b[39m>\u001b[39m np\u001b[39m.\u001b[39mndarray:\n\u001b[1;32m    138\u001b[0m \u001b[39m    \u001b[39m\u001b[39m\"\"\"\u001b[39;00m\n\u001b[1;32m    139\u001b[0m \u001b[39m    Insert an `a` tensor and evaluate a corner matrix `new_M` by contracting\u001b[39;00m\n\u001b[1;32m    140\u001b[0m \u001b[39m    the new corner. Renormalized the new corner with the given `U` matrix.\u001b[39;00m\n\u001b[0;32m   (...)\u001b[0m\n\u001b[1;32m    144\u001b[0m \u001b[39m    Returns an array of the new corner tensor of shape (chi, chi)\u001b[39;00m\n\u001b[1;32m    145\u001b[0m \u001b[39m    \"\"\"\u001b[39;00m\n\u001b[1;32m    146\u001b[0m     \u001b[39mreturn\u001b[39;00m np\u001b[39m.\u001b[39marray(\n\u001b[1;32m    147\u001b[0m         ncon(\n\u001b[0;32m--> 148\u001b[0m             [U, \u001b[39mself\u001b[39;49m\u001b[39m.\u001b[39;49mnew_M(), U],\n\u001b[1;32m    149\u001b[0m             ([\u001b[39m-\u001b[39m\u001b[39m1\u001b[39m, \u001b[39m2\u001b[39m, \u001b[39m1\u001b[39m], [\u001b[39m1\u001b[39m, \u001b[39m2\u001b[39m, \u001b[39m3\u001b[39m, \u001b[39m4\u001b[39m], [\u001b[39m-\u001b[39m\u001b[39m2\u001b[39m, \u001b[39m4\u001b[39m, \u001b[39m3\u001b[39m]),\n\u001b[1;32m    150\u001b[0m         )\n\u001b[1;32m    151\u001b[0m     )\n",
      "File \u001b[0;32m~/Documents/Blume/analysis/blume/../../blume/model/CTM_alg.py:161\u001b[0m, in \u001b[0;36mCtmAlg.new_M\u001b[0;34m(self)\u001b[0m\n\u001b[1;32m    153\u001b[0m \u001b[39mdef\u001b[39;00m \u001b[39mnew_M\u001b[39m(\u001b[39mself\u001b[39m) \u001b[39m-\u001b[39m\u001b[39m>\u001b[39m np\u001b[39m.\u001b[39mndarray:\n\u001b[1;32m    154\u001b[0m \u001b[39m    \u001b[39m\u001b[39m\"\"\"\u001b[39;00m\n\u001b[1;32m    155\u001b[0m \u001b[39m    evaluate the `M`, i.e. the new contracted corner with the inserted `a`\u001b[39;00m\n\u001b[1;32m    156\u001b[0m \u001b[39m    tensor.\u001b[39;00m\n\u001b[1;32m    157\u001b[0m \n\u001b[1;32m    158\u001b[0m \u001b[39m    Returns a array of the contracted corner of shape (chi, d, chi, d).\u001b[39;00m\n\u001b[1;32m    159\u001b[0m \u001b[39m    \"\"\"\u001b[39;00m\n\u001b[1;32m    160\u001b[0m     \u001b[39mreturn\u001b[39;00m np\u001b[39m.\u001b[39marray(\n\u001b[0;32m--> 161\u001b[0m         ncon(\n\u001b[1;32m    162\u001b[0m             [\u001b[39mself\u001b[39;49m\u001b[39m.\u001b[39;49mC, \u001b[39mself\u001b[39;49m\u001b[39m.\u001b[39;49mT, \u001b[39mself\u001b[39;49m\u001b[39m.\u001b[39;49mT, \u001b[39mself\u001b[39;49m\u001b[39m.\u001b[39;49ma],\n\u001b[1;32m    163\u001b[0m             ([\u001b[39m1\u001b[39;49m, \u001b[39m2\u001b[39;49m], [\u001b[39m-\u001b[39;49m\u001b[39m1\u001b[39;49m, \u001b[39m1\u001b[39;49m, \u001b[39m3\u001b[39;49m], [\u001b[39m2\u001b[39;49m, \u001b[39m-\u001b[39;49m\u001b[39m3\u001b[39;49m, \u001b[39m4\u001b[39;49m], [\u001b[39m-\u001b[39;49m\u001b[39m2\u001b[39;49m, \u001b[39m3\u001b[39;49m, \u001b[39m4\u001b[39;49m, \u001b[39m-\u001b[39;49m\u001b[39m4\u001b[39;49m]),\n\u001b[1;32m    164\u001b[0m         )\n\u001b[1;32m    165\u001b[0m     )\n",
      "File \u001b[0;32m~/Documents/Blume/venv/lib/python3.10/site-packages/ncon/ncon.py:58\u001b[0m, in \u001b[0;36mncon\u001b[0;34m(L, v, order, forder, check_indices)\u001b[0m\n\u001b[1;32m     54\u001b[0m \u001b[39m# If the graph is disconnected, connect it with trivial indices that will\u001b[39;00m\n\u001b[1;32m     55\u001b[0m \u001b[39m# be contracted at the very end.\u001b[39;00m\n\u001b[1;32m     56\u001b[0m connect_graph(L, v, order)\n\u001b[0;32m---> 58\u001b[0m \u001b[39mwhile\u001b[39;00m \u001b[39mlen\u001b[39;49m(order) \u001b[39m>\u001b[39m \u001b[39m0\u001b[39m:\n\u001b[1;32m     59\u001b[0m     tcon \u001b[39m=\u001b[39m get_tcon(v, order[\u001b[39m0\u001b[39m])  \u001b[39m# tcon = tensors to be contracted\u001b[39;00m\n\u001b[1;32m     60\u001b[0m     \u001b[39m# Find the indices icon that are to be contracted.\u001b[39;00m\n",
      "\u001b[0;31mKeyboardInterrupt\u001b[0m: "
     ]
    }
   ],
   "source": [
    "T_range = [T for T in np.arange(0.57, 0.64, 0.0005)]\n",
    "delta_range = [delta for delta in np.arange(1.94, 2.1, 0.001)]\n",
    "delta_range.reverse()\n",
    "result = Results(varying_param=\"temperature\", range=T_range)\n",
    "params = ModelParameters(model = \"blume\", var_range=delta_range, tol=1e-9, max_steps=int(10e9), use_prev=True, chi=12)\n",
    "result.get(params, sweeping_param=\"coupling\")"
   ]
  },
  {
   "cell_type": "code",
   "execution_count": 103,
   "metadata": {},
   "outputs": [
    {
     "data": {
      "image/png": "[encoded data removed]",
      "text/plain": [
       "<Figure size 700x500 with 1 Axes>"
      ]
     },
     "metadata": {},
     "output_type": "display_data"
    }
   ],
   "source": [
    "delta_stars_right = []\n",
    "max_xis = []\n",
    "plt.figure(figsize= (7, 5))\n",
    "for temp in T_range[:-20]:\n",
    "    data = read(\"06-06 01:37\", f\"temperature{temp}\")\n",
    "    xis = compute(Prop.xi, data)\n",
    "    max_xis.append(max(xis))\n",
    "    plt.plot(data[\"couplings\"], xis, label=f\"T = {round(temp,3)}\")\n",
    "    delta_stars_right.append(data[\"couplings\"][xis.index(max(xis))])\n",
    "\n",
    "plt.xlabel(\"$\\Delta$\", fontsize=15)\n",
    "plt.ylabel(r\"$\\xi$\", fontsize=15)\n",
    "#plt.legend()\n",
    "plt.show()"
   ]
  },
  {
   "cell_type": "code",
   "execution_count": 132,
   "metadata": {},
   "outputs": [
    {
     "data": {
      "image/png": "[encoded data removed]",
      "text/plain": [
       "<Figure size 700x500 with 1 Axes>"
      ]
     },
     "metadata": {},
     "output_type": "display_data"
    }
   ],
   "source": [
    "plt.figure(figsize= (7, 5))\n",
    "T_range = [T for T in np.arange(0.57, 0.63, 0.0005)][::10]\n",
    "\n",
    "for temp in T_range:\n",
    "    data = read(\"06-06 01:11\", f\"temperature{temp}\")\n",
    "    energies = compute(Prop.f, data)\n",
    "    plt.plot(data[\"couplings\"], energies, label=f\"T = {round(temp,3)}\")\n",
    "\n",
    "plt.xlabel(\"$\\Delta$\", fontsize=15)\n",
    "plt.ylabel(r\"$f$\", fontsize=15)\n",
    "#plt.legend()\n",
    "plt.title(\"Approach from left\")\n",
    "plt.xlim(1.96, 1.98)\n",
    "plt.show()"
   ]
  },
  {
   "cell_type": "code",
   "execution_count": 136,
   "metadata": {},
   "outputs": [
    {
     "data": {
      "image/png": "[encoded data removed]",
      "text/plain": [
       "<Figure size 700x500 with 1 Axes>"
      ]
     },
     "metadata": {},
     "output_type": "display_data"
    }
   ],
   "source": [
    "delta_stars = []\n",
    "max_xis = []\n",
    "T_range = [T for T in np.arange(0.57, 0.63, 0.0005)][::10]\n",
    "plt.figure(figsize= (7, 5))\n",
    "for temp in T_range:\n",
    "    data_inv = read(\"06-06 01:37\", f\"temperature{temp}\")\n",
    "    energies_inv = compute(Prop.f, data_inv)\n",
    "    plt.plot(data[\"couplings\"][::-1], energies_inv, label=f\"T = {round(temp,3)}\")\n",
    "\n",
    "plt.xlabel(\"$\\Delta$\", fontsize=15)\n",
    "plt.ylabel(r\"$f$\", fontsize=15)\n",
    "plt.title(\"Approach from right\")\n",
    "#plt.legend()\n",
    "plt.show()"
   ]
  },
  {
   "cell_type": "code",
   "execution_count": 144,
   "metadata": {},
   "outputs": [
    {
     "data": {
      "image/png": "[encoded data removed]",
      "text/plain": [
       "<Figure size 700x500 with 1 Axes>"
      ]
     },
     "metadata": {},
     "output_type": "display_data"
    }
   ],
   "source": [
    "T_range = [T for T in np.arange(0.57, 0.63, 0.0005)][::10]\n",
    "colors = [\"r\", \"g\", \"b\", \"k\", \"y\"]\n",
    "plt.figure(figsize=(7,5))\n",
    "for idx, temp in enumerate(T_range[:-1]):\n",
    "    data_inv = read(\"06-06 01:37\", f\"temperature{temp}\")\n",
    "    data = read(\"06-06 01:11\", f\"temperature{temp}\")\n",
    "    energies = compute(Prop.f, data)\n",
    "    energies_inv = compute(Prop.f, data_inv)\n",
    "    plt.plot(data[\"couplings\"], energies, label=f\"T = {round(temp,3)}\", color = colors[idx % 5])\n",
    "    plt.plot(data_inv[\"couplings\"], energies_inv, color = colors[idx % 5])\n",
    "\n",
    "plt.ylim(-0.08, -0.045)\n",
    "plt.xlim(1.965, 1.9775)\n",
    "plt.xlabel(\"$\\Delta$\", fontsize = 15)\n",
    "plt.ylabel(\"$f$\", fontsize =15)\n",
    "plt.show()"
   ]
  },
  {
   "cell_type": "code",
   "execution_count": 148,
   "metadata": {},
   "outputs": [
    {
     "data": {
      "image/png": "[encoded data removed]",
      "text/plain": [
       "<Figure size 700x500 with 1 Axes>"
      ]
     },
     "metadata": {},
     "output_type": "display_data"
    }
   ],
   "source": [
    "plt.figure(figsize= (7,5))\n",
    "plt.plot(T_range, dists)\n",
    "plt.show() "
   ]
  },
  {
   "cell_type": "code",
   "execution_count": 65,
   "metadata": {},
   "outputs": [
    {
     "data": {
      "image/png": "[encoded data removed]",
      "text/plain": [
       "<Figure size 700x500 with 1 Axes>"
      ]
     },
     "metadata": {},
     "output_type": "display_data"
    }
   ],
   "source": [
    "plt.figure(figsize=(7, 5))\n",
    "diffs = [abs(d1 - d2) for d1, d2 in zip(delta_stars_right, delta_stars_left)] \n",
    "plt.plot(T_range, diffs)\n",
    "plt.ylabel(\"$|\\Delta^*_r - \\Delta^*_l|$\", fontsize=15)\n",
    "plt.xlabel(\"$T$\", fontsize=15)\n",
    "plt.show()"
   ]
  },
  {
   "cell_type": "code",
   "execution_count": 125,
   "metadata": {},
   "outputs": [],
   "source": [
    "dists = []\n",
    "for idx, temp in enumerate(T_range[:-20]):\n",
    "    data_inv = read(\"06-06 01:37\", f\"temperature{temp}\")\n",
    "    data = read(\"06-06 01:11\", f\"temperature{temp}\")\n",
    "    corrs = compute(Prop.xi, data)\n",
    "    max_idx = corrs.index(max(corrs))\n",
    "    energies = compute(Prop.f, data)\n",
    "    energies_inv = compute(Prop.f, data_inv)\n",
    "    angle = (energies[max_idx+1] - energies_inv[max_idx+1]) / 0.0005\n",
    "\n",
    "\n",
    "    squares = [(p-q)**2 for p, q in zip(energies, energies_inv)]\n",
    "    dists.append(sum(squares)**0.5)"
   ]
  },
  {
   "cell_type": "code",
   "execution_count": 126,
   "metadata": {},
   "outputs": [
    {
     "data": {
      "image/png": "[encoded data removed]",
      "text/plain": [
       "<Figure size 700x500 with 1 Axes>"
      ]
     },
     "metadata": {},
     "output_type": "display_data"
    }
   ],
   "source": [
    "plt.figure(figsize=(7, 5))\n",
    "diffs = abs(np.diff(dists))\n",
    "plt.plot(T_range[:-20], dists)\n",
    "plt.ylabel(\"consecutive distance\", fontsize=15)\n",
    "plt.xlabel(\"$T$\", fontsize=15)\n",
    "plt.show()"
   ]
  },
  {
   "cell_type": "code",
   "execution_count": 111,
   "metadata": {},
   "outputs": [
    {
     "name": "stdout",
     "output_type": "stream",
     "text": [
      "T_t = 0.6194999999999945\n"
     ]
    }
   ],
   "source": [
    "print(f\"T_t = {T_range[list(diffs).index(min(diffs))]}\")"
   ]
  },
  {
   "cell_type": "code",
   "execution_count": 59,
   "metadata": {},
   "outputs": [
    {
     "name": "stderr",
     "output_type": "stream",
     "text": [
      "chi=4: 100%|██████████| 221/221 [00:54<00:00,  4.08it/s]\n"
     ]
    },
    {
     "name": "stdout",
     "output_type": "stream",
     "text": [
      "Saving data in folder: '02-06 12:20'\n",
      "Done \n",
      "\n"
     ]
    },
    {
     "name": "stderr",
     "output_type": "stream",
     "text": [
      "chi=8: 100%|██████████| 221/221 [00:46<00:00,  4.80it/s]\n"
     ]
    },
    {
     "name": "stdout",
     "output_type": "stream",
     "text": [
      "Saving data in folder: '02-06 12:20'\n",
      "Done \n",
      "\n"
     ]
    },
    {
     "name": "stderr",
     "output_type": "stream",
     "text": [
      "chi=12: 100%|██████████| 221/221 [00:57<00:00,  3.84it/s]\n"
     ]
    },
    {
     "name": "stdout",
     "output_type": "stream",
     "text": [
      "Saving data in folder: '02-06 12:20'\n",
      "Done \n",
      "\n"
     ]
    },
    {
     "name": "stderr",
     "output_type": "stream",
     "text": [
      "chi=18: 100%|██████████| 221/221 [00:57<00:00,  3.82it/s]\n"
     ]
    },
    {
     "name": "stdout",
     "output_type": "stream",
     "text": [
      "Saving data in folder: '02-06 12:20'\n",
      "Done \n",
      "\n"
     ]
    },
    {
     "name": "stderr",
     "output_type": "stream",
     "text": [
      "chi=24: 100%|██████████| 221/221 [02:22<00:00,  1.55it/s]\n"
     ]
    },
    {
     "name": "stdout",
     "output_type": "stream",
     "text": [
      "Saving data in folder: '02-06 12:20'\n",
      "Done \n",
      "\n"
     ]
    },
    {
     "name": "stderr",
     "output_type": "stream",
     "text": [
      "chi=32: 100%|██████████| 221/221 [04:17<00:00,  1.16s/it]\n"
     ]
    },
    {
     "name": "stdout",
     "output_type": "stream",
     "text": [
      "Saving data in folder: '02-06 12:20'\n",
      "Done \n",
      "\n"
     ]
    }
   ],
   "source": [
    "chis = [4, 8, 12, 18, 24, 32]\n",
    "result = Results(varying_param=\"chi\", range=chis)\n",
    "params = ModelParameters(model = \"blume\", var_range=(1.964, 1.975), step=0.00005, tol=1e-10, max_steps=int(10e9), use_prev=True, temperature=0.605)\n",
    "result.get(params, sweeping_param=\"coupling\")"
   ]
  },
  {
   "cell_type": "code",
   "execution_count": 116,
   "metadata": {},
   "outputs": [
    {
     "data": {
      "image/png": "[encoded data removed]",
      "text/plain": [
       "<Figure size 700x500 with 1 Axes>"
      ]
     },
     "metadata": {},
     "output_type": "display_data"
    }
   ],
   "source": [
    "chis = [4, 8, 12, 18, 24, 32]\n",
    "delta_stars_crit = []\n",
    "delta_stars = []\n",
    "plt.figure(figsize=(7, 5))\n",
    "for chi in chis:\n",
    "    data_crit = read(\"02-06 11:09\", f\"chi{chi}\")\n",
    "    data = read(\"02-06 12:20\", f\"chi{chi}\")\n",
    "    corrs_crit = compute(Prop.xi, data_crit)\n",
    "    corrs = compute(Prop.xi, data)\n",
    "\n",
    "    delta_stars_crit.append(data_crit[\"couplings\"][corrs_crit.index(max(corrs_crit))])\n",
    "    delta_stars.append(data[\"couplings\"][corrs.index(max(corrs))])\n",
    "    plt.plot(data[\"couplings\"], corrs, label=f\"$\\chi = {chi}$\")\n",
    "\n",
    "plt.legend()\n",
    "plt.xlim(1.964, 1.968)\n",
    "plt.xlabel(r\"$\\Delta$\", fontsize = 15)\n",
    "plt.ylabel(r\"$\\xi$\", fontsize = 15)\n",
    "plt.show()"
   ]
  },
  {
   "cell_type": "code",
   "execution_count": 17,
   "metadata": {},
   "outputs": [
    {
     "name": "stdout",
     "output_type": "stream",
     "text": [
      "delta_t = 1.96570(5)\n"
     ]
    }
   ],
   "source": [
    "print(f\"delta_t = {round(delta_stars_crit[-1], 6)}0(5)\")"
   ]
  }
 ],
 "metadata": {
  "kernelspec": {
   "display_name": "venv",
   "language": "python",
   "name": "python3"
  },
  "language_info": {
   "codemirror_mode": {
    "name": "ipython",
    "version": 3
   },
   "file_extension": ".py",
   "mimetype": "text/x-python",
   "name": "python",
   "nbconvert_exporter": "python",
   "pygments_lexer": "ipython3",
   "version": "3.10.6"
  },
  "orig_nbformat": 4
 },
 "nbformat": 4,
 "nbformat_minor": 2
}
