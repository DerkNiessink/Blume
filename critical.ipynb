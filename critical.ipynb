{
 "cells": [
  {
   "cell_type": "code",
   "execution_count": 4,
   "metadata": {},
   "outputs": [],
   "source": [
    "import scienceplots\n",
    "import matplotlib.pyplot as plt\n",
    "import numpy as np\n",
    "from lmfit import Model\n",
    "\n",
    "from blume.process import read, compute\n",
    "from blume.run import new_folder, save, sweep_T\n",
    "from blume.model.post_props import Prop\n",
    "\n",
    "plt.style.use(\"science\")\n",
    "plt.rcParams[\"text.usetex\"] = True"
   ]
  },
  {
   "cell_type": "code",
   "execution_count": 20,
   "metadata": {},
   "outputs": [
    {
     "name": "stderr",
     "output_type": "stream",
     "text": [
      "chi = 1: 100%|██████████| 10/10 [00:00<00:00, 574.32it/s]\n"
     ]
    },
    {
     "name": "stdout",
     "output_type": "stream",
     "text": [
      "Saving data in folder: '24-04 16:18'\n",
      "Done \n",
      "\n"
     ]
    },
    {
     "name": "stderr",
     "output_type": "stream",
     "text": [
      "chi = 2: 100%|██████████| 10/10 [00:01<00:00,  7.77it/s]\n"
     ]
    },
    {
     "name": "stdout",
     "output_type": "stream",
     "text": [
      "Saving data in folder: '24-04 16:18'\n",
      "Done \n",
      "\n"
     ]
    },
    {
     "name": "stderr",
     "output_type": "stream",
     "text": [
      "chi = 3: 100%|██████████| 10/10 [00:01<00:00,  5.11it/s]\n"
     ]
    },
    {
     "name": "stdout",
     "output_type": "stream",
     "text": [
      "Saving data in folder: '24-04 16:18'\n",
      "Done \n",
      "\n"
     ]
    },
    {
     "name": "stderr",
     "output_type": "stream",
     "text": [
      "chi = 4: 100%|██████████| 10/10 [00:05<00:00,  1.84it/s]\n"
     ]
    },
    {
     "name": "stdout",
     "output_type": "stream",
     "text": [
      "Saving data in folder: '24-04 16:18'\n",
      "Done \n",
      "\n"
     ]
    },
    {
     "name": "stderr",
     "output_type": "stream",
     "text": [
      "chi = 5: 100%|██████████| 10/10 [00:08<00:00,  1.24it/s]\n"
     ]
    },
    {
     "name": "stdout",
     "output_type": "stream",
     "text": [
      "Saving data in folder: '24-04 16:18'\n",
      "Done \n",
      "\n"
     ]
    },
    {
     "name": "stderr",
     "output_type": "stream",
     "text": [
      "chi = 6: 100%|██████████| 10/10 [00:13<00:00,  1.32s/it]\n"
     ]
    },
    {
     "name": "stdout",
     "output_type": "stream",
     "text": [
      "Saving data in folder: '24-04 16:18'\n",
      "Done \n",
      "\n"
     ]
    },
    {
     "name": "stderr",
     "output_type": "stream",
     "text": [
      "chi = 7: 100%|██████████| 10/10 [00:18<00:00,  1.90s/it]\n"
     ]
    },
    {
     "name": "stdout",
     "output_type": "stream",
     "text": [
      "Saving data in folder: '24-04 16:18'\n",
      "Done \n",
      "\n"
     ]
    },
    {
     "name": "stderr",
     "output_type": "stream",
     "text": [
      "chi = 8: 100%|██████████| 10/10 [00:23<00:00,  2.33s/it]\n"
     ]
    },
    {
     "name": "stdout",
     "output_type": "stream",
     "text": [
      "Saving data in folder: '24-04 16:18'\n",
      "Done \n",
      "\n"
     ]
    },
    {
     "name": "stderr",
     "output_type": "stream",
     "text": [
      "chi = 9: 100%|██████████| 10/10 [00:29<00:00,  2.94s/it]\n"
     ]
    },
    {
     "name": "stdout",
     "output_type": "stream",
     "text": [
      "Saving data in folder: '24-04 16:18'\n",
      "Done \n",
      "\n"
     ]
    },
    {
     "name": "stderr",
     "output_type": "stream",
     "text": [
      "chi = 10: 100%|██████████| 10/10 [00:51<00:00,  5.12s/it]\n"
     ]
    },
    {
     "name": "stdout",
     "output_type": "stream",
     "text": [
      "Saving data in folder: '24-04 16:18'\n",
      "Done \n",
      "\n"
     ]
    },
    {
     "name": "stderr",
     "output_type": "stream",
     "text": [
      "chi = 11: 100%|██████████| 10/10 [01:04<00:00,  6.43s/it]\n"
     ]
    },
    {
     "name": "stdout",
     "output_type": "stream",
     "text": [
      "Saving data in folder: '24-04 16:18'\n",
      "Done \n",
      "\n"
     ]
    },
    {
     "name": "stderr",
     "output_type": "stream",
     "text": [
      "chi = 12: 100%|██████████| 10/10 [01:06<00:00,  6.68s/it]\n"
     ]
    },
    {
     "name": "stdout",
     "output_type": "stream",
     "text": [
      "Saving data in folder: '24-04 16:18'\n",
      "Done \n",
      "\n"
     ]
    },
    {
     "name": "stderr",
     "output_type": "stream",
     "text": [
      "chi = 13: 100%|██████████| 10/10 [01:21<00:00,  8.19s/it]\n"
     ]
    },
    {
     "name": "stdout",
     "output_type": "stream",
     "text": [
      "Saving data in folder: '24-04 16:18'\n",
      "Done \n",
      "\n"
     ]
    },
    {
     "name": "stderr",
     "output_type": "stream",
     "text": [
      "chi = 14: 100%|██████████| 10/10 [01:31<00:00,  9.14s/it]"
     ]
    },
    {
     "name": "stdout",
     "output_type": "stream",
     "text": [
      "Saving data in folder: '24-04 16:18'\n",
      "Done \n",
      "\n"
     ]
    },
    {
     "name": "stderr",
     "output_type": "stream",
     "text": [
      "\n"
     ]
    }
   ],
   "source": [
    "chi_range = range(1, 15)\n",
    "dir = new_folder()\n",
    "\n",
    "T_c = 2 / np.log(1 + np.sqrt(2))\n",
    "T_range = [T_c for _ in range(10)]\n",
    "for chi in chi_range:\n",
    "    data = sweep_T(\n",
    "        chi=chi,\n",
    "        T_range=T_range,\n",
    "        tol=1e-9,\n",
    "        max_steps=int(10e8),\n",
    "        use_prev=False,\n",
    "    )\n",
    "    save(data, dir)"
   ]
  },
  {
   "attachments": {},
   "cell_type": "markdown",
   "metadata": {},
   "source": [
    "## Finite $\\chi$ critical exponents"
   ]
  },
  {
   "cell_type": "code",
   "execution_count": 7,
   "metadata": {},
   "outputs": [],
   "source": [
    "mean_mags, mean_xis, errors = [], [], []\n",
    "dir = \"24-04 16:18\"\n",
    "for chi in range(2, 15):\n",
    "    data = read(folder=dir, val=chi)\n",
    "    mags = compute(Prop.m, data)\n",
    "    corrs = compute(Prop.xi, data)\n",
    "\n",
    "    mean_xis.append(np.mean(corrs))\n",
    "    mean_mags.append(np.mean(mags))\n",
    "    errors.append(np.std(mags))"
   ]
  },
  {
   "cell_type": "code",
   "execution_count": 8,
   "metadata": {},
   "outputs": [
    {
     "data": {
      "image/png": "[encoded data removed]",
      "text/plain": [
       "<Figure size 700x500 with 1 Axes>"
      ]
     },
     "metadata": {},
     "output_type": "display_data"
    }
   ],
   "source": [
    "plt.figure(figsize=(7, 5))\n",
    "plt.errorbar(mean_xis, mean_mags, yerr = errors, fmt = \"x\", markersize=5)\n",
    "plt.xlabel(r\"$\\xi_{\\chi}$\", fontsize=15)\n",
    "plt.ylabel(\"$m$\", fontsize=15)\n",
    "plt.savefig(f\"data/{dir}/critical\")"
   ]
  },
  {
   "cell_type": "code",
   "execution_count": 71,
   "metadata": {},
   "outputs": [
    {
     "name": "stdout",
     "output_type": "stream",
     "text": [
      "[[Model]]\n",
      "    Model(<lambda>)\n",
      "[[Fit Statistics]]\n",
      "    # fitting method   = leastsq\n",
      "    # function evals   = 6494\n",
      "    # data points      = 13\n",
      "    # variables        = 3\n",
      "    chi-square         = 5.2059e-04\n",
      "    reduced chi-square = 5.2059e-05\n",
      "    Akaike info crit   = -125.631513\n",
      "    Bayesian info crit = -123.936664\n",
      "    R-squared          = 0.99363036\n",
      "[[Variables]]\n",
      "    a:  3.4213e-06 +/- 0.02214507 (647262.52%) (init = 0.5)\n",
      "    b:  18794.2607 +/- 1.2164e+08 (647244.04%) (init = 0.5)\n",
      "    c: -18793.5308 +/- 1.2164e+08 (647269.18%) (init = 0.5)\n",
      "[[Correlations]] (unreported correlations are < 0.100)\n",
      "    C(b, c) = -1.0000\n",
      "    C(a, c) = +1.0000\n",
      "    C(a, b) = -1.0000\n"
     ]
    },
    {
     "data": {
      "image/png": "[encoded data removed]",
      "text/plain": [
       "<Figure size 700x500 with 1 Axes>"
      ]
     },
     "metadata": {},
     "output_type": "display_data"
    }
   ],
   "source": [
    "model = Model(lambda x, a, b, c: c*x**(-a)+b)\n",
    "\n",
    "x, y = mean_xis, mean_mags\n",
    "\n",
    "params = model.make_params(a=0.5, b=0.5, c=0.5)\n",
    "result = model.fit(y, params, x=x)\n",
    "\n",
    "print(result.fit_report())\n",
    "\n",
    "plt.figure(figsize= (7, 5))\n",
    "plt.plot(x, y, 'x')\n",
    "plt.plot(x, result.best_fit, '-', label='best fit')\n",
    "plt.xlabel(r\"$\\log(\\xi_{\\chi})$\", fontsize=15)\n",
    "plt.ylabel(\"$\\log(m)$\", fontsize=15)\n",
    "plt.legend()\n",
    "plt.show()"
   ]
  },
  {
   "cell_type": "code",
   "execution_count": 72,
   "metadata": {},
   "outputs": [
    {
     "name": "stdout",
     "output_type": "stream",
     "text": [
      "Obtained crit. exp.: 3.42134256727821e-06 +/- 0.022145068124487858\n",
      "exact crit. exp.: 0.125\n"
     ]
    }
   ],
   "source": [
    "print(f\"Obtained crit. exp.: {result.params['a'].value} +/- {result.params['a'].stderr}\")\n",
    "print(f\"exact crit. exp.: {1/8}\")"
   ]
  },
  {
   "attachments": {},
   "cell_type": "markdown",
   "metadata": {},
   "source": [
    "# Log transformation"
   ]
  },
  {
   "cell_type": "code",
   "execution_count": 61,
   "metadata": {},
   "outputs": [],
   "source": [
    "log_xis = [np.log(xi) for xi in mean_xis]\n",
    "log_mags = [np.log(m) for m in mean_mags]\n",
    "log_errors = [m / err for (err, m) in zip(errors, mean_mags)]"
   ]
  },
  {
   "cell_type": "code",
   "execution_count": 62,
   "metadata": {},
   "outputs": [
    {
     "name": "stdout",
     "output_type": "stream",
     "text": [
      "[[Model]]\n",
      "    Model(<lambda>)\n",
      "[[Fit Statistics]]\n",
      "    # fitting method   = leastsq\n",
      "    # function evals   = 7\n",
      "    # data points      = 13\n",
      "    # variables        = 2\n",
      "    chi-square         = 7.3609e-04\n",
      "    reduced chi-square = 6.6917e-05\n",
      "    Akaike info crit   = -123.128421\n",
      "    Bayesian info crit = -121.998523\n",
      "    R-squared          = 0.99753276\n",
      "[[Variables]]\n",
      "    a:  0.12309250 +/- 0.00184577 (1.50%) (init = 0.5)\n",
      "    b: -0.26536920 +/- 0.00711069 (2.68%) (init = 0.5)\n",
      "[[Correlations]] (unreported correlations are < 0.100)\n",
      "    C(a, b) = +0.9477\n"
     ]
    },
    {
     "data": {
      "image/png": "[encoded data removed]",
      "text/plain": [
       "<Figure size 700x500 with 1 Axes>"
      ]
     },
     "metadata": {},
     "output_type": "display_data"
    }
   ],
   "source": [
    "model = Model(lambda x, a, b: -a*x+b)\n",
    "\n",
    "x, y = log_xis, log_mags\n",
    "\n",
    "params = model.make_params(a=0.5, b=0.5)\n",
    "result = model.fit(y, params, x=x)\n",
    "\n",
    "print(result.fit_report())\n",
    "\n",
    "plt.figure(figsize= (7, 5))\n",
    "plt.plot(x, y, 'x')\n",
    "plt.plot(x, result.best_fit, '-', label='best fit')\n",
    "plt.xlabel(r\"$\\log(\\xi_{\\chi})$\", fontsize=15)\n",
    "plt.ylabel(\"$\\log(m)$\", fontsize=15)\n",
    "plt.legend()\n",
    "plt.show()"
   ]
  },
  {
   "cell_type": "code",
   "execution_count": 63,
   "metadata": {},
   "outputs": [
    {
     "name": "stdout",
     "output_type": "stream",
     "text": [
      "Obtained crit. exp.: 0.12309249957681986 +/- 0.0018457678294802563\n",
      "exact crit. exp.: 0.125\n"
     ]
    }
   ],
   "source": [
    "print(f\"Obtained crit. exp.: {result.params['a'].value} +/- {result.params['a'].stderr}\")\n",
    "print(f\"exact crit. exp.: {1/8}\")"
   ]
  },
  {
   "cell_type": "code",
   "execution_count": null,
   "metadata": {},
   "outputs": [],
   "source": []
  }
 ],
 "metadata": {
  "kernelspec": {
   "display_name": "venv",
   "language": "python",
   "name": "python3"
  },
  "language_info": {
   "codemirror_mode": {
    "name": "ipython",
    "version": 3
   },
   "file_extension": ".py",
   "mimetype": "text/x-python",
   "name": "python",
   "nbconvert_exporter": "python",
   "pygments_lexer": "ipython3",
   "version": "3.10.6"
  },
  "orig_nbformat": 4
 },
 "nbformat": 4,
 "nbformat_minor": 2
}
