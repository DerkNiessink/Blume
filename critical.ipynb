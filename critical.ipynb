{
 "cells": [
  {
   "cell_type": "code",
   "execution_count": 1,
   "metadata": {},
   "outputs": [],
   "source": [
    "import scienceplots\n",
    "import matplotlib.pyplot as plt\n",
    "import numpy as np\n",
    "\n",
    "from blume.process import read, compute\n",
    "from blume.run import new_folder, save, sweep_T\n",
    "from blume.model.post_props import Props\n",
    "\n",
    "plt.style.use(\"science\")\n",
    "plt.rcParams[\"text.usetex\"] = True"
   ]
  },
  {
   "cell_type": "code",
   "execution_count": 2,
   "metadata": {},
   "outputs": [],
   "source": [
    "chi_range = range(2, 20)\n",
    "dir = new_folder()\n",
    "\n",
    "T_c = 2 / np.log(1 + np.sqrt(2))\n",
    "for chi in chi_range:\n",
    "    data = sweep_T(\n",
    "        chi=chi,\n",
    "        T_range=(T_c, T_c + 0.01),\n",
    "        step=0.01,\n",
    "        tol=1e-9,\n",
    "        max_steps=int(10e8),\n",
    "        use_prev=False,\n",
    "        bar=False,\n",
    "    )\n",
    "    save(data, dir, msg=False)"
   ]
  },
  {
   "cell_type": "code",
   "execution_count": 3,
   "metadata": {},
   "outputs": [],
   "source": [
    "mags, chis = [], []\n",
    "for chi in chi_range:\n",
    "    data = read(folder=dir, val=chi)\n",
    "    m = compute(Props.m, data)[0]\n",
    "    mags.append(m)\n",
    "    chis.append(chi)"
   ]
  },
  {
   "cell_type": "code",
   "execution_count": 4,
   "metadata": {},
   "outputs": [
    {
     "data": {
      "image/png": "[encoded data removed]",
      "text/plain": [
       "<Figure size 700x500 with 1 Axes>"
      ]
     },
     "metadata": {},
     "output_type": "display_data"
    }
   ],
   "source": [
    "plt.figure(figsize=(7, 5))\n",
    "plt.plot(chis, mags, \"x\")\n",
    "plt.xlabel(\"$\\chi$\", fontsize=15)\n",
    "plt.ylabel(\"$m$\", fontsize=15)\n",
    "plt.savefig(f\"data/{dir}/critical\")"
   ]
  }
 ],
 "metadata": {
  "kernelspec": {
   "display_name": "venv",
   "language": "python",
   "name": "python3"
  },
  "language_info": {
   "codemirror_mode": {
    "name": "ipython",
    "version": 3
   },
   "file_extension": ".py",
   "mimetype": "text/x-python",
   "name": "python",
   "nbconvert_exporter": "python",
   "pygments_lexer": "ipython3",
   "version": "3.10.6"
  },
  "orig_nbformat": 4
 },
 "nbformat": 4,
 "nbformat_minor": 2
}
