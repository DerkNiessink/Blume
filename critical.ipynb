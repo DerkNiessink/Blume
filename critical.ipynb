{
 "cells": [
  {
   "cell_type": "code",
   "execution_count": 18,
   "metadata": {},
   "outputs": [],
   "source": [
    "import scienceplots\n",
    "import matplotlib.pyplot as plt\n",
    "import numpy as np\n",
    "from lmfit import Model\n",
    "\n",
    "from blume.process import read, compute\n",
    "from blume.run import new_folder, save, sweep_T\n",
    "from blume.model.post_props import Prop\n",
    "\n",
    "plt.style.use(\"science\")\n",
    "plt.rcParams[\"text.usetex\"] = True"
   ]
  },
  {
   "cell_type": "code",
   "execution_count": 20,
   "metadata": {},
   "outputs": [
    {
     "name": "stderr",
     "output_type": "stream",
     "text": [
      "chi = 1: 100%|██████████| 10/10 [00:00<00:00, 574.32it/s]\n"
     ]
    },
    {
     "name": "stdout",
     "output_type": "stream",
     "text": [
      "Saving data in folder: '24-04 16:18'\n",
      "Done \n",
      "\n"
     ]
    },
    {
     "name": "stderr",
     "output_type": "stream",
     "text": [
      "chi = 2: 100%|██████████| 10/10 [00:01<00:00,  7.77it/s]\n"
     ]
    },
    {
     "name": "stdout",
     "output_type": "stream",
     "text": [
      "Saving data in folder: '24-04 16:18'\n",
      "Done \n",
      "\n"
     ]
    },
    {
     "name": "stderr",
     "output_type": "stream",
     "text": [
      "chi = 3: 100%|██████████| 10/10 [00:01<00:00,  5.11it/s]\n"
     ]
    },
    {
     "name": "stdout",
     "output_type": "stream",
     "text": [
      "Saving data in folder: '24-04 16:18'\n",
      "Done \n",
      "\n"
     ]
    },
    {
     "name": "stderr",
     "output_type": "stream",
     "text": [
      "chi = 4: 100%|██████████| 10/10 [00:05<00:00,  1.84it/s]\n"
     ]
    },
    {
     "name": "stdout",
     "output_type": "stream",
     "text": [
      "Saving data in folder: '24-04 16:18'\n",
      "Done \n",
      "\n"
     ]
    },
    {
     "name": "stderr",
     "output_type": "stream",
     "text": [
      "chi = 5: 100%|██████████| 10/10 [00:08<00:00,  1.24it/s]\n"
     ]
    },
    {
     "name": "stdout",
     "output_type": "stream",
     "text": [
      "Saving data in folder: '24-04 16:18'\n",
      "Done \n",
      "\n"
     ]
    },
    {
     "name": "stderr",
     "output_type": "stream",
     "text": [
      "chi = 6: 100%|██████████| 10/10 [00:13<00:00,  1.32s/it]\n"
     ]
    },
    {
     "name": "stdout",
     "output_type": "stream",
     "text": [
      "Saving data in folder: '24-04 16:18'\n",
      "Done \n",
      "\n"
     ]
    },
    {
     "name": "stderr",
     "output_type": "stream",
     "text": [
      "chi = 7: 100%|██████████| 10/10 [00:18<00:00,  1.90s/it]\n"
     ]
    },
    {
     "name": "stdout",
     "output_type": "stream",
     "text": [
      "Saving data in folder: '24-04 16:18'\n",
      "Done \n",
      "\n"
     ]
    },
    {
     "name": "stderr",
     "output_type": "stream",
     "text": [
      "chi = 8: 100%|██████████| 10/10 [00:23<00:00,  2.33s/it]\n"
     ]
    },
    {
     "name": "stdout",
     "output_type": "stream",
     "text": [
      "Saving data in folder: '24-04 16:18'\n",
      "Done \n",
      "\n"
     ]
    },
    {
     "name": "stderr",
     "output_type": "stream",
     "text": [
      "chi = 9: 100%|██████████| 10/10 [00:29<00:00,  2.94s/it]\n"
     ]
    },
    {
     "name": "stdout",
     "output_type": "stream",
     "text": [
      "Saving data in folder: '24-04 16:18'\n",
      "Done \n",
      "\n"
     ]
    },
    {
     "name": "stderr",
     "output_type": "stream",
     "text": [
      "chi = 10: 100%|██████████| 10/10 [00:51<00:00,  5.12s/it]\n"
     ]
    },
    {
     "name": "stdout",
     "output_type": "stream",
     "text": [
      "Saving data in folder: '24-04 16:18'\n",
      "Done \n",
      "\n"
     ]
    },
    {
     "name": "stderr",
     "output_type": "stream",
     "text": [
      "chi = 11: 100%|██████████| 10/10 [01:04<00:00,  6.43s/it]\n"
     ]
    },
    {
     "name": "stdout",
     "output_type": "stream",
     "text": [
      "Saving data in folder: '24-04 16:18'\n",
      "Done \n",
      "\n"
     ]
    },
    {
     "name": "stderr",
     "output_type": "stream",
     "text": [
      "chi = 12: 100%|██████████| 10/10 [01:06<00:00,  6.68s/it]\n"
     ]
    },
    {
     "name": "stdout",
     "output_type": "stream",
     "text": [
      "Saving data in folder: '24-04 16:18'\n",
      "Done \n",
      "\n"
     ]
    },
    {
     "name": "stderr",
     "output_type": "stream",
     "text": [
      "chi = 13: 100%|██████████| 10/10 [01:21<00:00,  8.19s/it]\n"
     ]
    },
    {
     "name": "stdout",
     "output_type": "stream",
     "text": [
      "Saving data in folder: '24-04 16:18'\n",
      "Done \n",
      "\n"
     ]
    },
    {
     "name": "stderr",
     "output_type": "stream",
     "text": [
      "chi = 14: 100%|██████████| 10/10 [01:31<00:00,  9.14s/it]"
     ]
    },
    {
     "name": "stdout",
     "output_type": "stream",
     "text": [
      "Saving data in folder: '24-04 16:18'\n",
      "Done \n",
      "\n"
     ]
    },
    {
     "name": "stderr",
     "output_type": "stream",
     "text": [
      "\n"
     ]
    }
   ],
   "source": [
    "chi_range = range(1, 15)\n",
    "dir = new_folder()\n",
    "\n",
    "T_c = 2 / np.log(1 + np.sqrt(2))\n",
    "T_range = [T_c for _ in range(10)]\n",
    "for chi in chi_range:\n",
    "    data = sweep_T(\n",
    "        chi=chi,\n",
    "        T_range=T_range,\n",
    "        tol=1e-9,\n",
    "        max_steps=int(10e8),\n",
    "        use_prev=False,\n",
    "    )\n",
    "    save(data, dir)"
   ]
  },
  {
   "cell_type": "code",
   "execution_count": 21,
   "metadata": {},
   "outputs": [],
   "source": [
    "mean_mags, mean_xis, errors = [], [], []\n",
    "for chi in chi_range[1:]:\n",
    "    data = read(folder=dir, val=chi)\n",
    "    mags = compute(Prop.m, data)\n",
    "    corrs = compute(Prop.xi, data)\n",
    "\n",
    "    mean_xis.append(np.mean(corrs))\n",
    "    mean_mags.append(np.mean(mags))\n",
    "    errors.append(np.std(mags))"
   ]
  },
  {
   "cell_type": "code",
   "execution_count": 23,
   "metadata": {},
   "outputs": [
    {
     "data": {
      "image/png": "[encoded data removed]",
      "text/plain": [
       "<Figure size 700x500 with 1 Axes>"
      ]
     },
     "metadata": {},
     "output_type": "display_data"
    }
   ],
   "source": [
    "plt.figure(figsize=(7, 5))\n",
    "plt.errorbar(mean_xis, mean_mags, yerr = errors, fmt = \"x\", markersize=5)\n",
    "plt.xlabel(r\"$\\xi_{\\chi}$\", fontsize=15)\n",
    "plt.ylabel(\"$m$\", fontsize=15)\n",
    "plt.savefig(f\"data/{dir}/critical\")"
   ]
  },
  {
   "cell_type": "code",
   "execution_count": null,
   "metadata": {},
   "outputs": [],
   "source": []
  }
 ],
 "metadata": {
  "kernelspec": {
   "display_name": "venv",
   "language": "python",
   "name": "python3"
  },
  "language_info": {
   "codemirror_mode": {
    "name": "ipython",
    "version": 3
   },
   "file_extension": ".py",
   "mimetype": "text/x-python",
   "name": "python",
   "nbconvert_exporter": "python",
   "pygments_lexer": "ipython3",
   "version": "3.10.6"
  },
  "orig_nbformat": 4
 },
 "nbformat": 4,
 "nbformat_minor": 2
}
