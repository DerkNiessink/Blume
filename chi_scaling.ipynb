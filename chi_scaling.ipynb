{
 "cells": [
  {
   "cell_type": "code",
   "execution_count": 15,
   "metadata": {},
   "outputs": [],
   "source": [
    "import scienceplots\n",
    "import matplotlib.pyplot as plt\n",
    "import numpy as np\n",
    "from lmfit import Model\n",
    "\n",
    "from blume.process import read, compute\n",
    "from blume.run import Results, ModelParameters\n",
    "from blume.model.post_props import Prop\n",
    "\n",
    "plt.style.use(\"science\")\n",
    "plt.rcParams[\"text.usetex\"] = True"
   ]
  },
  {
   "cell_type": "code",
   "execution_count": 16,
   "metadata": {},
   "outputs": [
    {
     "name": "stderr",
     "output_type": "stream",
     "text": [
      "chi=10: 100%|██████████| 1/1 [00:05<00:00,  6.00s/it]\n"
     ]
    },
    {
     "name": "stdout",
     "output_type": "stream",
     "text": [
      "Saving data in folder: '26-04 15:05'\n",
      "Done \n",
      "\n"
     ]
    },
    {
     "name": "stderr",
     "output_type": "stream",
     "text": [
      "chi=11: 100%|██████████| 1/1 [00:08<00:00,  8.68s/it]\n"
     ]
    },
    {
     "name": "stdout",
     "output_type": "stream",
     "text": [
      "Saving data in folder: '26-04 15:05'\n",
      "Done \n",
      "\n"
     ]
    },
    {
     "name": "stderr",
     "output_type": "stream",
     "text": [
      "chi=12: 100%|██████████| 1/1 [00:06<00:00,  6.45s/it]\n"
     ]
    },
    {
     "name": "stdout",
     "output_type": "stream",
     "text": [
      "Saving data in folder: '26-04 15:05'\n",
      "Done \n",
      "\n"
     ]
    },
    {
     "name": "stderr",
     "output_type": "stream",
     "text": [
      "chi=13: 100%|██████████| 1/1 [00:08<00:00,  8.61s/it]\n"
     ]
    },
    {
     "name": "stdout",
     "output_type": "stream",
     "text": [
      "Saving data in folder: '26-04 15:05'\n",
      "Done \n",
      "\n"
     ]
    },
    {
     "name": "stderr",
     "output_type": "stream",
     "text": [
      "chi=14: 100%|██████████| 1/1 [00:09<00:00,  9.93s/it]\n"
     ]
    },
    {
     "name": "stdout",
     "output_type": "stream",
     "text": [
      "Saving data in folder: '26-04 15:05'\n",
      "Done \n",
      "\n"
     ]
    },
    {
     "name": "stderr",
     "output_type": "stream",
     "text": [
      "chi=15: 100%|██████████| 1/1 [00:15<00:00, 15.27s/it]\n"
     ]
    },
    {
     "name": "stdout",
     "output_type": "stream",
     "text": [
      "Saving data in folder: '26-04 15:05'\n",
      "Done \n",
      "\n"
     ]
    },
    {
     "name": "stderr",
     "output_type": "stream",
     "text": [
      "chi=16: 100%|██████████| 1/1 [00:18<00:00, 18.96s/it]\n"
     ]
    },
    {
     "name": "stdout",
     "output_type": "stream",
     "text": [
      "Saving data in folder: '26-04 15:05'\n",
      "Done \n",
      "\n"
     ]
    },
    {
     "name": "stderr",
     "output_type": "stream",
     "text": [
      "chi=17: 100%|██████████| 1/1 [00:13<00:00, 13.27s/it]\n"
     ]
    },
    {
     "name": "stdout",
     "output_type": "stream",
     "text": [
      "Saving data in folder: '26-04 15:05'\n",
      "Done \n",
      "\n"
     ]
    },
    {
     "name": "stderr",
     "output_type": "stream",
     "text": [
      "chi=18: 100%|██████████| 1/1 [00:21<00:00, 21.92s/it]\n"
     ]
    },
    {
     "name": "stdout",
     "output_type": "stream",
     "text": [
      "Saving data in folder: '26-04 15:05'\n",
      "Done \n",
      "\n"
     ]
    },
    {
     "name": "stderr",
     "output_type": "stream",
     "text": [
      "chi=19: 100%|██████████| 1/1 [00:24<00:00, 24.94s/it]\n"
     ]
    },
    {
     "name": "stdout",
     "output_type": "stream",
     "text": [
      "Saving data in folder: '26-04 15:05'\n",
      "Done \n",
      "\n"
     ]
    },
    {
     "name": "stderr",
     "output_type": "stream",
     "text": [
      "chi=20: 100%|██████████| 1/1 [00:28<00:00, 28.34s/it]\n"
     ]
    },
    {
     "name": "stdout",
     "output_type": "stream",
     "text": [
      "Saving data in folder: '26-04 15:05'\n",
      "Done \n",
      "\n"
     ]
    },
    {
     "name": "stderr",
     "output_type": "stream",
     "text": [
      "chi=21: 100%|██████████| 1/1 [00:28<00:00, 28.60s/it]\n"
     ]
    },
    {
     "name": "stdout",
     "output_type": "stream",
     "text": [
      "Saving data in folder: '26-04 15:05'\n",
      "Done \n",
      "\n"
     ]
    },
    {
     "name": "stderr",
     "output_type": "stream",
     "text": [
      "chi=22: 100%|██████████| 1/1 [00:28<00:00, 28.73s/it]\n"
     ]
    },
    {
     "name": "stdout",
     "output_type": "stream",
     "text": [
      "Saving data in folder: '26-04 15:05'\n",
      "Done \n",
      "\n"
     ]
    },
    {
     "name": "stderr",
     "output_type": "stream",
     "text": [
      "chi=23: 100%|██████████| 1/1 [00:24<00:00, 24.21s/it]\n"
     ]
    },
    {
     "name": "stdout",
     "output_type": "stream",
     "text": [
      "Saving data in folder: '26-04 15:05'\n",
      "Done \n",
      "\n"
     ]
    },
    {
     "name": "stderr",
     "output_type": "stream",
     "text": [
      "chi=24: 100%|██████████| 1/1 [00:34<00:00, 34.03s/it]"
     ]
    },
    {
     "name": "stdout",
     "output_type": "stream",
     "text": [
      "Saving data in folder: '26-04 15:05'\n",
      "Done \n",
      "\n"
     ]
    },
    {
     "name": "stderr",
     "output_type": "stream",
     "text": [
      "\n"
     ]
    }
   ],
   "source": [
    "T_c = 2 / np.log(1 + np.sqrt(2))\n",
    "chi_range = [chi for chi in range(10, 25)]\n",
    "params = ModelParameters(T_range=[T_c], tol=1e-9)\n",
    "result = Results(varying_param=\"chi\", range=chi_range)\n",
    "result.get(params)"
   ]
  },
  {
   "attachments": {},
   "cell_type": "markdown",
   "metadata": {},
   "source": [
    "## Finite $\\chi$ critical exponents"
   ]
  },
  {
   "cell_type": "code",
   "execution_count": 33,
   "metadata": {},
   "outputs": [],
   "source": [
    "mean_mags, mean_xis, errors = [], [], []\n",
    "dir = \"26-04 14:24\"\n",
    "for chi in range(3, 15):\n",
    "    data = read(folder=dir, fn=\"chi\", val=chi)\n",
    "    mags = compute(Prop.m, data)\n",
    "    corrs = compute(Prop.xi, data)\n",
    "\n",
    "    mean_xis.append(np.mean(corrs))\n",
    "    mean_mags.append(np.mean(mags))\n",
    "    errors.append(np.std(mags))"
   ]
  },
  {
   "cell_type": "code",
   "execution_count": 34,
   "metadata": {},
   "outputs": [
    {
     "data": {
      "image/png": "[encoded data removed]",
      "text/plain": [
       "<Figure size 700x500 with 1 Axes>"
      ]
     },
     "metadata": {},
     "output_type": "display_data"
    }
   ],
   "source": [
    "plt.figure(figsize=(7, 5))\n",
    "plt.errorbar(mean_xis, mean_mags, yerr = errors, fmt = \"x\", markersize=5)\n",
    "plt.xlabel(r\"$\\xi_{\\chi}$\", fontsize=15)\n",
    "plt.ylabel(\"$m$\", fontsize=15)\n",
    "plt.show()"
   ]
  },
  {
   "cell_type": "code",
   "execution_count": 35,
   "metadata": {},
   "outputs": [
    {
     "name": "stdout",
     "output_type": "stream",
     "text": [
      "[[Model]]\n",
      "    Model(<lambda>)\n",
      "[[Fit Statistics]]\n",
      "    # fitting method   = leastsq\n",
      "    # function evals   = 99\n",
      "    # data points      = 12\n",
      "    # variables        = 3\n",
      "    chi-square         = 1.4302e-04\n",
      "    reduced chi-square = 1.5891e-05\n",
      "    Akaike info crit   = -130.049541\n",
      "    Bayesian info crit = -128.594821\n",
      "    R-squared          = 0.99692803\n",
      "[[Variables]]\n",
      "    a:  0.18109316 +/- 0.03899829 (21.53%) (init = 0.5)\n",
      "    b:  0.15279441 +/- 0.07440563 (48.70%) (init = 0.5)\n",
      "    c:  0.64966341 +/- 0.05501486 (8.47%) (init = 0.5)\n",
      "[[Correlations]] (unreported correlations are < 0.100)\n",
      "    C(a, b) = +0.9966\n",
      "    C(b, c) = -0.9903\n",
      "    C(a, c) = -0.9758\n"
     ]
    },
    {
     "data": {
      "image/png": "[encoded data removed]",
      "text/plain": [
       "<Figure size 700x500 with 1 Axes>"
      ]
     },
     "metadata": {},
     "output_type": "display_data"
    }
   ],
   "source": [
    "model = Model(lambda x, a, b, c: c*x**(-a)+b)\n",
    "\n",
    "x, y = mean_xis, mean_mags\n",
    "\n",
    "params = model.make_params(a=0.5, b=0.5, c=0.5)\n",
    "result = model.fit(y, params, x=x)\n",
    "\n",
    "print(result.fit_report())\n",
    "\n",
    "plt.figure(figsize= (7, 5))\n",
    "plt.plot(x, y, 'x')\n",
    "plt.plot(x, result.best_fit, '-', label='best fit')\n",
    "plt.xlabel(r\"$\\xi_{\\chi}$\", fontsize=15)\n",
    "plt.ylabel(\"$m$\", fontsize=15)\n",
    "plt.legend()\n",
    "plt.show()"
   ]
  },
  {
   "cell_type": "code",
   "execution_count": 36,
   "metadata": {},
   "outputs": [
    {
     "name": "stdout",
     "output_type": "stream",
     "text": [
      "Obtained crit. exp.: 0.18109316050805802 +/- 0.03899829415272069\n",
      "exact crit. exp.: 0.125\n"
     ]
    }
   ],
   "source": [
    "print(f\"Obtained crit. exp.: {result.params['a'].value} +/- {result.params['a'].stderr}\")\n",
    "print(f\"exact crit. exp.: {1/8}\")"
   ]
  },
  {
   "attachments": {},
   "cell_type": "markdown",
   "metadata": {},
   "source": [
    "## Log transformation"
   ]
  },
  {
   "cell_type": "code",
   "execution_count": 37,
   "metadata": {},
   "outputs": [
    {
     "name": "stderr",
     "output_type": "stream",
     "text": [
      "/tmp/ipykernel_31753/389370505.py:3: RuntimeWarning: divide by zero encountered in scalar divide\n",
      "  log_errors = [m / err for (err, m) in zip(errors, mean_mags)]\n"
     ]
    }
   ],
   "source": [
    "log_xis = [np.log(xi) for xi in mean_xis]\n",
    "log_mags = [np.log(m) for m in mean_mags]"
   ]
  },
  {
   "cell_type": "code",
   "execution_count": 38,
   "metadata": {},
   "outputs": [
    {
     "name": "stdout",
     "output_type": "stream",
     "text": [
      "[[Model]]\n",
      "    Model(<lambda>)\n",
      "[[Fit Statistics]]\n",
      "    # fitting method   = leastsq\n",
      "    # function evals   = 7\n",
      "    # data points      = 12\n",
      "    # variables        = 2\n",
      "    chi-square         = 6.4107e-04\n",
      "    reduced chi-square = 6.4107e-05\n",
      "    Akaike info crit   = -114.047430\n",
      "    Bayesian info crit = -113.077616\n",
      "    R-squared          = 0.99654298\n",
      "[[Variables]]\n",
      "    a:  0.12492126 +/- 0.00232669 (1.86%) (init = 0.5)\n",
      "    b: -0.25723651 +/- 0.00930979 (3.62%) (init = 0.5)\n",
      "[[Correlations]] (unreported correlations are < 0.100)\n",
      "    C(a, b) = +0.9687\n"
     ]
    },
    {
     "data": {
      "image/png": "[encoded data removed]",
      "text/plain": [
       "<Figure size 700x500 with 1 Axes>"
      ]
     },
     "metadata": {},
     "output_type": "display_data"
    }
   ],
   "source": [
    "model = Model(lambda x, a, b: -a*x+b)\n",
    "\n",
    "x, y = log_xis, log_mags\n",
    "\n",
    "params = model.make_params(a=0.5, b=0.5)\n",
    "result = model.fit(y, params, x=x)\n",
    "\n",
    "print(result.fit_report())\n",
    "\n",
    "plt.figure(figsize= (7, 5))\n",
    "plt.plot(x, y, 'x')\n",
    "plt.plot(x, result.best_fit, '-', label='best fit')\n",
    "plt.xlabel(r\"$\\log(\\xi_{\\chi})$\", fontsize=15)\n",
    "plt.ylabel(\"$\\log(m)$\", fontsize=15)\n",
    "plt.legend()\n",
    "plt.show()"
   ]
  },
  {
   "cell_type": "code",
   "execution_count": 39,
   "metadata": {},
   "outputs": [
    {
     "name": "stdout",
     "output_type": "stream",
     "text": [
      "Obtained crit. exp.: 0.12492126372811509 +/- 0.0023266937640726263\n",
      "exact crit. exp.: 0.125\n"
     ]
    }
   ],
   "source": [
    "print(f\"Obtained crit. exp.: {result.params['a'].value} +/- {result.params['a'].stderr}\")\n",
    "print(f\"exact crit. exp.: {1/8}\")"
   ]
  },
  {
   "cell_type": "code",
   "execution_count": null,
   "metadata": {},
   "outputs": [],
   "source": []
  }
 ],
 "metadata": {
  "kernelspec": {
   "display_name": "venv",
   "language": "python",
   "name": "python3"
  },
  "language_info": {
   "codemirror_mode": {
    "name": "ipython",
    "version": 3
   },
   "file_extension": ".py",
   "mimetype": "text/x-python",
   "name": "python",
   "nbconvert_exporter": "python",
   "pygments_lexer": "ipython3",
   "version": "3.10.6"
  },
  "orig_nbformat": 4
 },
 "nbformat": 4,
 "nbformat_minor": 2
}
